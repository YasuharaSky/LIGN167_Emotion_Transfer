{
  "cells": [
    {
      "cell_type": "markdown",
      "metadata": {
        "colab_type": "text",
        "id": "view-in-github"
      },
      "source": [
        "<a href=\"https://colab.research.google.com/github/YasuharaSky/LIGN167_Emotion_Transfer/blob/main/Copy_of_LIGN167_project.ipynb\" target=\"_parent\"><img src=\"https://colab.research.google.com/assets/colab-badge.svg\" alt=\"Open In Colab\"/></a>"
      ]
    },
    {
      "cell_type": "markdown",
      "metadata": {
        "id": "2vVgt-x-XeHv"
      },
      "source": [
        "# LIGN167 Project"
      ]
    },
    {
      "cell_type": "code",
      "execution_count": null,
      "metadata": {
        "colab": {
          "base_uri": "https://localhost:8080/"
        },
        "id": "g-H0j1mhyfrM",
        "outputId": "0b4d8866-fbff-4928-b4ff-59b64231797e"
      },
      "outputs": [
        {
          "name": "stdout",
          "output_type": "stream",
          "text": [
            "Drive already mounted at /content/drive; to attempt to forcibly remount, call drive.mount(\"/content/drive\", force_remount=True).\n"
          ]
        }
      ],
      "source": [
        "from google.colab import drive\n",
        "drive.mount('/content/drive')"
      ]
    },
    {
      "cell_type": "code",
      "execution_count": null,
      "metadata": {
        "id": "k-NGrLq4zAqB"
      },
      "outputs": [],
      "source": [
        "import torch\n",
        "device = torch.device(\"cuda\" if torch.cuda.is_available() else \"cpu\")"
      ]
    },
    {
      "cell_type": "code",
      "execution_count": null,
      "metadata": {
        "id": "Z1vLTlUMksFP"
      },
      "outputs": [],
      "source": [
        "import pandas as pd\n",
        "import numpy as np\n",
        "from sklearn.model_selection import train_test_split\n",
        "\n",
        "\n",
        "data = pd.read_csv('/content/drive/My Drive/combined_emotions.csv')"
      ]
    },
    {
      "cell_type": "markdown",
      "metadata": {
        "id": "nJpjP9KCYlxz"
      },
      "source": [
        "## Import data from GoEmotion"
      ]
    },
    {
      "cell_type": "markdown",
      "metadata": {
        "id": "FErEh_OGQQWp"
      },
      "source": [
        "## Train-Validation-Test Split for task 1& task 2"
      ]
    },
    {
      "cell_type": "code",
      "execution_count": null,
      "metadata": {
        "id": "iZfRwHy21o-c"
      },
      "outputs": [],
      "source": [
        "import pandas as pd\n",
        "import os"
      ]
    },
    {
      "cell_type": "code",
      "execution_count": null,
      "metadata": {
        "id": "K9lCkdIpQTix"
      },
      "outputs": [],
      "source": [
        "def split_dataset(csv_path, train_size=0.7, val_size=0.15, test_size=0.15):\n",
        "  df = pd.read_csv(csv_path)\n",
        "\n",
        "  train_val, test = train_test_split(\n",
        "    df,\n",
        "    test_size=test_size,\n",
        "    stratify=df['emotion'],\n",
        "    random_state=42\n",
        "  )\n",
        "\n",
        "  relative_val_size = val_size / (train_size + val_size)\n",
        "  train, val = train_test_split(\n",
        "    train_val,\n",
        "    test_size=relative_val_size,\n",
        "    stratify=train_val['emotion'],\n",
        "    random_state=42\n",
        "  )\n",
        "\n",
        "  train.to_csv('/content/drive/My Drive/train_data.csv', index=False)\n",
        "  val.to_csv('/content/drive/My Drive/val_data.csv', index=False)\n",
        "  test.to_csv('/content/drive/My Drive/test_data.csv', index=False)\n",
        "\n",
        "  return train, val, test"
      ]
    },
    {
      "cell_type": "code",
      "execution_count": null,
      "metadata": {
        "id": "ePjS1hXbk6b1"
      },
      "outputs": [],
      "source": [
        "train, val, test = split_dataset('/content/drive/My Drive/combined_emotions.csv')"
      ]
    },
    {
      "cell_type": "markdown",
      "metadata": {
        "id": "J9wyYdUqsP-A"
      },
      "source": [
        "## Step 1. Sentiment Analysis"
      ]
    },
    {
      "cell_type": "code",
      "execution_count": null,
      "metadata": {
        "id": "36clhQAZsZp8"
      },
      "outputs": [],
      "source": [
        "from transformers import AutoTokenizer"
      ]
    },
    {
      "cell_type": "code",
      "execution_count": null,
      "metadata": {
        "id": "H3Fq_NV3s9T-"
      },
      "outputs": [],
      "source": [
        "from sklearn.model_selection import train_test_split\n",
        "\n",
        "train, test = train_test_split(data, test_size=0.2, stratify=data['emotion'])\n",
        "val, test = train_test_split(test, test_size=0.5, stratify=test['emotion'])"
      ]
    },
    {
      "cell_type": "code",
      "execution_count": null,
      "metadata": {
        "id": "CcOe6oOvuHQp"
      },
      "outputs": [],
      "source": [
        "from sklearn.preprocessing import LabelEncoder\n",
        "label_encoder = LabelEncoder()\n",
        "train['emotion_label'] = label_encoder.fit_transform(train['emotion'])\n",
        "val['emotion_label'] = label_encoder.transform(val['emotion'])\n",
        "test['emotion_label'] = label_encoder.transform(test['emotion'])"
      ]
    },
    {
      "cell_type": "code",
      "execution_count": null,
      "metadata": {
        "colab": {
          "base_uri": "https://localhost:8080/"
        },
        "id": "3i8M-QC73rOh",
        "outputId": "935713c1-d289-4b14-a9a9-7c3a294f5ffd"
      },
      "outputs": [
        {
          "name": "stdout",
          "output_type": "stream",
          "text": [
            "{0: 'anger', 1: 'caring', 2: 'confusion', 3: 'fear', 4: 'joy', 5: 'sadness'}\n"
          ]
        }
      ],
      "source": [
        "emotion_classes = dict(zip(range(len(label_encoder.classes_)), label_encoder.classes_))\n",
        "print(emotion_classes)"
      ]
    },
    {
      "cell_type": "code",
      "execution_count": null,
      "metadata": {
        "colab": {
          "base_uri": "https://localhost:8080/",
          "height": 272,
          "referenced_widgets": [
            "65e6e773620740c0955b354b734e728a",
            "4329b91d8d0c4f729584c63281c16b5f",
            "ce3239562b5745ed957492f364bf30d1",
            "877bd478eef34442825f62b2f95382bb",
            "987d954ca05f4e85b33cc12d19a6f245",
            "62a59d30eef64397ab03bae5ad1319b7",
            "57666389c0204db881b13c5eb92ea59c",
            "010790ec70c94d06b16db95c4b2ab293",
            "c310e8be48754d43b4dbec1439045673",
            "c0ad40fe409d43709881eb15d48eafa3",
            "b936fccfa7e44b9fa94bf5df010ea885",
            "9c6ce194087c4769b0aafb7b46018f7f",
            "7d24255070054141a6fe5c193a8972a0",
            "f6da86f22afa473399df18a4bd1b92ad",
            "c16a41810b2e43d8b086d3346559bcd7",
            "e07546f1d13a4ef6bdf075daced3cd8a",
            "ba4c42986c6a4f6e99e64807c8cd2433",
            "0ae3f0d23109423f97c69056459639ef",
            "42fe31c7f2034730a1def4072257903e",
            "a4cec2e140d4495794f0bec802d2281e",
            "cb1a42d3e9b8404b8b775ed15bf74020",
            "980dd265fa7342dbb60b18e49851769f",
            "1c14ee5325204739a08ced4a087ffa54",
            "d193808d1de34dd79366c1341d751872",
            "0d47087566244793a267f48256ec849b",
            "92b390fe29e743eea0d66b8d3feb2b33",
            "60cd15f40c934aff86b7cf6e25083b69",
            "315c2f8936334659bee5902def270cca",
            "c04e376cf34d49d59fe14bc512f8e367",
            "cd673fe74e70428ebd3c63cdb9eac585",
            "7447896cbdb544278dd083349980f51a",
            "19378421c59243dcab367523e5a744df",
            "f1706d2fdc2e429b9d5927821c61a8b2",
            "0891d787e798489c8bc8165a53a2c18c",
            "e65c0de9dcd343ab943425879525d5b3",
            "6fa5c05d248541e2942fda07a2d6ebe7",
            "01ecb94596f147228af5586459131bb9",
            "9b4e85fe3a5e4e8990f3a14fd329364d",
            "07f8cad0944c4b1db8edae19281c3e8b",
            "a37d381c8e02437caa72df1310e6ff55",
            "27ee1e26c70249288fe4dcf1eb31ed91",
            "035baa25e4d84b53be8b37dce6017e49",
            "3c4001d87f7c4b51bca7c2df33a80ca7",
            "09f221979d8346da9b4c15e1603ca891"
          ]
        },
        "id": "LhbtEBFJuRzL",
        "outputId": "45b0ec92-18f9-4643-8416-5acccca3f9f3"
      },
      "outputs": [
        {
          "name": "stderr",
          "output_type": "stream",
          "text": [
            "/usr/local/lib/python3.10/dist-packages/huggingface_hub/utils/_auth.py:94: UserWarning: \n",
            "The secret `HF_TOKEN` does not exist in your Colab secrets.\n",
            "To authenticate with the Hugging Face Hub, create a token in your settings tab (https://huggingface.co/settings/tokens), set it as secret in your Google Colab and restart your session.\n",
            "You will be able to reuse this secret in all of your notebooks.\n",
            "Please note that authentication is recommended but still optional to access public models or datasets.\n",
            "  warnings.warn(\n"
          ]
        },
        {
          "data": {
            "application/vnd.jupyter.widget-view+json": {
              "model_id": "65e6e773620740c0955b354b734e728a",
              "version_major": 2,
              "version_minor": 0
            },
            "text/plain": [
              "tokenizer_config.json:   0%|          | 0.00/48.0 [00:00<?, ?B/s]"
            ]
          },
          "metadata": {},
          "output_type": "display_data"
        },
        {
          "data": {
            "application/vnd.jupyter.widget-view+json": {
              "model_id": "9c6ce194087c4769b0aafb7b46018f7f",
              "version_major": 2,
              "version_minor": 0
            },
            "text/plain": [
              "config.json:   0%|          | 0.00/570 [00:00<?, ?B/s]"
            ]
          },
          "metadata": {},
          "output_type": "display_data"
        },
        {
          "data": {
            "application/vnd.jupyter.widget-view+json": {
              "model_id": "1c14ee5325204739a08ced4a087ffa54",
              "version_major": 2,
              "version_minor": 0
            },
            "text/plain": [
              "vocab.txt:   0%|          | 0.00/232k [00:00<?, ?B/s]"
            ]
          },
          "metadata": {},
          "output_type": "display_data"
        },
        {
          "data": {
            "application/vnd.jupyter.widget-view+json": {
              "model_id": "0891d787e798489c8bc8165a53a2c18c",
              "version_major": 2,
              "version_minor": 0
            },
            "text/plain": [
              "tokenizer.json:   0%|          | 0.00/466k [00:00<?, ?B/s]"
            ]
          },
          "metadata": {},
          "output_type": "display_data"
        }
      ],
      "source": [
        "from transformers import AutoTokenizer\n",
        "tokenizer = AutoTokenizer.from_pretrained(\"bert-base-uncased\")\n",
        "\n",
        "def tokenize_data(data):\n",
        "    return tokenizer(list(data['text']), padding=True, truncation=True, max_length=128, return_tensors=\"pt\")\n",
        "\n",
        "train_encodings = tokenize_data(train)\n",
        "val_encodings = tokenize_data(val)\n",
        "test_encodings = tokenize_data(test)"
      ]
    },
    {
      "cell_type": "code",
      "execution_count": null,
      "metadata": {
        "colab": {
          "base_uri": "https://localhost:8080/",
          "height": 105,
          "referenced_widgets": [
            "52886b6e96ae4cfb94dd2115cdd3a59c",
            "84800c697d554986a160300f9980cd63",
            "777fe42b2a6e472ebfcfcccb0b5175fa",
            "a99f80ce8f2d48c69b17d70ce79c2668",
            "227edf140c34497289a0c9f0ebcc5490",
            "a58f42ab772c486bae04847ec6e40bd7",
            "78b5373cf0d84c498d6ad64b10bbc503",
            "7efd0588e1784d41bc0fdd9149bbe251",
            "69a79868617a4e019387f450ea473965",
            "8dea99a683ac440e9f700aa3b4d94c68",
            "782a97bbb3a842d5843646ba8faae201"
          ]
        },
        "id": "6HvjDKOkusvc",
        "outputId": "2bc243a7-42a8-4254-bc28-6cc2035da5bb"
      },
      "outputs": [
        {
          "data": {
            "application/vnd.jupyter.widget-view+json": {
              "model_id": "52886b6e96ae4cfb94dd2115cdd3a59c",
              "version_major": 2,
              "version_minor": 0
            },
            "text/plain": [
              "model.safetensors:   0%|          | 0.00/440M [00:00<?, ?B/s]"
            ]
          },
          "metadata": {},
          "output_type": "display_data"
        },
        {
          "name": "stderr",
          "output_type": "stream",
          "text": [
            "Some weights of BertForSequenceClassification were not initialized from the model checkpoint at bert-base-uncased and are newly initialized: ['classifier.bias', 'classifier.weight']\n",
            "You should probably TRAIN this model on a down-stream task to be able to use it for predictions and inference.\n"
          ]
        }
      ],
      "source": [
        "from transformers import AutoModelForSequenceClassification\n",
        "model = AutoModelForSequenceClassification.from_pretrained(\"bert-base-uncased\", num_labels=6)"
      ]
    },
    {
      "cell_type": "code",
      "execution_count": null,
      "metadata": {
        "id": "hoLlt4lAvC_X"
      },
      "outputs": [],
      "source": [
        "import torch\n",
        "from torch.optim import AdamW\n",
        "optimizer = AdamW(model.parameters(), lr=5e-5)\n",
        "loss_fn = torch.nn.CrossEntropyLoss()"
      ]
    },
    {
      "cell_type": "code",
      "execution_count": null,
      "metadata": {
        "id": "4raaiDuAvQG0"
      },
      "outputs": [],
      "source": [
        "def train_epoch(model, train_loader, optimizer, loss_fn, device):\n",
        "    model.train()\n",
        "    total_loss = 0\n",
        "    for batch in tqdm(train_loader, desc=\"Training\"):\n",
        "        input_ids, attention_mask, labels = [b.to(device) for b in batch]\n",
        "\n",
        "        # forward\n",
        "        outputs = model(input_ids=input_ids, attention_mask=attention_mask)\n",
        "        loss = loss_fn(outputs.logits, labels)\n",
        "\n",
        "        # backward\n",
        "        optimizer.zero_grad()\n",
        "        loss.backward()\n",
        "        optimizer.step()\n",
        "\n",
        "        total_loss += loss.item()\n",
        "    return total_loss / len(train_loader)\n",
        "\n",
        "def validate_epoch(model, val_loader, loss_fn, device):\n",
        "    model.eval()\n",
        "    total_loss = 0\n",
        "    correct = 0\n",
        "    with torch.no_grad():\n",
        "        for batch in tqdm(val_loader, desc=\"Validating\"):\n",
        "            input_ids, attention_mask, labels = [b.to(device) for b in batch]\n",
        "\n",
        "            # forward\n",
        "            outputs = model(input_ids=input_ids, attention_mask=attention_mask)\n",
        "            loss = loss_fn(outputs.logits, labels)\n",
        "            total_loss += loss.item()\n",
        "\n",
        "            # accuracy\n",
        "            preds = torch.argmax(outputs.logits, dim=1)\n",
        "            correct += (preds == labels).sum().item()\n",
        "    accuracy = correct / len(val_loader.dataset)\n",
        "    return total_loss / len(val_loader), accuracy\n"
      ]
    },
    {
      "cell_type": "code",
      "execution_count": null,
      "metadata": {
        "colab": {
          "base_uri": "https://localhost:8080/"
        },
        "id": "tkO0avepz2oU",
        "outputId": "fc60d33b-f5ce-44b7-9ece-2721b713a6c6"
      },
      "outputs": [
        {
          "data": {
            "text/plain": [
              "BertForSequenceClassification(\n",
              "  (bert): BertModel(\n",
              "    (embeddings): BertEmbeddings(\n",
              "      (word_embeddings): Embedding(30522, 768, padding_idx=0)\n",
              "      (position_embeddings): Embedding(512, 768)\n",
              "      (token_type_embeddings): Embedding(2, 768)\n",
              "      (LayerNorm): LayerNorm((768,), eps=1e-12, elementwise_affine=True)\n",
              "      (dropout): Dropout(p=0.1, inplace=False)\n",
              "    )\n",
              "    (encoder): BertEncoder(\n",
              "      (layer): ModuleList(\n",
              "        (0-11): 12 x BertLayer(\n",
              "          (attention): BertAttention(\n",
              "            (self): BertSdpaSelfAttention(\n",
              "              (query): Linear(in_features=768, out_features=768, bias=True)\n",
              "              (key): Linear(in_features=768, out_features=768, bias=True)\n",
              "              (value): Linear(in_features=768, out_features=768, bias=True)\n",
              "              (dropout): Dropout(p=0.1, inplace=False)\n",
              "            )\n",
              "            (output): BertSelfOutput(\n",
              "              (dense): Linear(in_features=768, out_features=768, bias=True)\n",
              "              (LayerNorm): LayerNorm((768,), eps=1e-12, elementwise_affine=True)\n",
              "              (dropout): Dropout(p=0.1, inplace=False)\n",
              "            )\n",
              "          )\n",
              "          (intermediate): BertIntermediate(\n",
              "            (dense): Linear(in_features=768, out_features=3072, bias=True)\n",
              "            (intermediate_act_fn): GELUActivation()\n",
              "          )\n",
              "          (output): BertOutput(\n",
              "            (dense): Linear(in_features=3072, out_features=768, bias=True)\n",
              "            (LayerNorm): LayerNorm((768,), eps=1e-12, elementwise_affine=True)\n",
              "            (dropout): Dropout(p=0.1, inplace=False)\n",
              "          )\n",
              "        )\n",
              "      )\n",
              "    )\n",
              "    (pooler): BertPooler(\n",
              "      (dense): Linear(in_features=768, out_features=768, bias=True)\n",
              "      (activation): Tanh()\n",
              "    )\n",
              "  )\n",
              "  (dropout): Dropout(p=0.1, inplace=False)\n",
              "  (classifier): Linear(in_features=768, out_features=6, bias=True)\n",
              ")"
            ]
          },
          "execution_count": 16,
          "metadata": {},
          "output_type": "execute_result"
        }
      ],
      "source": [
        "model.to(device)"
      ]
    },
    {
      "cell_type": "code",
      "execution_count": null,
      "metadata": {
        "id": "_cujf0dexkAG"
      },
      "outputs": [],
      "source": [
        "from transformers import AutoTokenizer\n",
        "import torch\n",
        "from torch.utils.data import DataLoader, TensorDataset\n",
        "\n",
        "train_dataset = TensorDataset(train_encodings['input_ids'], train_encodings['attention_mask'], torch.tensor(train['emotion_label'].values))\n",
        "val_dataset = TensorDataset(val_encodings['input_ids'], val_encodings['attention_mask'], torch.tensor(val['emotion_label'].values))\n",
        "\n",
        "train_loader = DataLoader(train_dataset, batch_size=32, shuffle=True)\n",
        "val_loader = DataLoader(val_dataset, batch_size=32)\n"
      ]
    },
    {
      "cell_type": "code",
      "execution_count": null,
      "metadata": {
        "colab": {
          "base_uri": "https://localhost:8080/"
        },
        "id": "gK8mw7DD16fy",
        "outputId": "82383c12-7b3e-492f-8eb3-f9c5432ac7ee"
      },
      "outputs": [
        {
          "name": "stdout",
          "output_type": "stream",
          "text": [
            "Requirement already satisfied: tqdm in /usr/local/lib/python3.10/dist-packages (4.66.6)\n"
          ]
        }
      ],
      "source": [
        "!pip install tqdm  # Install tqdm if you haven't already\n",
        "from tqdm import tqdm  # Import tqdm into your script"
      ]
    },
    {
      "cell_type": "code",
      "execution_count": null,
      "metadata": {
        "colab": {
          "base_uri": "https://localhost:8080/"
        },
        "id": "m6Zckpr4wBb1",
        "outputId": "0f90fec2-edbd-4e46-d1fa-ef8c665930bd"
      },
      "outputs": [
        {
          "name": "stdout",
          "output_type": "stream",
          "text": [
            "Epoch 1/5\n"
          ]
        },
        {
          "name": "stderr",
          "output_type": "stream",
          "text": [
            "Training: 100%|██████████| 89/89 [00:09<00:00,  9.37it/s]\n"
          ]
        },
        {
          "name": "stdout",
          "output_type": "stream",
          "text": [
            "Training Loss: 0.4369\n"
          ]
        },
        {
          "name": "stderr",
          "output_type": "stream",
          "text": [
            "Validating: 100%|██████████| 12/12 [00:00<00:00, 42.45it/s]\n"
          ]
        },
        {
          "name": "stdout",
          "output_type": "stream",
          "text": [
            "Validation Loss: 0.0499, Accuracy: 0.9860\n",
            "Epoch 2/5\n"
          ]
        },
        {
          "name": "stderr",
          "output_type": "stream",
          "text": [
            "Training: 100%|██████████| 89/89 [00:07<00:00, 11.60it/s]\n"
          ]
        },
        {
          "name": "stdout",
          "output_type": "stream",
          "text": [
            "Training Loss: 0.0344\n"
          ]
        },
        {
          "name": "stderr",
          "output_type": "stream",
          "text": [
            "Validating: 100%|██████████| 12/12 [00:00<00:00, 57.64it/s]\n"
          ]
        },
        {
          "name": "stdout",
          "output_type": "stream",
          "text": [
            "Validation Loss: 0.0345, Accuracy: 0.9888\n",
            "Epoch 3/5\n"
          ]
        },
        {
          "name": "stderr",
          "output_type": "stream",
          "text": [
            "Training: 100%|██████████| 89/89 [00:07<00:00, 11.50it/s]\n"
          ]
        },
        {
          "name": "stdout",
          "output_type": "stream",
          "text": [
            "Training Loss: 0.0139\n"
          ]
        },
        {
          "name": "stderr",
          "output_type": "stream",
          "text": [
            "Validating: 100%|██████████| 12/12 [00:00<00:00, 58.30it/s]\n"
          ]
        },
        {
          "name": "stdout",
          "output_type": "stream",
          "text": [
            "Validation Loss: 0.0582, Accuracy: 0.9831\n",
            "Epoch 4/5\n"
          ]
        },
        {
          "name": "stderr",
          "output_type": "stream",
          "text": [
            "Training: 100%|██████████| 89/89 [00:07<00:00, 11.61it/s]\n"
          ]
        },
        {
          "name": "stdout",
          "output_type": "stream",
          "text": [
            "Training Loss: 0.0092\n"
          ]
        },
        {
          "name": "stderr",
          "output_type": "stream",
          "text": [
            "Validating: 100%|██████████| 12/12 [00:00<00:00, 57.89it/s]\n"
          ]
        },
        {
          "name": "stdout",
          "output_type": "stream",
          "text": [
            "Validation Loss: 0.0410, Accuracy: 0.9916\n",
            "Epoch 5/5\n"
          ]
        },
        {
          "name": "stderr",
          "output_type": "stream",
          "text": [
            "Training: 100%|██████████| 89/89 [00:07<00:00, 11.63it/s]\n"
          ]
        },
        {
          "name": "stdout",
          "output_type": "stream",
          "text": [
            "Training Loss: 0.0030\n"
          ]
        },
        {
          "name": "stderr",
          "output_type": "stream",
          "text": [
            "Validating: 100%|██████████| 12/12 [00:00<00:00, 56.14it/s]"
          ]
        },
        {
          "name": "stdout",
          "output_type": "stream",
          "text": [
            "Validation Loss: 0.0369, Accuracy: 0.9916\n"
          ]
        },
        {
          "name": "stderr",
          "output_type": "stream",
          "text": [
            "\n"
          ]
        }
      ],
      "source": [
        "device = torch.device(\"cuda\" if torch.cuda.is_available() else \"cpu\")\n",
        "model.to(device)\n",
        "\n",
        "epochs = 5\n",
        "for epoch in range(epochs):\n",
        "    print(f\"Epoch {epoch + 1}/{epochs}\")\n",
        "\n",
        "    # train\n",
        "    train_loss = train_epoch(model, train_loader, optimizer, loss_fn, device)\n",
        "    print(f\"Training Loss: {train_loss:.4f}\")\n",
        "\n",
        "    # valid\n",
        "    val_loss, val_accuracy = validate_epoch(model, val_loader, loss_fn, device)\n",
        "    print(f\"Validation Loss: {val_loss:.4f}, Accuracy: {val_accuracy:.4f}\")\n"
      ]
    },
    {
      "cell_type": "code",
      "execution_count": null,
      "metadata": {
        "colab": {
          "base_uri": "https://localhost:8080/"
        },
        "id": "2BGmJpeP0HQ2",
        "outputId": "7da1b083-3d45-465d-ad1e-b7afec5cea95"
      },
      "outputs": [
        {
          "data": {
            "text/plain": [
              "('emotion_classifier/tokenizer_config.json',\n",
              " 'emotion_classifier/special_tokens_map.json',\n",
              " 'emotion_classifier/vocab.txt',\n",
              " 'emotion_classifier/added_tokens.json',\n",
              " 'emotion_classifier/tokenizer.json')"
            ]
          },
          "execution_count": 20,
          "metadata": {},
          "output_type": "execute_result"
        }
      ],
      "source": [
        "model.save_pretrained(\"emotion_classifier\")\n",
        "tokenizer.save_pretrained(\"emotion_classifier\")"
      ]
    },
    {
      "cell_type": "code",
      "execution_count": null,
      "metadata": {
        "colab": {
          "base_uri": "https://localhost:8080/"
        },
        "id": "zqFGKgNt32gX",
        "outputId": "2cacfe95-3aed-472f-c2ec-2f7f2425a1bc"
      },
      "outputs": [
        {
          "name": "stdout",
          "output_type": "stream",
          "text": [
            "Sentence: I don't know how to do the homework\n",
            "Predicted Emotion Class: 3 (fear)\n"
          ]
        }
      ],
      "source": [
        "from transformers import AutoModelForSequenceClassification, AutoTokenizer\n",
        "import torch\n",
        "\n",
        "device = torch.device(\"cuda\" if torch.cuda.is_available() else \"cpu\")\n",
        "\n",
        "\n",
        "tokenizer = AutoTokenizer.from_pretrained(\"emotion_classifier\")\n",
        "model = AutoModelForSequenceClassification.from_pretrained(\"emotion_classifier\")\n",
        "model.to(device)\n",
        "\n",
        "\n",
        "emotion_classes = {0: 'anger', 1: 'caring', 2: 'confusion', 3: 'fear', 4: 'joy', 5: 'sadness'}\n",
        "\n",
        "test_sentence = \"I don't know how to do the homework\"\n",
        "inputs = tokenizer(test_sentence, return_tensors=\"pt\", padding=True, truncation=True)\n",
        "inputs = {key: val.to(device) for key, val in inputs.items()}\n",
        "\n",
        "outputs = model(**inputs)\n",
        "predicted_class = torch.argmax(outputs.logits, dim=1).item()\n",
        "\n",
        "print(f\"Sentence: {test_sentence}\")\n",
        "print(f\"Predicted Emotion Class: {predicted_class} ({emotion_classes[predicted_class]})\")\n"
      ]
    },
    {
      "cell_type": "markdown",
      "metadata": {
        "id": "oO_2aKBL4KQM"
      },
      "source": [
        "## STEP 2: Regression (Level Estimate)"
      ]
    },
    {
      "cell_type": "code",
      "execution_count": null,
      "metadata": {
        "id": "CzZWMxcG6QwK"
      },
      "outputs": [],
      "source": [
        "max_degree = train['intensity'].max()\n",
        "train['intensity'] = train['intensity'] / max_degree\n",
        "val['intensity'] = val['intensity'] / max_degree\n",
        "test['intensity'] = test['intensity'] / max_degree"
      ]
    },
    {
      "cell_type": "code",
      "execution_count": null,
      "metadata": {
        "id": "IwACA0U86w0E"
      },
      "outputs": [],
      "source": [
        "from transformers import AutoTokenizer\n",
        "tokenizer = AutoTokenizer.from_pretrained(\"bert-base-uncased\")\n",
        "\n",
        "def tokenize_data(data, tokenizer):\n",
        "    encodings = tokenizer(list(data['text']), padding=True, truncation=True, max_length=128, return_tensors=\"pt\")\n",
        "    labels = torch.tensor(data['intensity'].tolist(), dtype=torch.float)\n",
        "    return TensorDataset(encodings['input_ids'], encodings['attention_mask'], labels)\n",
        "\n",
        "train_dataset = tokenize_data(train, tokenizer)\n",
        "val_dataset = tokenize_data(val, tokenizer)\n",
        "test_dataset = tokenize_data(test, tokenizer)"
      ]
    },
    {
      "cell_type": "code",
      "execution_count": null,
      "metadata": {
        "id": "vmvCItbr6-yz"
      },
      "outputs": [],
      "source": [
        "from torch.utils.data import DataLoader\n",
        "\n",
        "train_loader = DataLoader(train_dataset, batch_size=16, shuffle=True)\n",
        "val_loader = DataLoader(val_dataset, batch_size=16)\n",
        "test_loader = DataLoader(test_dataset, batch_size=16)"
      ]
    },
    {
      "cell_type": "code",
      "execution_count": null,
      "metadata": {
        "id": "Otc7DOjw40np"
      },
      "outputs": [],
      "source": [
        "from transformers import AutoModel\n",
        "import torch.nn as nn\n",
        "\n",
        "class EmotionRegressor(nn.Module):\n",
        "    def __init__(self, model_name):\n",
        "        super(EmotionRegressor, self).__init__()\n",
        "        self.bert = AutoModel.from_pretrained(model_name)\n",
        "        self.regressor = nn.Linear(self.bert.config.hidden_size, 1)\n",
        "        self.dropout = nn.Dropout(0.1)\n",
        "\n",
        "    def forward(self, input_ids, attention_mask):\n",
        "        outputs = self.bert(input_ids=input_ids, attention_mask=attention_mask)\n",
        "        pooled_output = outputs.pooler_output\n",
        "        pooled_output = self.dropout(pooled_output)\n",
        "        logits = self.regressor(pooled_output)\n",
        "        return logits"
      ]
    },
    {
      "cell_type": "code",
      "execution_count": null,
      "metadata": {
        "id": "f33Cii5EgqEz"
      },
      "outputs": [],
      "source": [
        "class EmotionRegressor(nn.Module):\n",
        "    def __init__(self, model_name):\n",
        "        super(EmotionRegressor, self).__init__()\n",
        "        self.bert = AutoModel.from_pretrained(model_name)\n",
        "        self.regressor = nn.Linear(self.bert.config.hidden_size, 1)\n",
        "        self.dropout = nn.Dropout(0.1)\n",
        "\n",
        "    def forward(self, input_ids, attention_mask, token_type_ids=None, **kwargs):\n",
        "        outputs = self.bert(input_ids=input_ids, attention_mask=attention_mask)\n",
        "        pooled_output = outputs.pooler_output\n",
        "        pooled_output = self.dropout(pooled_output)\n",
        "        logits = self.regressor(pooled_output)\n",
        "        return logits"
      ]
    },
    {
      "cell_type": "code",
      "execution_count": null,
      "metadata": {
        "colab": {
          "base_uri": "https://localhost:8080/"
        },
        "id": "jXGCcF6z6ncO",
        "outputId": "2cc77052-77ba-457e-c956-e6c9cc09e348"
      },
      "outputs": [
        {
          "data": {
            "text/plain": [
              "EmotionRegressor(\n",
              "  (bert): BertModel(\n",
              "    (embeddings): BertEmbeddings(\n",
              "      (word_embeddings): Embedding(30522, 768, padding_idx=0)\n",
              "      (position_embeddings): Embedding(512, 768)\n",
              "      (token_type_embeddings): Embedding(2, 768)\n",
              "      (LayerNorm): LayerNorm((768,), eps=1e-12, elementwise_affine=True)\n",
              "      (dropout): Dropout(p=0.1, inplace=False)\n",
              "    )\n",
              "    (encoder): BertEncoder(\n",
              "      (layer): ModuleList(\n",
              "        (0-11): 12 x BertLayer(\n",
              "          (attention): BertAttention(\n",
              "            (self): BertSdpaSelfAttention(\n",
              "              (query): Linear(in_features=768, out_features=768, bias=True)\n",
              "              (key): Linear(in_features=768, out_features=768, bias=True)\n",
              "              (value): Linear(in_features=768, out_features=768, bias=True)\n",
              "              (dropout): Dropout(p=0.1, inplace=False)\n",
              "            )\n",
              "            (output): BertSelfOutput(\n",
              "              (dense): Linear(in_features=768, out_features=768, bias=True)\n",
              "              (LayerNorm): LayerNorm((768,), eps=1e-12, elementwise_affine=True)\n",
              "              (dropout): Dropout(p=0.1, inplace=False)\n",
              "            )\n",
              "          )\n",
              "          (intermediate): BertIntermediate(\n",
              "            (dense): Linear(in_features=768, out_features=3072, bias=True)\n",
              "            (intermediate_act_fn): GELUActivation()\n",
              "          )\n",
              "          (output): BertOutput(\n",
              "            (dense): Linear(in_features=3072, out_features=768, bias=True)\n",
              "            (LayerNorm): LayerNorm((768,), eps=1e-12, elementwise_affine=True)\n",
              "            (dropout): Dropout(p=0.1, inplace=False)\n",
              "          )\n",
              "        )\n",
              "      )\n",
              "    )\n",
              "    (pooler): BertPooler(\n",
              "      (dense): Linear(in_features=768, out_features=768, bias=True)\n",
              "      (activation): Tanh()\n",
              "    )\n",
              "  )\n",
              "  (regressor): Linear(in_features=768, out_features=1, bias=True)\n",
              "  (dropout): Dropout(p=0.1, inplace=False)\n",
              ")"
            ]
          },
          "execution_count": 27,
          "metadata": {},
          "output_type": "execute_result"
        }
      ],
      "source": [
        "device = torch.device(\"cuda\" if torch.cuda.is_available() else \"cpu\")\n",
        "model = EmotionRegressor(\"bert-base-uncased\")\n",
        "model.to(device)"
      ]
    },
    {
      "cell_type": "code",
      "execution_count": null,
      "metadata": {
        "id": "C2l7Yg197IBR"
      },
      "outputs": [],
      "source": [
        "from torch.optim import AdamW\n",
        "optimizer = AdamW(model.parameters(), lr=5e-5)\n",
        "loss_fn = nn.MSELoss()"
      ]
    },
    {
      "cell_type": "code",
      "execution_count": null,
      "metadata": {
        "id": "UGYjE_XT7X5G"
      },
      "outputs": [],
      "source": [
        "from tqdm import tqdm\n",
        "\n",
        "def train_epoch(model, train_loader, optimizer, loss_fn, device):\n",
        "    model.train()\n",
        "    total_loss = 0\n",
        "    for batch in tqdm(train_loader, desc=\"Training\"):\n",
        "        input_ids, attention_mask, labels = [b.to(device) for b in batch]\n",
        "\n",
        "        # forward\n",
        "        outputs = model(input_ids=input_ids, attention_mask=attention_mask).squeeze()\n",
        "        loss = loss_fn(outputs, labels)\n",
        "\n",
        "        # backward\n",
        "        optimizer.zero_grad()\n",
        "        loss.backward()\n",
        "        optimizer.step()\n",
        "\n",
        "        total_loss += loss.item()\n",
        "    return total_loss / len(train_loader)\n"
      ]
    },
    {
      "cell_type": "code",
      "execution_count": null,
      "metadata": {
        "id": "bEi27OLZ7ak5"
      },
      "outputs": [],
      "source": [
        "def validate_epoch(model, val_loader, loss_fn, device):\n",
        "    model.eval()\n",
        "    total_loss = 0\n",
        "    with torch.no_grad():\n",
        "        for batch in tqdm(val_loader, desc=\"Validating\"):\n",
        "            input_ids, attention_mask, labels = [b.to(device) for b in batch]\n",
        "            outputs = model(input_ids=input_ids, attention_mask=attention_mask).squeeze()\n",
        "            loss = loss_fn(outputs, labels)\n",
        "            total_loss += loss.item()\n",
        "    return total_loss / len(val_loader)"
      ]
    },
    {
      "cell_type": "code",
      "execution_count": null,
      "metadata": {
        "colab": {
          "base_uri": "https://localhost:8080/"
        },
        "id": "Q9vBmTyr7dgX",
        "outputId": "cb516fb3-94bc-4045-afc5-3fc0c57d6f31"
      },
      "outputs": [
        {
          "name": "stdout",
          "output_type": "stream",
          "text": [
            "Epoch 1/7\n"
          ]
        },
        {
          "name": "stderr",
          "output_type": "stream",
          "text": [
            "Training: 100%|██████████| 178/178 [00:09<00:00, 19.10it/s]\n"
          ]
        },
        {
          "name": "stdout",
          "output_type": "stream",
          "text": [
            "Training Loss: 0.0431\n"
          ]
        },
        {
          "name": "stderr",
          "output_type": "stream",
          "text": [
            "Validating: 100%|██████████| 23/23 [00:00<00:00, 86.94it/s]\n"
          ]
        },
        {
          "name": "stdout",
          "output_type": "stream",
          "text": [
            "Validation Loss: 0.0129\n",
            "Epoch 2/7\n"
          ]
        },
        {
          "name": "stderr",
          "output_type": "stream",
          "text": [
            "Training: 100%|██████████| 178/178 [00:08<00:00, 19.82it/s]\n"
          ]
        },
        {
          "name": "stdout",
          "output_type": "stream",
          "text": [
            "Training Loss: 0.0131\n"
          ]
        },
        {
          "name": "stderr",
          "output_type": "stream",
          "text": [
            "Validating: 100%|██████████| 23/23 [00:00<00:00, 88.79it/s]\n"
          ]
        },
        {
          "name": "stdout",
          "output_type": "stream",
          "text": [
            "Validation Loss: 0.0115\n",
            "Epoch 3/7\n"
          ]
        },
        {
          "name": "stderr",
          "output_type": "stream",
          "text": [
            "Training: 100%|██████████| 178/178 [00:09<00:00, 19.78it/s]\n"
          ]
        },
        {
          "name": "stdout",
          "output_type": "stream",
          "text": [
            "Training Loss: 0.0075\n"
          ]
        },
        {
          "name": "stderr",
          "output_type": "stream",
          "text": [
            "Validating: 100%|██████████| 23/23 [00:00<00:00, 88.72it/s]\n"
          ]
        },
        {
          "name": "stdout",
          "output_type": "stream",
          "text": [
            "Validation Loss: 0.0123\n",
            "Epoch 4/7\n"
          ]
        },
        {
          "name": "stderr",
          "output_type": "stream",
          "text": [
            "Training: 100%|██████████| 178/178 [00:09<00:00, 19.69it/s]\n"
          ]
        },
        {
          "name": "stdout",
          "output_type": "stream",
          "text": [
            "Training Loss: 0.0057\n"
          ]
        },
        {
          "name": "stderr",
          "output_type": "stream",
          "text": [
            "Validating: 100%|██████████| 23/23 [00:00<00:00, 87.51it/s]\n"
          ]
        },
        {
          "name": "stdout",
          "output_type": "stream",
          "text": [
            "Validation Loss: 0.0087\n",
            "Epoch 5/7\n"
          ]
        },
        {
          "name": "stderr",
          "output_type": "stream",
          "text": [
            "Training: 100%|██████████| 178/178 [00:09<00:00, 19.70it/s]\n"
          ]
        },
        {
          "name": "stdout",
          "output_type": "stream",
          "text": [
            "Training Loss: 0.0042\n"
          ]
        },
        {
          "name": "stderr",
          "output_type": "stream",
          "text": [
            "Validating: 100%|██████████| 23/23 [00:00<00:00, 89.23it/s]\n"
          ]
        },
        {
          "name": "stdout",
          "output_type": "stream",
          "text": [
            "Validation Loss: 0.0107\n",
            "Epoch 6/7\n"
          ]
        },
        {
          "name": "stderr",
          "output_type": "stream",
          "text": [
            "Training: 100%|██████████| 178/178 [00:09<00:00, 19.77it/s]\n"
          ]
        },
        {
          "name": "stdout",
          "output_type": "stream",
          "text": [
            "Training Loss: 0.0036\n"
          ]
        },
        {
          "name": "stderr",
          "output_type": "stream",
          "text": [
            "Validating: 100%|██████████| 23/23 [00:00<00:00, 89.01it/s]\n"
          ]
        },
        {
          "name": "stdout",
          "output_type": "stream",
          "text": [
            "Validation Loss: 0.0097\n",
            "Epoch 7/7\n"
          ]
        },
        {
          "name": "stderr",
          "output_type": "stream",
          "text": [
            "Training: 100%|██████████| 178/178 [00:09<00:00, 19.77it/s]\n"
          ]
        },
        {
          "name": "stdout",
          "output_type": "stream",
          "text": [
            "Training Loss: 0.0036\n"
          ]
        },
        {
          "name": "stderr",
          "output_type": "stream",
          "text": [
            "Validating: 100%|██████████| 23/23 [00:00<00:00, 88.89it/s]"
          ]
        },
        {
          "name": "stdout",
          "output_type": "stream",
          "text": [
            "Validation Loss: 0.0088\n"
          ]
        },
        {
          "name": "stderr",
          "output_type": "stream",
          "text": [
            "\n"
          ]
        }
      ],
      "source": [
        "epochs = 7\n",
        "for epoch in range(epochs):\n",
        "    print(f\"Epoch {epoch + 1}/{epochs}\")\n",
        "\n",
        "\n",
        "    train_loss = train_epoch(model, train_loader, optimizer, loss_fn, device)\n",
        "    print(f\"Training Loss: {train_loss:.4f}\")\n",
        "\n",
        "\n",
        "    val_loss = validate_epoch(model, val_loader, loss_fn, device)\n",
        "    print(f\"Validation Loss: {val_loss:.4f}\")\n"
      ]
    },
    {
      "cell_type": "code",
      "execution_count": null,
      "metadata": {
        "colab": {
          "base_uri": "https://localhost:8080/"
        },
        "id": "LE3Xb2P77kbu",
        "outputId": "2f09307d-7fc5-409b-8d95-5cd568295cec"
      },
      "outputs": [
        {
          "name": "stderr",
          "output_type": "stream",
          "text": [
            "Testing: 100%|██████████| 23/23 [00:00<00:00, 82.56it/s]"
          ]
        },
        {
          "name": "stdout",
          "output_type": "stream",
          "text": [
            "Predicted: 0.90, Actual: 0.90\n",
            "Predicted: 0.18, Actual: 0.20\n",
            "Predicted: 0.81, Actual: 0.80\n",
            "Predicted: 1.01, Actual: 1.00\n",
            "Predicted: 0.43, Actual: 0.40\n",
            "Predicted: 0.90, Actual: 1.00\n",
            "Predicted: 0.33, Actual: 0.30\n",
            "Predicted: 1.00, Actual: 1.00\n",
            "Predicted: 0.66, Actual: 0.50\n",
            "Predicted: 0.18, Actual: 0.10\n"
          ]
        },
        {
          "name": "stderr",
          "output_type": "stream",
          "text": [
            "\n"
          ]
        }
      ],
      "source": [
        "def test_model(model, test_loader, device):\n",
        "    model.eval()\n",
        "    predictions, true_values = [], []\n",
        "    with torch.no_grad():\n",
        "        for batch in tqdm(test_loader, desc=\"Testing\"):\n",
        "            input_ids, attention_mask, labels = [b.to(device) for b in batch]\n",
        "            outputs = model(input_ids=input_ids, attention_mask=attention_mask).squeeze()\n",
        "            predictions.extend(outputs.cpu().numpy())\n",
        "            true_values.extend(labels.cpu().numpy())\n",
        "    return predictions, true_values\n",
        "\n",
        "predictions, true_values = test_model(model, test_loader, device)\n",
        "\n",
        "\n",
        "for pred, true in zip(predictions[:10], true_values[:10]):\n",
        "    print(f\"Predicted: {pred:.2f}, Actual: {true:.2f}\")\n"
      ]
    },
    {
      "cell_type": "code",
      "execution_count": null,
      "metadata": {
        "colab": {
          "base_uri": "https://localhost:8080/"
        },
        "id": "1qdbcXNUJDn5",
        "outputId": "bc03dda7-d314-4e9f-862d-c8ff98792407"
      },
      "outputs": [
        {
          "name": "stdout",
          "output_type": "stream",
          "text": [
            "Model saved to emotion_regressor.pth\n"
          ]
        },
        {
          "name": "stderr",
          "output_type": "stream",
          "text": [
            "<ipython-input-33-6a1a8170a022>:27: FutureWarning: You are using `torch.load` with `weights_only=False` (the current default value), which uses the default pickle module implicitly. It is possible to construct malicious pickle data which will execute arbitrary code during unpickling (See https://github.com/pytorch/pytorch/blob/main/SECURITY.md#untrusted-models for more details). In a future release, the default value for `weights_only` will be flipped to `True`. This limits the functions that could be executed during unpickling. Arbitrary objects will no longer be allowed to be loaded via this mode unless they are explicitly allowlisted by the user via `torch.serialization.add_safe_globals`. We recommend you start setting `weights_only=True` for any use case where you don't have full control of the loaded file. Please open an issue on GitHub for any issues related to this experimental feature.\n",
            "  model.load_state_dict(torch.load(path, map_location=device))\n"
          ]
        },
        {
          "name": "stdout",
          "output_type": "stream",
          "text": [
            "Model loaded from emotion_regressor.pth\n",
            "Example output: tensor([[-0.1041]], device='cuda:0', grad_fn=<AddmmBackward0>)\n"
          ]
        }
      ],
      "source": [
        "from transformers import AutoModel\n",
        "import torch\n",
        "import torch.nn as nn\n",
        "\n",
        "# Define EmotionRegressor \n",
        "class EmotionRegressor(nn.Module):\n",
        "    def __init__(self, model_name):\n",
        "        super(EmotionRegressor, self).__init__()\n",
        "        self.bert = AutoModel.from_pretrained(model_name)\n",
        "        self.regressor = nn.Linear(self.bert.config.hidden_size, 1)\n",
        "        self.dropout = nn.Dropout(0.1)\n",
        "\n",
        "    def forward(self, input_ids, attention_mask, token_type_ids=None, **kwargs):\n",
        "        outputs = self.bert(input_ids=input_ids, attention_mask=attention_mask)\n",
        "        pooled_output = outputs.pooler_output\n",
        "        pooled_output = self.dropout(pooled_output)\n",
        "        logits = self.regressor(pooled_output)\n",
        "        return logits\n",
        "\n",
        "\n",
        "def save_model(model, path):\n",
        "    torch.save(model.state_dict(), path)\n",
        "    print(f\"Model saved to {path}\")\n",
        "\n",
        "\n",
        "def load_model(model, path, device):\n",
        "    model.load_state_dict(torch.load(path, map_location=device))\n",
        "    print(f\"Model loaded from {path}\")\n",
        "    return model\n",
        "\n",
        "\n",
        "device = torch.device(\"cuda\" if torch.cuda.is_available() else \"cpu\")\n",
        "\n",
        "\n",
        "model_name = \"bert-base-uncased\"\n",
        "model = EmotionRegressor(model_name).to(device)\n",
        "\n",
        "\n",
        "model_path = \"emotion_regressor.pth\"\n",
        "\n",
        "\n",
        "save_model(model, model_path)\n",
        "\n",
        "\n",
        "loaded_model = EmotionRegressor(model_name).to(device)\n",
        "loaded_model = load_model(loaded_model, model_path, device)\n",
        "\n",
        "\n",
        "loaded_model.eval()\n",
        "\n",
        "example_input_ids = torch.tensor([[101, 2054, 2003, 2115, 2171, 102]]).to(device)\n",
        "example_attention_mask = torch.tensor([[1, 1, 1, 1, 1, 1]]).to(device)\n",
        "example_output = loaded_model(input_ids=example_input_ids, attention_mask=example_attention_mask)\n",
        "print(f\"Example output: {example_output}\")\n"
      ]
    },
    {
      "cell_type": "markdown",
      "metadata": {
        "id": "iGpHI9G8EFwm"
      },
      "source": [
        "## Step 3 Doing emotion level change"
      ]
    },
    {
      "cell_type": "code",
      "execution_count": null,
      "metadata": {
        "colab": {
          "base_uri": "https://localhost:8080/"
        },
        "id": "44pXKQeHnkjR",
        "outputId": "e76df265-73ae-4d52-d0d3-d204aae3382d"
      },
      "outputs": [
        {
          "name": "stdout",
          "output_type": "stream",
          "text": [
            "Requirement already satisfied: transformers in /usr/local/lib/python3.10/dist-packages (4.46.3)\n",
            "Requirement already satisfied: torch in /usr/local/lib/python3.10/dist-packages (2.5.1+cu121)\n",
            "Requirement already satisfied: tqdm in /usr/local/lib/python3.10/dist-packages (4.66.6)\n",
            "Requirement already satisfied: filelock in /usr/local/lib/python3.10/dist-packages (from transformers) (3.16.1)\n",
            "Requirement already satisfied: huggingface-hub<1.0,>=0.23.2 in /usr/local/lib/python3.10/dist-packages (from transformers) (0.26.3)\n",
            "Requirement already satisfied: numpy>=1.17 in /usr/local/lib/python3.10/dist-packages (from transformers) (1.26.4)\n",
            "Requirement already satisfied: packaging>=20.0 in /usr/local/lib/python3.10/dist-packages (from transformers) (24.2)\n",
            "Requirement already satisfied: pyyaml>=5.1 in /usr/local/lib/python3.10/dist-packages (from transformers) (6.0.2)\n",
            "Requirement already satisfied: regex!=2019.12.17 in /usr/local/lib/python3.10/dist-packages (from transformers) (2024.9.11)\n",
            "Requirement already satisfied: requests in /usr/local/lib/python3.10/dist-packages (from transformers) (2.32.3)\n",
            "Requirement already satisfied: tokenizers<0.21,>=0.20 in /usr/local/lib/python3.10/dist-packages (from transformers) (0.20.3)\n",
            "Requirement already satisfied: safetensors>=0.4.1 in /usr/local/lib/python3.10/dist-packages (from transformers) (0.4.5)\n",
            "Requirement already satisfied: typing-extensions>=4.8.0 in /usr/local/lib/python3.10/dist-packages (from torch) (4.12.2)\n",
            "Requirement already satisfied: networkx in /usr/local/lib/python3.10/dist-packages (from torch) (3.4.2)\n",
            "Requirement already satisfied: jinja2 in /usr/local/lib/python3.10/dist-packages (from torch) (3.1.4)\n",
            "Requirement already satisfied: fsspec in /usr/local/lib/python3.10/dist-packages (from torch) (2024.10.0)\n",
            "Requirement already satisfied: sympy==1.13.1 in /usr/local/lib/python3.10/dist-packages (from torch) (1.13.1)\n",
            "Requirement already satisfied: mpmath<1.4,>=1.1.0 in /usr/local/lib/python3.10/dist-packages (from sympy==1.13.1->torch) (1.3.0)\n",
            "Requirement already satisfied: MarkupSafe>=2.0 in /usr/local/lib/python3.10/dist-packages (from jinja2->torch) (3.0.2)\n",
            "Requirement already satisfied: charset-normalizer<4,>=2 in /usr/local/lib/python3.10/dist-packages (from requests->transformers) (3.4.0)\n",
            "Requirement already satisfied: idna<4,>=2.5 in /usr/local/lib/python3.10/dist-packages (from requests->transformers) (3.10)\n",
            "Requirement already satisfied: urllib3<3,>=1.21.1 in /usr/local/lib/python3.10/dist-packages (from requests->transformers) (2.2.3)\n",
            "Requirement already satisfied: certifi>=2017.4.17 in /usr/local/lib/python3.10/dist-packages (from requests->transformers) (2024.8.30)\n",
            "Using device: cuda\n"
          ]
        }
      ],
      "source": [
        "\n",
        "import pandas as pd\n",
        "import numpy as np\n",
        "import torch\n",
        "import torch.nn as nn\n",
        "from torch.utils.data import Dataset, DataLoader\n",
        "from transformers import T5Tokenizer, T5ForConditionalGeneration, AdamW\n",
        "from transformers import get_linear_schedule_with_warmup\n",
        "from tqdm import tqdm\n",
        "import logging\n",
        "import os\n",
        "!pip install transformers torch tqdm\n",
        "\n",
        "\n",
        "device = torch.device('cuda' if torch.cuda.is_available() else 'cpu')\n",
        "print(f\"Using device: {device}\")\n"
      ]
    },
    {
      "cell_type": "code",
      "execution_count": null,
      "metadata": {
        "id": "tFxvtHGxrf40"
      },
      "outputs": [],
      "source": [
        "import pandas as pd\n",
        "\n",
        "data = pd.read_csv('/content/drive/My Drive/combined_emotions.csv')\n",
        "\n",
        "data['expected_intensity'] = data['intensity']\n"
      ]
    },
    {
      "cell_type": "code",
      "execution_count": null,
      "metadata": {
        "id": "RNs6ZrYcrgou"
      },
      "outputs": [],
      "source": [
        "def format_input(row):\n",
        "    return f\"adjust: {row['emotion']} | intensity: {row['expected_intensity']} | scenario: {row['scenario']}\"\n",
        "\n",
        "data['formatted_input'] = data.apply(format_input, axis=1)\n"
      ]
    },
    {
      "cell_type": "code",
      "execution_count": null,
      "metadata": {
        "id": "kKKTgwkzzk2o"
      },
      "outputs": [],
      "source": [
        "from sklearn.model_selection import train_test_split\n",
        "\n",
        "train, temp = train_test_split(data, test_size=0.3, random_state=42)\n",
        "val, test = train_test_split(temp, test_size=0.5, random_state=42)\n"
      ]
    },
    {
      "cell_type": "code",
      "execution_count": null,
      "metadata": {
        "colab": {
          "base_uri": "https://localhost:8080/",
          "height": 247,
          "referenced_widgets": [
            "bc15b8446b554cafa44728e1f349b6cf",
            "9fa7248291b44e85b0599b9f19f9bbe3",
            "ed6cc5f564154430a9ee960d23ab5a14",
            "f1085f3efa6640d783e8f855e2c9c1f6",
            "1af912d709e64632884e19500fcceb4c",
            "b721b99d33ab4e8eb7f02bcdb6d5c3bb",
            "8df399ad769b4de8aaf8859b4f1b656c",
            "333caf91449948a1bd5dc2b4359c2ec0",
            "864d8b9845a746ab9e80aefd540f474f",
            "28dc85292ac24f2e94802e6180fa6a65",
            "dcf694bdadf146eebd33626d7ff288bf",
            "f85d6bff832f4d538d26af9ec769fc39",
            "4561cd46242445e893182977f9ffc3f8",
            "914639858100424088bc868cafac9d52",
            "274338af39ab4b209131bbb4391f245f",
            "f88ed078b57f401ba6e6d75b71f1de52",
            "a92e07bfdf694ab8a00bd0393660fa9f",
            "6f2e25d4f56b46d5a90427453afa3e19",
            "7686de49fb0b4577bc3c0061735c2180",
            "5d50e2fb15474f84a1f16c3285152c83",
            "3ecbf26dae474ceca6f8b9ffd5eb7eb9",
            "ad2251631a08433b8739e3bf2cf62000",
            "f3dd0f8bafbb4ac7b1d740d9087f3cc8",
            "e88d84413c1c48a8acd51d395fd7e871",
            "f5a690ba8f3e49619793c8cc579b655f",
            "fd4f736253914281be6954ce959901a9",
            "458499d21a56467f8d7ad3889b441ce2",
            "200cab368a3a4978aa93d556312ef57f",
            "4f8380d9922946c795f96379ac47a231",
            "7f4a40d199b942f0ac93d70fcc0d5df1",
            "c6545bdd820441feb75c5a853dda81bd",
            "80cfb86ad81d4dd3a3aaa2057d07b2b0",
            "a89a509da51a4677bcfe3d006bf3eeca",
            "342d6ebe0dee4e9c979ecaec465f268d",
            "31271817d8234bcbaf0f171156587da7",
            "ffaa23e549b249498846491b90630c7b",
            "2493fc999e604b7193a78173dca10394",
            "9bd3962b5de54508874612d38acef0c7",
            "06fec77d224a4c80a80e8a2ac5784225",
            "4fd45941ad12453b94884b8e0f1ba720",
            "1c409b26c5904f64a5a56265bd294196",
            "14319dd852d14522ad980727b22fbda8",
            "51a3feba298641b8932fa3028fc78fd1",
            "12cb1c22178f41f3bd63c83b370f8c65",
            "55c28ef22a2444dab75b42146471b51d",
            "50834ee5558546ff966a430b58e64e00",
            "e9c7fe25c6cb4ccc93edb96c9ed4d126",
            "3296611fe59e48a0b3eaccd79c00b51b",
            "9f2cdb7911c041c7afa7b7cf60c441a1",
            "207d5710a27b4d3bb12de13d0351b27d",
            "1673bf8fd6ef4e0a9979dd11e8eab307",
            "38b7004636c54d0cb32fbe6229f906d0",
            "c85cef6f74a7490eb4f98b827b0f29f1",
            "0ca23d1043e348d1bf79e1f49661aa27",
            "75bb8c29199f434f9fadb59e20a15480",
            "04da9a9c778e411b9c13a34d58363bb6",
            "02a669c835cf4cc79e1e6f7feecfb273",
            "55ce559f616040ecbb27cd39ca9fa9ba",
            "52a57e1983a0426ba50f25c09b84223b",
            "0b8ce74d66774b58aa11c4446583ac90",
            "dfbd61331dc04607a2f8313ea5738758",
            "89e4dc9a039f4e8ab1e27748e0ee0270",
            "efc8ba0614f34b17ab81cdbf918e5320",
            "4088d016e742486c98598a624c225f21",
            "e32500e79cf0405cac720bb29b7a3f58",
            "e0765364c5d64c4f8884720a6cced6f2"
          ]
        },
        "id": "UJiW03L0zm0Z",
        "outputId": "f8e82101-d6e9-4ed6-a161-9a98099824b6"
      },
      "outputs": [
        {
          "data": {
            "application/vnd.jupyter.widget-view+json": {
              "model_id": "bc15b8446b554cafa44728e1f349b6cf",
              "version_major": 2,
              "version_minor": 0
            },
            "text/plain": [
              "tokenizer_config.json:   0%|          | 0.00/2.32k [00:00<?, ?B/s]"
            ]
          },
          "metadata": {},
          "output_type": "display_data"
        },
        {
          "data": {
            "application/vnd.jupyter.widget-view+json": {
              "model_id": "f85d6bff832f4d538d26af9ec769fc39",
              "version_major": 2,
              "version_minor": 0
            },
            "text/plain": [
              "spiece.model:   0%|          | 0.00/792k [00:00<?, ?B/s]"
            ]
          },
          "metadata": {},
          "output_type": "display_data"
        },
        {
          "data": {
            "application/vnd.jupyter.widget-view+json": {
              "model_id": "f3dd0f8bafbb4ac7b1d740d9087f3cc8",
              "version_major": 2,
              "version_minor": 0
            },
            "text/plain": [
              "tokenizer.json:   0%|          | 0.00/1.39M [00:00<?, ?B/s]"
            ]
          },
          "metadata": {},
          "output_type": "display_data"
        },
        {
          "name": "stderr",
          "output_type": "stream",
          "text": [
            "You are using the default legacy behaviour of the <class 'transformers.models.t5.tokenization_t5.T5Tokenizer'>. This is expected, and simply means that the `legacy` (previous) behavior will be used so nothing changes for you. If you want to use the new behaviour, set `legacy=False`. This should only be set if you understand what it means, and thoroughly read the reason why this was added as explained in https://github.com/huggingface/transformers/pull/24565\n"
          ]
        },
        {
          "data": {
            "application/vnd.jupyter.widget-view+json": {
              "model_id": "342d6ebe0dee4e9c979ecaec465f268d",
              "version_major": 2,
              "version_minor": 0
            },
            "text/plain": [
              "config.json:   0%|          | 0.00/1.21k [00:00<?, ?B/s]"
            ]
          },
          "metadata": {},
          "output_type": "display_data"
        },
        {
          "data": {
            "application/vnd.jupyter.widget-view+json": {
              "model_id": "55c28ef22a2444dab75b42146471b51d",
              "version_major": 2,
              "version_minor": 0
            },
            "text/plain": [
              "model.safetensors:   0%|          | 0.00/242M [00:00<?, ?B/s]"
            ]
          },
          "metadata": {},
          "output_type": "display_data"
        },
        {
          "data": {
            "application/vnd.jupyter.widget-view+json": {
              "model_id": "04da9a9c778e411b9c13a34d58363bb6",
              "version_major": 2,
              "version_minor": 0
            },
            "text/plain": [
              "generation_config.json:   0%|          | 0.00/147 [00:00<?, ?B/s]"
            ]
          },
          "metadata": {},
          "output_type": "display_data"
        }
      ],
      "source": [
        "from transformers import T5Tokenizer, T5ForConditionalGeneration\n",
        "\n",
        "tokenizer = T5Tokenizer.from_pretrained('t5-small')\n",
        "model = T5ForConditionalGeneration.from_pretrained('t5-small')\n"
      ]
    },
    {
      "cell_type": "code",
      "execution_count": null,
      "metadata": {
        "id": "rSxIC45lzpS6"
      },
      "outputs": [],
      "source": [
        "import torch\n",
        "from torch.utils.data import DataLoader, Dataset\n",
        "\n",
        "class EmotionDataset(Dataset):\n",
        "    def __init__(self, dataframe, tokenizer, max_length=128):\n",
        "        self.dataframe = dataframe\n",
        "        self.tokenizer = tokenizer\n",
        "        self.max_length = max_length\n",
        "\n",
        "    def __len__(self):\n",
        "        return len(self.dataframe)\n",
        "\n",
        "    def __getitem__(self, idx):\n",
        "        row = self.dataframe.iloc[idx]\n",
        "        inputs = self.tokenizer.encode_plus(\n",
        "            row['formatted_input'],\n",
        "            max_length=self.max_length,\n",
        "            padding='max_length',\n",
        "            truncation=True,\n",
        "            return_tensors=\"pt\"\n",
        "        )\n",
        "\n",
        "        same_scenario = self.dataframe[self.dataframe['scenario'] == row['scenario']]\n",
        "        target_row = same_scenario[same_scenario['intensity'] == row['expected_intensity']].iloc[0]\n",
        "        target = self.tokenizer.encode(\n",
        "            target_row['text'],\n",
        "            max_length=self.max_length,\n",
        "            padding='max_length',\n",
        "            truncation=True,\n",
        "            return_tensors=\"pt\"\n",
        "        )\n",
        "        return {\n",
        "            'input_ids': inputs['input_ids'].squeeze(),\n",
        "            'attention_mask': inputs['attention_mask'].squeeze(),\n",
        "            'labels': target.squeeze()\n",
        "        }\n",
        "\n",
        "train_dataset = EmotionDataset(train, tokenizer)\n",
        "val_dataset = EmotionDataset(val, tokenizer)\n",
        "\n",
        "train_loader = DataLoader(train_dataset, batch_size=8, shuffle=True)\n",
        "val_loader = DataLoader(val_dataset, batch_size=8)\n"
      ]
    },
    {
      "cell_type": "code",
      "execution_count": null,
      "metadata": {
        "colab": {
          "base_uri": "https://localhost:8080/"
        },
        "id": "CCmbgwtzzr-n",
        "outputId": "08c57709-9d15-44b2-8998-4337c135eb74"
      },
      "outputs": [
        {
          "name": "stderr",
          "output_type": "stream",
          "text": [
            "/usr/local/lib/python3.10/dist-packages/transformers/optimization.py:591: FutureWarning: This implementation of AdamW is deprecated and will be removed in a future version. Use the PyTorch implementation torch.optim.AdamW instead, or set `no_deprecation_warning=True` to disable this warning\n",
            "  warnings.warn(\n"
          ]
        }
      ],
      "source": [
        "from transformers import AdamW\n",
        "\n",
        "device = torch.device(\"cuda\" if torch.cuda.is_available() else \"cpu\")\n",
        "model.to(device)\n",
        "\n",
        "optimizer = AdamW(model.parameters(), lr=5e-5)\n"
      ]
    },
    {
      "cell_type": "code",
      "execution_count": null,
      "metadata": {
        "id": "tXsZQiXlzt1e"
      },
      "outputs": [],
      "source": [
        "from tqdm import tqdm\n",
        "\n",
        "def train_epoch(model, loader, optimizer, device):\n",
        "    model.train()\n",
        "    total_loss = 0\n",
        "    for batch in tqdm(loader, desc=\"Training\"):\n",
        "        input_ids = batch['input_ids'].to(device)\n",
        "        attention_mask = batch['attention_mask'].to(device)\n",
        "        labels = batch['labels'].to(device)\n",
        "\n",
        "        outputs = model(input_ids=input_ids, attention_mask=attention_mask, labels=labels)\n",
        "        loss = outputs.loss\n",
        "\n",
        "        optimizer.zero_grad()\n",
        "        loss.backward()\n",
        "        optimizer.step()\n",
        "\n",
        "        total_loss += loss.item()\n",
        "    return total_loss / len(loader)\n",
        "\n",
        "def validate_epoch(model, loader, device):\n",
        "    model.eval()\n",
        "    total_loss = 0\n",
        "    with torch.no_grad():\n",
        "        for batch in tqdm(loader, desc=\"Validating\"):\n",
        "            input_ids = batch['input_ids'].to(device)\n",
        "            attention_mask = batch['attention_mask'].to(device)\n",
        "            labels = batch['labels'].to(device)\n",
        "\n",
        "            outputs = model(input_ids=input_ids, attention_mask=attention_mask, labels=labels)\n",
        "            total_loss += outputs.loss.item()\n",
        "    return total_loss / len(loader)\n"
      ]
    },
    {
      "cell_type": "code",
      "execution_count": null,
      "metadata": {
        "colab": {
          "base_uri": "https://localhost:8080/"
        },
        "id": "eO-BAoqRzwxi",
        "outputId": "b499f478-d2da-4a46-b479-f31d4926c1a1"
      },
      "outputs": [
        {
          "name": "stdout",
          "output_type": "stream",
          "text": [
            "Epoch 1/7\n"
          ]
        },
        {
          "name": "stderr",
          "output_type": "stream",
          "text": [
            "Training:   0%|          | 0/312 [00:00<?, ?it/s]Passing a tuple of `past_key_values` is deprecated and will be removed in Transformers v4.48.0. You should pass an instance of `EncoderDecoderCache` instead, e.g. `past_key_values=EncoderDecoderCache.from_legacy_cache(past_key_values)`.\n",
            "Training: 100%|██████████| 312/312 [00:25<00:00, 12.21it/s]\n"
          ]
        },
        {
          "name": "stdout",
          "output_type": "stream",
          "text": [
            "Training Loss: 1.2869\n"
          ]
        },
        {
          "name": "stderr",
          "output_type": "stream",
          "text": [
            "Validating: 100%|██████████| 67/67 [00:02<00:00, 28.77it/s]\n"
          ]
        },
        {
          "name": "stdout",
          "output_type": "stream",
          "text": [
            "Validation Loss: 0.5334\n",
            "Epoch 2/7\n"
          ]
        },
        {
          "name": "stderr",
          "output_type": "stream",
          "text": [
            "Training: 100%|██████████| 312/312 [00:24<00:00, 12.91it/s]\n"
          ]
        },
        {
          "name": "stdout",
          "output_type": "stream",
          "text": [
            "Training Loss: 0.5239\n"
          ]
        },
        {
          "name": "stderr",
          "output_type": "stream",
          "text": [
            "Validating: 100%|██████████| 67/67 [00:02<00:00, 29.88it/s]\n"
          ]
        },
        {
          "name": "stdout",
          "output_type": "stream",
          "text": [
            "Validation Loss: 0.4336\n",
            "Epoch 3/7\n"
          ]
        },
        {
          "name": "stderr",
          "output_type": "stream",
          "text": [
            "Training: 100%|██████████| 312/312 [00:24<00:00, 12.92it/s]\n"
          ]
        },
        {
          "name": "stdout",
          "output_type": "stream",
          "text": [
            "Training Loss: 0.4177\n"
          ]
        },
        {
          "name": "stderr",
          "output_type": "stream",
          "text": [
            "Validating: 100%|██████████| 67/67 [00:02<00:00, 30.09it/s]\n"
          ]
        },
        {
          "name": "stdout",
          "output_type": "stream",
          "text": [
            "Validation Loss: 0.3328\n",
            "Epoch 4/7\n"
          ]
        },
        {
          "name": "stderr",
          "output_type": "stream",
          "text": [
            "Training: 100%|██████████| 312/312 [00:24<00:00, 12.85it/s]\n"
          ]
        },
        {
          "name": "stdout",
          "output_type": "stream",
          "text": [
            "Training Loss: 0.3569\n"
          ]
        },
        {
          "name": "stderr",
          "output_type": "stream",
          "text": [
            "Validating: 100%|██████████| 67/67 [00:02<00:00, 29.51it/s]\n"
          ]
        },
        {
          "name": "stdout",
          "output_type": "stream",
          "text": [
            "Validation Loss: 0.3121\n",
            "Epoch 5/7\n"
          ]
        },
        {
          "name": "stderr",
          "output_type": "stream",
          "text": [
            "Training: 100%|██████████| 312/312 [00:24<00:00, 12.90it/s]\n"
          ]
        },
        {
          "name": "stdout",
          "output_type": "stream",
          "text": [
            "Training Loss: 0.3316\n"
          ]
        },
        {
          "name": "stderr",
          "output_type": "stream",
          "text": [
            "Validating: 100%|██████████| 67/67 [00:02<00:00, 29.07it/s]\n"
          ]
        },
        {
          "name": "stdout",
          "output_type": "stream",
          "text": [
            "Validation Loss: 0.2973\n",
            "Epoch 6/7\n"
          ]
        },
        {
          "name": "stderr",
          "output_type": "stream",
          "text": [
            "Training: 100%|██████████| 312/312 [00:24<00:00, 12.83it/s]\n"
          ]
        },
        {
          "name": "stdout",
          "output_type": "stream",
          "text": [
            "Training Loss: 0.3160\n"
          ]
        },
        {
          "name": "stderr",
          "output_type": "stream",
          "text": [
            "Validating: 100%|██████████| 67/67 [00:02<00:00, 29.17it/s]\n"
          ]
        },
        {
          "name": "stdout",
          "output_type": "stream",
          "text": [
            "Validation Loss: 0.2858\n",
            "Epoch 7/7\n"
          ]
        },
        {
          "name": "stderr",
          "output_type": "stream",
          "text": [
            "Training: 100%|██████████| 312/312 [00:24<00:00, 12.91it/s]\n"
          ]
        },
        {
          "name": "stdout",
          "output_type": "stream",
          "text": [
            "Training Loss: 0.3030\n"
          ]
        },
        {
          "name": "stderr",
          "output_type": "stream",
          "text": [
            "Validating: 100%|██████████| 67/67 [00:02<00:00, 29.66it/s]\n"
          ]
        },
        {
          "name": "stdout",
          "output_type": "stream",
          "text": [
            "Validation Loss: 0.2769\n"
          ]
        },
        {
          "data": {
            "text/plain": [
              "('t5_emotion_adjuster/tokenizer_config.json',\n",
              " 't5_emotion_adjuster/special_tokens_map.json',\n",
              " 't5_emotion_adjuster/spiece.model',\n",
              " 't5_emotion_adjuster/added_tokens.json')"
            ]
          },
          "execution_count": 42,
          "metadata": {},
          "output_type": "execute_result"
        }
      ],
      "source": [
        "epochs = 7\n",
        "for epoch in range(epochs):\n",
        "    print(f\"Epoch {epoch + 1}/{epochs}\")\n",
        "\n",
        "    train_loss = train_epoch(model, train_loader, optimizer, device)\n",
        "    print(f\"Training Loss: {train_loss:.4f}\")\n",
        "\n",
        "    val_loss = validate_epoch(model, val_loader, device)\n",
        "    print(f\"Validation Loss: {val_loss:.4f}\")\n",
        "\n",
        "model.save_pretrained(\"t5_emotion_adjuster\")\n",
        "tokenizer.save_pretrained(\"t5_emotion_adjuster\")\n"
      ]
    },
    {
      "cell_type": "code",
      "execution_count": null,
      "metadata": {
        "colab": {
          "base_uri": "https://localhost:8080/"
        },
        "id": "7G1MqI8VzzKj",
        "outputId": "9b61453d-8d5b-4317-a068-0105109f0e68"
      },
      "outputs": [
        {
          "name": "stderr",
          "output_type": "stream",
          "text": [
            "Testing:   1%|▏         | 1/67 [00:00<00:26,  2.47it/s]"
          ]
        },
        {
          "name": "stdout",
          "output_type": "stream",
          "text": [
            "Original: adjust: sadness | intensity: 7 | scenario: I had to cancel plans I was really looking forward to\n",
            "Generated: I felt a little nervous about how much I needed to do.\n",
            "==================================================\n",
            "Original: adjust: caring | intensity: 9 | scenario: Your friend Rachel is struggling with anxiety attacks\n",
            "Generated: Your anxiety and anxiety are my biggest concern - I'm here to help you overcome this anxiety.\n",
            "==================================================\n",
            "Original: adjust: caring | intensity: 8 | scenario: Your coworker is struggling after losing their home in a fire\n",
            "Generated: I’m apprehensive about how much they’re struggling.\n",
            "==================================================\n",
            "Original: adjust: confusion | intensity: 1 | scenario: You're figuring out if someone's flirting or just being nice\n",
            "Generated: I'm apprehensive about how they're flirting.\n",
            "==================================================\n",
            "Original: adjust: fear | intensity: 3 | scenario: Experiencing an earthquake while inside a building\n",
            "Generated: I’m apprehensive about how they’re going to be.\n",
            "==================================================\n",
            "Original: adjust: joy | intensity: 2 | scenario: I took a perfect photo of a beautiful moment\n",
            "Generated: I felt a little awed, thinking about how I could see it.\n",
            "==================================================\n",
            "Original: adjust: joy | intensity: 2 | scenario: My favorite sports team won the championship\n",
            "Generated: I felt a little nervous about the championship.\n",
            "==================================================\n",
            "Original: adjust: joy | intensity: 10 | scenario: I received a heartfelt thank-you note from someone I helped\n",
            "Generated: I felt a small sense of gratitude.\n",
            "==================================================\n"
          ]
        },
        {
          "name": "stderr",
          "output_type": "stream",
          "text": [
            "\rTesting:   3%|▎         | 2/67 [00:00<00:23,  2.75it/s]"
          ]
        },
        {
          "name": "stdout",
          "output_type": "stream",
          "text": [
            "Original: adjust: confusion | intensity: 10 | scenario: You're assembling a child's toy\n",
            "Generated: I'm apprehensive about how they're doing.\n",
            "==================================================\n",
            "Original: adjust: confusion | intensity: 5 | scenario: You're analyzing ancient astronomical records\n",
            "Generated: I'm apprehensive about how ancient history is.\n",
            "==================================================\n",
            "Original: adjust: caring | intensity: 10 | scenario: Your autistic child is being transferred to a new school\n",
            "Generated: I’m apprehensive about how they’re going to be.\n",
            "==================================================\n",
            "Original: adjust: anger | intensity: 9 | scenario: Receiving unfair criticism from a boss\n",
            "Generated: I’m apprehensive about how unfair it is.\n",
            "==================================================\n",
            "Original: adjust: confusion | intensity: 6 | scenario: You're dealing with passive-aggressive coworkers\n",
            "Generated: I'm apprehensive about how they're doing.\n",
            "==================================================\n",
            "Original: adjust: anger | intensity: 10 | scenario: A computer crashing during important work\n",
            "Generated: I’m apprehensive about how much I’ll do.\n",
            "==================================================\n",
            "Original: adjust: confusion | intensity: 7 | scenario: You're learning origami techniques\n",
            "Generated: I'm apprehensive about how to use origami techniques.\n",
            "==================================================\n",
            "Original: adjust: anger | intensity: 1 | scenario: A stranger cutting in line\n",
            "Generated: I’m apprehensive about how they’re going to get through this.\n",
            "==================================================\n"
          ]
        },
        {
          "name": "stderr",
          "output_type": "stream",
          "text": [
            "\rTesting:   4%|▍         | 3/67 [00:01<00:23,  2.75it/s]"
          ]
        },
        {
          "name": "stdout",
          "output_type": "stream",
          "text": [
            "Original: adjust: caring | intensity: 2 | scenario: Your young niece is being bullied for her disability\n",
            "Generated: Your strength and strength are my priority - I'm here to help you overcome this problem.\n",
            "==================================================\n",
            "Original: adjust: caring | intensity: 8 | scenario: Your friend David is going through a difficult divorce\n",
            "Generated: Your life is my life - I'm here to help you navigate this difficult divorce.\n",
            "==================================================\n",
            "Original: adjust: sadness | intensity: 5 | scenario: I heard a song that reminded me of a difficult time\n",
            "Generated: I felt a little agitated, feeling a little more like a song.\n",
            "==================================================\n",
            "Original: adjust: caring | intensity: 6 | scenario: Your child's teacher is battling health issues while teaching\n",
            "Generated: Your health and wellbeing are important to me - I'm here to help you stay safe and secure.\n",
            "==================================================\n",
            "Original: adjust: joy | intensity: 3 | scenario: I woke up to the smell of my favorite breakfast\n",
            "Generated: I felt a little a little nervous, feeling like I was enjoying the breakfast.\n",
            "==================================================\n",
            "Original: adjust: fear | intensity: 10 | scenario: Being confronted by a stray\n",
            "Generated: I’m apprehensive about how they’re dealing with this.\n",
            "==================================================\n",
            "Original: adjust: sadness | intensity: 8 | scenario: I didn’t get invited to a gathering my friends were attending\n",
            "Generated: I felt a little nervous about being invited to a gathering.\n",
            "==================================================\n",
            "Original: adjust: anger | intensity: 1 | scenario: A hacker or scammer accessing your accounts\n",
            "Generated: I’m apprehensive about how they’re doing.\n",
            "==================================================\n"
          ]
        },
        {
          "name": "stderr",
          "output_type": "stream",
          "text": [
            "\rTesting:   6%|▌         | 4/67 [00:01<00:22,  2.75it/s]"
          ]
        },
        {
          "name": "stdout",
          "output_type": "stream",
          "text": [
            "Original: adjust: caring | intensity: 7 | scenario: Your teenage neighbor is struggling with their sexual identity\n",
            "Generated: Your sexual identity is my priority - I'm here to help you find your way through this.\n",
            "==================================================\n",
            "Original: adjust: fear | intensity: 4 | scenario: Noticing a stranger closely watching or following you\n",
            "Generated: I’m apprehensive about how they’re watching.\n",
            "==================================================\n",
            "Original: adjust: fear | intensity: 6 | scenario: Smelling smoke in your home but not knowing the source\n",
            "Generated: I’m apprehensive about how they’re going to get into trouble.\n",
            "==================================================\n",
            "Original: adjust: sadness | intensity: 8 | scenario: I had to part ways with a pet I could no longer care for\n",
            "Generated: I felt a little apprehensive about how much I needed to care for.\n",
            "==================================================\n",
            "Original: adjust: fear | intensity: 10 | scenario: Walking alone at night in an unfamiliar neighborhood\n",
            "Generated: I’m apprehensive about how much I’ll do.\n",
            "==================================================\n",
            "Original: adjust: confusion | intensity: 9 | scenario: You're studying fractal mathematics\n",
            "Generated: I'm apprehensive about how to solve this problem.\n",
            "==================================================\n",
            "Original: adjust: anger | intensity: 6 | scenario: A parking spot being stolen at the last moment\n",
            "Generated: I’m apprehensive about the dangers of a parking spot.\n",
            "==================================================\n",
            "Original: adjust: sadness | intensity: 8 | scenario: I couldn’t attend a loved one’s special event due to an emergency\n",
            "Generated: I felt a little agitated, feeling a little apprehensive.\n",
            "==================================================\n"
          ]
        },
        {
          "name": "stderr",
          "output_type": "stream",
          "text": [
            "\rTesting:   7%|▋         | 5/67 [00:01<00:22,  2.81it/s]"
          ]
        },
        {
          "name": "stdout",
          "output_type": "stream",
          "text": [
            "Original: adjust: fear | intensity: 5 | scenario: Finding a large spider crawling on your bed\n",
            "Generated: I’m apprehensive about how they’re crawling.\n",
            "==================================================\n",
            "Original: adjust: anger | intensity: 9 | scenario: Being left out of a team meeting or decision\n",
            "Generated: I’m apprehensive about how they’re going to affect my decision.\n",
            "==================================================\n",
            "Original: adjust: sadness | intensity: 5 | scenario: I couldn’t attend a loved one’s special event due to an emergency\n",
            "Generated: I felt a small sense of sadness, feeling a small sense of sadness.\n",
            "==================================================\n",
            "Original: adjust: anger | intensity: 10 | scenario: Receiving unfair criticism from a boss\n",
            "Generated: I’m apprehensive about how unfair it is.\n",
            "==================================================\n",
            "Original: adjust: sadness | intensity: 1 | scenario: I felt nostalgic for a time when life felt simpler\n",
            "Generated: I felt a little nostalgic about how much I needed to do.\n",
            "==================================================\n",
            "Original: adjust: caring | intensity: 2 | scenario: Your mentor is retiring after guiding you for years\n",
            "Generated: Your journey is my journey - I'm here to help you through this journey.\n",
            "==================================================\n",
            "Original: adjust: confusion | intensity: 7 | scenario: You're watching experimental theater\n",
            "Generated: I'm apprehensive about how they're doing.\n",
            "==================================================\n",
            "Original: adjust: sadness | intensity: 1 | scenario: I watched a sad documentary about a social issue\n",
            "Generated: I felt a little sad thinking about how they’re dealing with this.\n",
            "==================================================\n"
          ]
        },
        {
          "name": "stderr",
          "output_type": "stream",
          "text": [
            "\rTesting:   9%|▉         | 6/67 [00:02<00:21,  2.86it/s]"
          ]
        },
        {
          "name": "stdout",
          "output_type": "stream",
          "text": [
            "Original: adjust: sadness | intensity: 9 | scenario: I moved to a new city and felt lonely without my old friends\n",
            "Generated: I felt a small sense of sadness, feeling like I was in a new city.\n",
            "==================================================\n",
            "Original: adjust: anger | intensity: 10 | scenario: Excessive honking in a traffic jam\n",
            "Generated: I’m apprehensive about how much I’ll do.\n",
            "==================================================\n",
            "Original: adjust: joy | intensity: 4 | scenario: My favorite song played on the radio just as I turned it on\n",
            "Generated: I felt a little nervous about how much I loved it.\n",
            "==================================================\n",
            "Original: adjust: anger | intensity: 3 | scenario: Graffiti or vandalism in a public park\n",
            "Generated: I’m apprehensive about how they’re doing.\n",
            "==================================================\n",
            "Original: adjust: sadness | intensity: 10 | scenario: I remembered a promise I couldn’t keep\n",
            "Generated: I felt a small sense of sadness, feeling like I was a little overwhelmed.\n",
            "==================================================\n",
            "Original: adjust: joy | intensity: 7 | scenario: My favorite sports team won the championship\n",
            "Generated: I felt a little nervous about how much I needed to win.\n",
            "==================================================\n",
            "Original: adjust: confusion | intensity: 4 | scenario: You're studying advanced philosophy\n",
            "Generated: I'm apprehensive about how they're doing.\n",
            "==================================================\n",
            "Original: adjust: joy | intensity: 1 | scenario: My favorite song played on the radio just as I turned it on\n",
            "Generated: I felt a little nervous about how much I loved it.\n",
            "==================================================\n"
          ]
        },
        {
          "name": "stderr",
          "output_type": "stream",
          "text": [
            "\rTesting:  10%|█         | 7/67 [00:02<00:21,  2.76it/s]"
          ]
        },
        {
          "name": "stdout",
          "output_type": "stream",
          "text": [
            "Original: adjust: anger | intensity: 10 | scenario: Fake news being shared widely\n",
            "Generated: I’m apprehensive about how they’re sharing this.\n",
            "==================================================\n",
            "Original: adjust: fear | intensity: 1 | scenario: Experiencing an earthquake while inside a building\n",
            "Generated: I’m apprehensive about how to deal with this.\n",
            "==================================================\n",
            "Original: adjust: anger | intensity: 2 | scenario: A friend taking credit for your idea\n",
            "Generated: I’m apprehensive about how much you’re doing.\n",
            "==================================================\n",
            "Original: adjust: joy | intensity: 9 | scenario: I saw the first snow of the season\n",
            "Generated: I felt a little a little nervous, thinking about how much snow I’d had.\n",
            "==================================================\n",
            "Original: adjust: anger | intensity: 6 | scenario: Incorrect orders at a restaurant or online\n",
            "Generated: I’m apprehensive about how they’re doing.\n",
            "==================================================\n",
            "Original: adjust: anger | intensity: 2 | scenario: A coworker failing to complete their share of work\n",
            "Generated: I’m apprehensive about how they’re doing.\n",
            "==================================================\n",
            "Original: adjust: joy | intensity: 10 | scenario: I won a small lottery prize or raffle\n",
            "Generated: I felt a small sense of sadness, feeling like I was a little overwhelmed.\n",
            "==================================================\n",
            "Original: adjust: sadness | intensity: 6 | scenario: I felt unappreciated after working hard on something for others\n",
            "Generated: I felt a small sense of sadness, feeling like I’d been able to do something for them.\n",
            "==================================================\n"
          ]
        },
        {
          "name": "stderr",
          "output_type": "stream",
          "text": [
            "\rTesting:  12%|█▏        | 8/67 [00:02<00:20,  2.81it/s]"
          ]
        },
        {
          "name": "stdout",
          "output_type": "stream",
          "text": [
            "Original: adjust: fear | intensity: 9 | scenario: Forgetting to study for an important exam\n",
            "Generated: I’m apprehensive about how much I’ll do.\n",
            "==================================================\n",
            "Original: adjust: caring | intensity: 6 | scenario: Your nephew is being deployed for military service\n",
            "Generated: Your service is my responsibility - I'm here to help you through this journey.\n",
            "==================================================\n",
            "Original: adjust: sadness | intensity: 2 | scenario: I had to let go of something I worked hard to achieve\n",
            "Generated: I felt a little agitated, feeling like I was doing something hard.\n",
            "==================================================\n",
            "Original: adjust: fear | intensity: 7 | scenario: Dropping your phone into water\n",
            "Generated: I’m apprehensive about how they’re going to get into water.\n",
            "==================================================\n",
            "Original: adjust: anger | intensity: 5 | scenario: A waiter bringing the wrong order multiple times\n",
            "Generated: I’m apprehensive about how they’re doing.\n",
            "==================================================\n",
            "Original: adjust: anger | intensity: 4 | scenario: Being micromanaged by a superior\n",
            "Generated: I’m apprehensive about how they’re managed.\n",
            "==================================================\n",
            "Original: adjust: anger | intensity: 4 | scenario: Someone undervaluing your efforts in a project\n",
            "Generated: I’m apprehensive about how much I’ll do.\n",
            "==================================================\n",
            "Original: adjust: confusion | intensity: 1 | scenario: You're trying to read body language in a job interview\n",
            "Generated: I'm apprehensive about how to read body language.\n",
            "==================================================\n"
          ]
        },
        {
          "name": "stderr",
          "output_type": "stream",
          "text": [
            "\rTesting:  13%|█▎        | 9/67 [00:03<00:20,  2.79it/s]"
          ]
        },
        {
          "name": "stdout",
          "output_type": "stream",
          "text": [
            "Original: adjust: caring | intensity: 10 | scenario: Your teenage neighbor is struggling with their sexual identity\n",
            "Generated: Your sexual identity is my priority - I'm here to help you find your way through this.\n",
            "==================================================\n",
            "Original: adjust: confusion | intensity: 3 | scenario: Your close friend suddenly starts acting distant\n",
            "Generated: I’m apprehensive about how they’re going to be.\n",
            "==================================================\n",
            "Original: adjust: sadness | intensity: 6 | scenario: I realized I forgot to say goodbye to someone before they moved away\n",
            "Generated: I felt a small sense of sadness, thinking about how I felt.\n",
            "==================================================\n",
            "Original: adjust: caring | intensity: 10 | scenario: Your friend Peter lost his job during the pandemic\n",
            "Generated: I’m apprehensive about how much they’re doing.\n",
            "==================================================\n",
            "Original: adjust: anger | intensity: 9 | scenario: A toddler throwing a tantrum in public\n",
            "Generated: I’m apprehensive about how they’re doing.\n",
            "==================================================\n",
            "Original: adjust: anger | intensity: 5 | scenario: A partner breaking a promise\n",
            "Generated: I’m apprehensive about how they’re going to break the promise.\n",
            "==================================================\n",
            "Original: adjust: fear | intensity: 6 | scenario: Getting ghosted by a close friend or partner\n",
            "Generated: I’m apprehensive about how they’re going to be.\n",
            "==================================================\n",
            "Original: adjust: confusion | intensity: 1 | scenario: You're analyzing political game theory\n",
            "Generated: I'm apprehensive about how to solve this problem.\n",
            "==================================================\n"
          ]
        },
        {
          "name": "stderr",
          "output_type": "stream",
          "text": [
            "\rTesting:  15%|█▍        | 10/67 [00:03<00:19,  2.85it/s]"
          ]
        },
        {
          "name": "stdout",
          "output_type": "stream",
          "text": [
            "Original: adjust: caring | intensity: 2 | scenario: Your elderly neighbor Mrs. Thompson just lost her husband\n",
            "Generated: Your heart is my heart - I'm here to help you through this difficult time.\n",
            "==================================================\n",
            "Original: adjust: confusion | intensity: 5 | scenario: You're reading between the lines in family group chat\n",
            "Generated: I'm apprehensive about how they're doing.\n",
            "==================================================\n",
            "Original: adjust: joy | intensity: 8 | scenario: I got a promotion at work\n",
            "Generated: I felt a little nervous about how much I needed to do.\n",
            "==================================================\n",
            "Original: adjust: anger | intensity: 10 | scenario: Overcrowding due to poor event management\n",
            "Generated: I’m apprehensive about how much I’ll do.\n",
            "==================================================\n",
            "Original: adjust: fear | intensity: 8 | scenario: Being confronted by a stray\n",
            "Generated: I’m apprehensive about how they’re dealing with this.\n",
            "==================================================\n",
            "Original: adjust: anger | intensity: 9 | scenario: Receiving spam emails or calls constantly\n",
            "Generated: I’m apprehensive about how they’re responding.\n",
            "==================================================\n",
            "Original: adjust: joy | intensity: 5 | scenario: I received a surprise care package from a friend\n",
            "Generated: I felt a little nervous, feeling like I was in awe.\n",
            "==================================================\n",
            "Original: adjust: fear | intensity: 6 | scenario: Being stuck in an elevator\n",
            "Generated: I’m apprehensive about how to get stuck.\n",
            "==================================================\n"
          ]
        },
        {
          "name": "stderr",
          "output_type": "stream",
          "text": [
            "\rTesting:  16%|█▋        | 11/67 [00:03<00:19,  2.82it/s]"
          ]
        },
        {
          "name": "stdout",
          "output_type": "stream",
          "text": [
            "Original: adjust: joy | intensity: 9 | scenario: I received an unexpected scholarship\n",
            "Generated: I felt a little nervous about the unexpected.\n",
            "==================================================\n",
            "Original: adjust: caring | intensity: 2 | scenario: Your friend Peter lost his job during the pandemic\n",
            "Generated: Your life is my life - I'm here to help you through this.\n",
            "==================================================\n",
            "Original: adjust: anger | intensity: 9 | scenario: Sibling rivalry escalating into arguments\n",
            "Generated: I’m apprehensive about how they’re going to be.\n",
            "==================================================\n",
            "Original: adjust: caring | intensity: 9 | scenario: Your single-parent friend is facing eviction\n",
            "Generated: I’m apprehensive about how they’re going to be affected by this.\n",
            "==================================================\n",
            "Original: adjust: confusion | intensity: 4 | scenario: You're interpreting a child's imaginary friend situation\n",
            "Generated: I'm apprehensive about how they're doing.\n",
            "==================================================\n",
            "Original: adjust: confusion | intensity: 10 | scenario: Your close friend suddenly starts acting distant\n",
            "Generated: I’m apprehensive about how they’re going to be.\n",
            "==================================================\n",
            "Original: adjust: fear | intensity: 7 | scenario: Realizing you accidentally sent an embarrassing email or text\n",
            "Generated: I’m apprehensive about how embarrassing it is.\n",
            "==================================================\n",
            "Original: adjust: sadness | intensity: 2 | scenario: I received bad news from a family member\n",
            "Generated: I felt a little irritated, feeling like I was in awe.\n",
            "==================================================\n"
          ]
        },
        {
          "name": "stderr",
          "output_type": "stream",
          "text": [
            "\rTesting:  18%|█▊        | 12/67 [00:04<00:18,  2.93it/s]"
          ]
        },
        {
          "name": "stdout",
          "output_type": "stream",
          "text": [
            "Original: adjust: confusion | intensity: 9 | scenario: You're trying to read body language in a job interview\n",
            "Generated: I'm apprehensive about how to read body language.\n",
            "==================================================\n",
            "Original: adjust: confusion | intensity: 1 | scenario: You're studying medieval warfare tactics\n",
            "Generated: I'm apprehensive about how to use medieval tactics.\n",
            "==================================================\n",
            "Original: adjust: sadness | intensity: 3 | scenario: I learned a sad story about someone’s past\n",
            "Generated: I felt a little sad thinking about how they’d gone.\n",
            "==================================================\n",
            "Original: adjust: fear | intensity: 8 | scenario: Watching a loved one drown without knowing how to help\n",
            "Generated: I’m apprehensive about how to help.\n",
            "==================================================\n",
            "Original: adjust: anger | intensity: 6 | scenario: A loud argument disturbing a peaceful environment\n",
            "Generated: I’m apprehensive about how they’re doing.\n",
            "==================================================\n",
            "Original: adjust: confusion | intensity: 3 | scenario: You're playing a new board game\n",
            "Generated: I'm apprehensive about how they're playing.\n",
            "==================================================\n",
            "Original: adjust: sadness | intensity: 2 | scenario: I failed to meet my own expectations for a project\n",
            "Generated: I felt a small sense of disappointment.\n",
            "==================================================\n",
            "Original: adjust: confusion | intensity: 3 | scenario: Your friend explains a complex sci-fi movie plot\n",
            "Generated: Your story is a bit confusing, but I’ll try to explain it.\n",
            "==================================================\n"
          ]
        },
        {
          "name": "stderr",
          "output_type": "stream",
          "text": [
            "\rTesting:  19%|█▉        | 13/67 [00:04<00:18,  2.88it/s]"
          ]
        },
        {
          "name": "stdout",
          "output_type": "stream",
          "text": [
            "Original: adjust: anger | intensity: 10 | scenario: A partner dismissing your feelings in an argument\n",
            "Generated: I’m apprehensive about how they’re feeling.\n",
            "==================================================\n",
            "Original: adjust: anger | intensity: 5 | scenario: Someone talking loudly in a quiet space\n",
            "Generated: I’m apprehensive about how loud they’re talking.\n",
            "==================================================\n",
            "Original: adjust: sadness | intensity: 7 | scenario: I wasn’t chosen for the team I really wanted to join\n",
            "Generated: I felt a small sense of sadness, feeling like I was missing out.\n",
            "==================================================\n",
            "Original: adjust: sadness | intensity: 2 | scenario: I found out someone I admire doesn’t feel the same about me\n",
            "Generated: I felt a little irritated, feeling like I’d never felt the same.\n",
            "==================================================\n",
            "Original: adjust: fear | intensity: 3 | scenario: Entering a dark parking garage alone\n",
            "Generated: I’m apprehensive about how much I’ll do.\n",
            "==================================================\n",
            "Original: adjust: sadness | intensity: 5 | scenario: I learned about the passing of a beloved public figure\n",
            "Generated: I felt a small sense of sadness, feeling like I was a part of the world.\n",
            "==================================================\n",
            "Original: adjust: joy | intensity: 4 | scenario: I made a new friend who shares my interests\n",
            "Generated: I felt a little apprehensive about how they’d communicate.\n",
            "==================================================\n",
            "Original: adjust: sadness | intensity: 9 | scenario: I received bad news from a family member\n",
            "Generated: I felt a little irritated, feeling like I was in awe.\n",
            "==================================================\n"
          ]
        },
        {
          "name": "stderr",
          "output_type": "stream",
          "text": [
            "\rTesting:  21%|██        | 14/67 [00:04<00:18,  2.94it/s]"
          ]
        },
        {
          "name": "stdout",
          "output_type": "stream",
          "text": [
            "Original: adjust: joy | intensity: 10 | scenario: I woke up to the smell of my favorite breakfast\n",
            "Generated: I felt a little a little nervous, feeling like I was enjoying the breakfast.\n",
            "==================================================\n",
            "Original: adjust: anger | intensity: 5 | scenario: Fake news being shared widely\n",
            "Generated: I’m apprehensive about how they’re sharing this.\n",
            "==================================================\n",
            "Original: adjust: joy | intensity: 9 | scenario: I completed my first marathon\n",
            "Generated: I felt a little nervous about how I felt.\n",
            "==================================================\n",
            "Original: adjust: fear | intensity: 2 | scenario: Noticing a stranger closely watching or following you\n",
            "Generated: I’m apprehensive about how they’re watching.\n",
            "==================================================\n",
            "Original: adjust: sadness | intensity: 2 | scenario: I had to say goodbye to a cherished place from my childhood\n",
            "Generated: I felt a small sense of sadness, feeling like I was surrounded by memories.\n",
            "==================================================\n",
            "Original: adjust: sadness | intensity: 3 | scenario: I received bad news from a family member\n",
            "Generated: I felt a small sense of sadness, feeling like I was a little overwhelmed.\n",
            "==================================================\n",
            "Original: adjust: confusion | intensity: 6 | scenario: You're studying genetic inheritance\n",
            "Generated: I'm apprehensive about how genetic inheritance works.\n",
            "==================================================\n",
            "Original: adjust: anger | intensity: 2 | scenario: A company failing to honor a warranty\n",
            "Generated: I’m annoyed that they’re not able to honor my warranty.\n",
            "==================================================\n"
          ]
        },
        {
          "name": "stderr",
          "output_type": "stream",
          "text": [
            "\rTesting:  22%|██▏       | 15/67 [00:05<00:18,  2.85it/s]"
          ]
        },
        {
          "name": "stdout",
          "output_type": "stream",
          "text": [
            "Original: adjust: sadness | intensity: 5 | scenario: I saw a touching story about someone overcoming great loss\n",
            "Generated: I felt a small sense of sadness, feeling like I was a little overwhelmed.\n",
            "==================================================\n",
            "Original: adjust: caring | intensity: 1 | scenario: Your child's teacher is battling health issues while teaching\n",
            "Generated: Your health and wellbeing are important to me - I'm here to help you stay safe and secure.\n",
            "==================================================\n",
            "Original: adjust: anger | intensity: 7 | scenario: A child being bullied at school\n",
            "Generated: I’m apprehensive about how they’re going to be bullied.\n",
            "==================================================\n",
            "Original: adjust: fear | intensity: 5 | scenario: Seeing a tornado or natural disaster approaching\n",
            "Generated: I’m apprehensive about how they’re approaching.\n",
            "==================================================\n",
            "Original: adjust: caring | intensity: 9 | scenario: Your high school student is having panic attacks before exams\n",
            "Generated: I’m apprehensive about how they’re going to help you get through this.\n",
            "==================================================\n",
            "Original: adjust: sadness | intensity: 2 | scenario: I failed an important exam despite studying hard\n",
            "Generated: I felt a little nervous about how hard it was.\n",
            "==================================================\n",
            "Original: adjust: anger | intensity: 3 | scenario: Missing a bus or train due to delays\n",
            "Generated: I’m apprehensive about how long it takes to get there.\n",
            "==================================================\n",
            "Original: adjust: confusion | intensity: 9 | scenario: You're studying crystal formation patterns\n",
            "Generated: I'm apprehensive about how crystal formation patterns are.\n",
            "==================================================\n"
          ]
        },
        {
          "name": "stderr",
          "output_type": "stream",
          "text": [
            "\rTesting:  24%|██▍       | 16/67 [00:05<00:17,  2.92it/s]"
          ]
        },
        {
          "name": "stdout",
          "output_type": "stream",
          "text": [
            "Original: adjust: fear | intensity: 6 | scenario: Forgetting someone’s name during an important introduction\n",
            "Generated: I’m apprehensive about how they’re doing.\n",
            "==================================================\n",
            "Original: adjust: fear | intensity: 8 | scenario: Hearing a strange noise in your house at night\n",
            "Generated: I’m apprehensive about how they’re doing.\n",
            "==================================================\n",
            "Original: adjust: caring | intensity: 7 | scenario: Your roommate is going through a financial crisis\n",
            "Generated: I’m apprehensive about how much you’re going through.\n",
            "==================================================\n",
            "Original: adjust: caring | intensity: 10 | scenario: Your coworker James recently came out and is facing discrimination at work\n",
            "Generated: I’m apprehensive about how they’re dealing with discrimination.\n",
            "==================================================\n",
            "Original: adjust: anger | intensity: 1 | scenario: Miscommunication caused by autocorrect\n",
            "Generated: I’m apprehensive about how they’re doing.\n",
            "==================================================\n",
            "Original: adjust: anger | intensity: 1 | scenario: Discovering broken household items without an explanation\n",
            "Generated: I’m apprehensive about how they’re going to be.\n",
            "==================================================\n",
            "Original: adjust: joy | intensity: 10 | scenario: I discovered a $20 bill in an old jacket pocket\n",
            "Generated: I felt a small sense of sadness, thinking about how much I needed to pay.\n",
            "==================================================\n",
            "Original: adjust: anger | intensity: 9 | scenario: A software update removing important features\n",
            "Generated: I’m apprehensive about how they’re working.\n",
            "==================================================\n"
          ]
        },
        {
          "name": "stderr",
          "output_type": "stream",
          "text": [
            "\rTesting:  25%|██▌       | 17/67 [00:05<00:17,  2.91it/s]"
          ]
        },
        {
          "name": "stdout",
          "output_type": "stream",
          "text": [
            "Original: adjust: confusion | intensity: 4 | scenario: You're learning origami techniques\n",
            "Generated: I'm apprehensive about how to use origami techniques.\n",
            "==================================================\n",
            "Original: adjust: joy | intensity: 5 | scenario: I finally solved a tricky problem I’d been stuck on\n",
            "Generated: I felt a little overwhelmed, thinking about how I could solve it.\n",
            "==================================================\n",
            "Original: adjust: sadness | intensity: 7 | scenario: I felt ignored in a group conversation\n",
            "Generated: I felt a small sense of sadness, feeling a small sense of sadness.\n",
            "==================================================\n",
            "Original: adjust: joy | intensity: 7 | scenario: I finally adopted the puppy I’ve always wanted\n",
            "Generated: I felt a little apprehensive about how I’d adopted them.\n",
            "==================================================\n",
            "Original: adjust: caring | intensity: 6 | scenario: Your aging pet is facing health problems\n",
            "Generated: Your health and wellness are my priority - I'm here to help you stay healthy.\n",
            "==================================================\n",
            "Original: adjust: sadness | intensity: 10 | scenario: I felt stuck in a difficult situation with no clear solution\n",
            "Generated: I felt a small sense of frustration, feeling a small sense of frustration.\n",
            "==================================================\n",
            "Original: adjust: fear | intensity: 2 | scenario: Waking up late for a critical meeting or appointment\n",
            "Generated: I’m apprehensive about how they’re going to be.\n",
            "==================================================\n",
            "Original: adjust: joy | intensity: 5 | scenario: I received a heartfelt thank-you note from someone I helped\n",
            "Generated: I felt a small sense of gratitude.\n",
            "==================================================\n"
          ]
        },
        {
          "name": "stderr",
          "output_type": "stream",
          "text": [
            "\rTesting:  27%|██▋       | 18/67 [00:06<00:16,  2.91it/s]"
          ]
        },
        {
          "name": "stdout",
          "output_type": "stream",
          "text": [
            "Original: adjust: joy | intensity: 8 | scenario: I scored the winning goal in a match\n",
            "Generated: I felt a little nervous about how much I needed to do.\n",
            "==================================================\n",
            "Original: adjust: fear | intensity: 8 | scenario: Falling into deep water without knowing how to swim\n",
            "Generated: I’m apprehensive about how to swim.\n",
            "==================================================\n",
            "Original: adjust: fear | intensity: 8 | scenario: Being trapped in a building during a power outage\n",
            "Generated: I’m apprehensive about how much I’ll do.\n",
            "==================================================\n",
            "Original: adjust: sadness | intensity: 5 | scenario: I felt like I didn’t belong in a group setting\n",
            "Generated: I felt a little agitated, feeling like I’d been in a group.\n",
            "==================================================\n",
            "Original: adjust: joy | intensity: 10 | scenario: I got front-row tickets to my favorite band’s concert\n",
            "Generated: I felt a little nervous about the concert.\n",
            "==================================================\n",
            "Original: adjust: caring | intensity: 1 | scenario: Your nephew is being deployed for military service\n",
            "Generated: Your service is my responsibility - I'm here to help you through this journey.\n",
            "==================================================\n",
            "Original: adjust: joy | intensity: 9 | scenario: My favorite sports team won the championship\n",
            "Generated: I felt a little nervous about how much I needed to win.\n",
            "==================================================\n",
            "Original: adjust: confusion | intensity: 4 | scenario: You're learning improvisational jazz\n",
            "Generated: I'm apprehensive about how jazz can be.\n",
            "==================================================\n"
          ]
        },
        {
          "name": "stderr",
          "output_type": "stream",
          "text": [
            "\rTesting:  28%|██▊       | 19/67 [00:06<00:16,  2.88it/s]"
          ]
        },
        {
          "name": "stdout",
          "output_type": "stream",
          "text": [
            "Original: adjust: confusion | intensity: 9 | scenario: You're studying medieval warfare tactics\n",
            "Generated: I'm apprehensive about how to use medieval tactics.\n",
            "==================================================\n",
            "Original: adjust: caring | intensity: 10 | scenario: Your young niece is being bullied for her disability\n",
            "Generated: Your strength and strength are my priority - I'm here to help you overcome this problem.\n",
            "==================================================\n",
            "Original: adjust: anger | intensity: 2 | scenario: A client missing a payment deadline\n",
            "Generated: I’m annoyed that they’re missing a payment deadline.\n",
            "==================================================\n",
            "Original: adjust: caring | intensity: 7 | scenario: Your neighbor's house was damaged in a natural disaster\n",
            "Generated: Your safety and security are paramount - I'm here to help you through this disaster.\n",
            "==================================================\n",
            "Original: adjust: joy | intensity: 2 | scenario: I helped someone in need and saw their smile\n",
            "Generated: I felt a small sense of joy and joy.\n",
            "==================================================\n",
            "Original: adjust: joy | intensity: 10 | scenario: I received a surprise care package from a friend\n",
            "Generated: I felt a little nervous, feeling like I was in awe.\n",
            "==================================================\n",
            "Original: adjust: confusion | intensity: 3 | scenario: You're studying fractal mathematics\n",
            "Generated: I'm apprehensive about how to solve this problem.\n",
            "==================================================\n",
            "Original: adjust: confusion | intensity: 4 | scenario: You're playing a new board game\n",
            "Generated: I'm apprehensive about how they're playing.\n",
            "==================================================\n"
          ]
        },
        {
          "name": "stderr",
          "output_type": "stream",
          "text": [
            "\rTesting:  30%|██▉       | 20/67 [00:07<00:15,  2.94it/s]"
          ]
        },
        {
          "name": "stdout",
          "output_type": "stream",
          "text": [
            "Original: adjust: fear | intensity: 7 | scenario: Experiencing an earthquake while inside a building\n",
            "Generated: I’m apprehensive about how to deal with this.\n",
            "==================================================\n",
            "Original: adjust: fear | intensity: 4 | scenario: Receiving abnormal results from a medical test\n",
            "Generated: I’m apprehensive about how they’re doing.\n",
            "==================================================\n",
            "Original: adjust: joy | intensity: 6 | scenario: I found the perfect gift for a loved one\n",
            "Generated: I felt a small sense of joy knowing I was there.\n",
            "==================================================\n",
            "Original: adjust: joy | intensity: 4 | scenario: I discovered a $20 bill in an old jacket pocket\n",
            "Generated: I felt a little nervous about how much I needed to pay.\n",
            "==================================================\n",
            "Original: adjust: anger | intensity: 5 | scenario: Facing favoritism in workplace promotions\n",
            "Generated: I’m apprehensive about the importance of favoritism.\n",
            "==================================================\n",
            "Original: adjust: fear | intensity: 4 | scenario: Walking alone at night in an unfamiliar neighborhood\n",
            "Generated: I’m apprehensive about how much I’ll do.\n",
            "==================================================\n",
            "Original: adjust: anger | intensity: 3 | scenario: Being micromanaged by a superior\n",
            "Generated: I’m apprehensive about how they’re managed.\n",
            "==================================================\n",
            "Original: adjust: anger | intensity: 6 | scenario: Receiving poor customer service at a store\n",
            "Generated: I’m apprehensive about how they’re dealing with this.\n",
            "==================================================\n"
          ]
        },
        {
          "name": "stderr",
          "output_type": "stream",
          "text": [
            "\rTesting:  31%|███▏      | 21/67 [00:07<00:15,  2.89it/s]"
          ]
        },
        {
          "name": "stdout",
          "output_type": "stream",
          "text": [
            "Original: adjust: joy | intensity: 9 | scenario: I was recognized publicly for my hard work\n",
            "Generated: I felt a small sense of gratitude for my hard work.\n",
            "==================================================\n",
            "Original: adjust: joy | intensity: 5 | scenario: I received a heartfelt thank-you note from someone I helped\n",
            "Generated: I felt a small sense of gratitude.\n",
            "==================================================\n",
            "Original: adjust: anger | intensity: 4 | scenario: A partner breaking a promise\n",
            "Generated: I’m apprehensive about how they’re going to be.\n",
            "==================================================\n",
            "Original: adjust: sadness | intensity: 9 | scenario: I remembered a promise I couldn’t keep\n",
            "Generated: I felt a little agitated, feeling like I’d been able to keep it.\n",
            "==================================================\n",
            "Original: adjust: fear | intensity: 1 | scenario: Your car breaking down in a remote area\n",
            "Generated: I’m apprehensive about how much you’re going to do.\n",
            "==================================================\n",
            "Original: adjust: caring | intensity: 2 | scenario: Your elderly neighbor needs help with winter preparations\n",
            "Generated: Your winter preparations are upsetting!\n",
            "==================================================\n",
            "Original: adjust: joy | intensity: 6 | scenario: I watched a movie that made me laugh until I cried\n",
            "Generated: I felt a little agitated, feeling a little a little more.\n",
            "==================================================\n",
            "Original: adjust: anger | intensity: 7 | scenario: A driver not signaling their turns\n",
            "Generated: I’m apprehensive about how they’re going to be.\n",
            "==================================================\n"
          ]
        },
        {
          "name": "stderr",
          "output_type": "stream",
          "text": [
            "\rTesting:  33%|███▎      | 22/67 [00:07<00:16,  2.76it/s]"
          ]
        },
        {
          "name": "stdout",
          "output_type": "stream",
          "text": [
            "Original: adjust: sadness | intensity: 5 | scenario: I found out someone I admire doesn’t feel the same about me\n",
            "Generated: I felt a little irritated, feeling like I’d never felt the same.\n",
            "==================================================\n",
            "Original: adjust: caring | intensity: 4 | scenario: Your student Maria is having trouble adjusting to the new school year\n",
            "Generated: I’m apprehensive about how much you’re going to do.\n",
            "==================================================\n",
            "Original: adjust: anger | intensity: 10 | scenario: Incorrect orders at a restaurant or online\n",
            "Generated: I’m apprehensive about how they’re doing.\n",
            "==================================================\n",
            "Original: adjust: sadness | intensity: 4 | scenario: I saw a heartfelt goodbye scene in a movie\n",
            "Generated: I felt a little agitated, feeling like I’d been a part of the movie.\n",
            "==================================================\n",
            "Original: adjust: confusion | intensity: 7 | scenario: You're playing a new board game\n",
            "Generated: I'm apprehensive about how they're playing.\n",
            "==================================================\n",
            "Original: adjust: caring | intensity: 9 | scenario: Your child's teacher is battling health issues while teaching\n",
            "Generated: Your health and wellbeing are important to me - I'm here to help you stay safe and secure.\n",
            "==================================================\n",
            "Original: adjust: caring | intensity: 6 | scenario: Your teenage neighbor is struggling with their sexual identity\n",
            "Generated: Your sexual identity is my priority - I'm here to help you find your way through this.\n",
            "==================================================\n",
            "Original: adjust: joy | intensity: 7 | scenario: I got front-row tickets to my favorite band’s concert\n",
            "Generated: I felt a little nervous about the concert.\n",
            "==================================================\n"
          ]
        },
        {
          "name": "stderr",
          "output_type": "stream",
          "text": [
            "\rTesting:  34%|███▍      | 23/67 [00:08<00:15,  2.80it/s]"
          ]
        },
        {
          "name": "stdout",
          "output_type": "stream",
          "text": [
            "Original: adjust: joy | intensity: 8 | scenario: I baked cookies that came out perfectly\n",
            "Generated: I smiled slightly, feeling like I’d baked them.\n",
            "==================================================\n",
            "Original: adjust: anger | intensity: 10 | scenario: Receiving a damaged product and no refund offered\n",
            "Generated: I’m apprehensive about how much I’ll pay for it.\n",
            "==================================================\n",
            "Original: adjust: joy | intensity: 5 | scenario: I found the perfect gift for a loved one\n",
            "Generated: I felt a small sense of joy knowing I was there.\n",
            "==================================================\n",
            "Original: adjust: confusion | intensity: 9 | scenario: Your close friend suddenly starts acting distant\n",
            "Generated: I’m apprehensive about how they’re going to react.\n",
            "==================================================\n",
            "Original: adjust: sadness | intensity: 1 | scenario: I found out someone I admire doesn’t feel the same about me\n",
            "Generated: I felt a little irritated, feeling like I’d never felt the same.\n",
            "==================================================\n",
            "Original: adjust: anger | intensity: 3 | scenario: Fake news being shared widely\n",
            "Generated: I’m apprehensive about how they’re sharing this.\n",
            "==================================================\n",
            "Original: adjust: fear | intensity: 4 | scenario: Hearing about a potential terrorist threat in your area\n",
            "Generated: I’m apprehensive about how dangerous it might be.\n",
            "==================================================\n",
            "Original: adjust: confusion | intensity: 6 | scenario: You're reading assembly instructions for furniture\n",
            "Generated: I'm apprehensive about how to make a piece of furniture.\n",
            "==================================================\n"
          ]
        },
        {
          "name": "stderr",
          "output_type": "stream",
          "text": [
            "\rTesting:  36%|███▌      | 24/67 [00:08<00:15,  2.80it/s]"
          ]
        },
        {
          "name": "stdout",
          "output_type": "stream",
          "text": [
            "Original: adjust: fear | intensity: 1 | scenario: Being late to your own wedding\n",
            "Generated: I’m apprehensive about how long it takes to get married.\n",
            "==================================================\n",
            "Original: adjust: anger | intensity: 5 | scenario: A hacker or scammer accessing your accounts\n",
            "Generated: I’m apprehensive about how they’re doing.\n",
            "==================================================\n",
            "Original: adjust: anger | intensity: 9 | scenario: Encountering road rage from another driver\n",
            "Generated: I’m apprehensive about how they’re going to get away.\n",
            "==================================================\n",
            "Original: adjust: anger | intensity: 1 | scenario: A partner breaking a promise\n",
            "Generated: I’m apprehensive about how they’re going to break the promise.\n",
            "==================================================\n",
            "Original: adjust: fear | intensity: 9 | scenario: Feeling turbulence during a flight\n",
            "Generated: I’m apprehensive about how they’re feeling.\n",
            "==================================================\n",
            "Original: adjust: fear | intensity: 5 | scenario: Receiving a breakup message unexpectedly\n",
            "Generated: I’m apprehensive about how they’re going to be.\n",
            "==================================================\n",
            "Original: adjust: fear | intensity: 10 | scenario: Forgetting to study for an important exam\n",
            "Generated: I’m apprehensive about how much I’ll do.\n",
            "==================================================\n",
            "Original: adjust: caring | intensity: 5 | scenario: Your high school student is having panic attacks before exams\n",
            "Generated: I’m apprehensive about how they’re going to help you get through this.\n",
            "==================================================\n"
          ]
        },
        {
          "name": "stderr",
          "output_type": "stream",
          "text": [
            "\rTesting:  37%|███▋      | 25/67 [00:08<00:14,  2.86it/s]"
          ]
        },
        {
          "name": "stdout",
          "output_type": "stream",
          "text": [
            "Original: adjust: sadness | intensity: 3 | scenario: I didn’t get invited to a gathering my friends were attending\n",
            "Generated: I felt a small sense of sadness, feeling like I was invited.\n",
            "==================================================\n",
            "Original: adjust: anger | intensity: 2 | scenario: Finding out someone lied to you\n",
            "Generated: I’m apprehensive about how they’re doing.\n",
            "==================================================\n",
            "Original: adjust: anger | intensity: 6 | scenario: A sibling using your belongings without permission\n",
            "Generated: I’m apprehensive about how they’re doing.\n",
            "==================================================\n",
            "Original: adjust: fear | intensity: 4 | scenario: Being held at gunpoint during a robbery\n",
            "Generated: I’m apprehensive about how they’re doing.\n",
            "==================================================\n",
            "Original: adjust: anger | intensity: 4 | scenario: Receiving poor customer service at a store\n",
            "Generated: I’m apprehensive about how poor they’re.\n",
            "==================================================\n",
            "Original: adjust: anger | intensity: 1 | scenario: An app freezing at a critical moment\n",
            "Generated: I’m apprehensive about how much I’ll do.\n",
            "==================================================\n",
            "Original: adjust: anger | intensity: 10 | scenario: Arguments over differing parenting styles\n",
            "Generated: I’m apprehensive about how different parenting styles are.\n",
            "==================================================\n",
            "Original: adjust: joy | intensity: 9 | scenario: I caught a beautiful sunset after a long day\n",
            "Generated: I felt a little a little nervous, thinking about how I could see it.\n",
            "==================================================\n"
          ]
        },
        {
          "name": "stderr",
          "output_type": "stream",
          "text": [
            "\rTesting:  39%|███▉      | 26/67 [00:09<00:14,  2.88it/s]"
          ]
        },
        {
          "name": "stdout",
          "output_type": "stream",
          "text": [
            "Original: adjust: anger | intensity: 7 | scenario: A coworker failing to complete their share of work\n",
            "Generated: I’m apprehensive about how they’re doing.\n",
            "==================================================\n",
            "Original: adjust: fear | intensity: 2 | scenario: Forgetting to study for an important exam\n",
            "Generated: I’m apprehensive about how much I’ll do.\n",
            "==================================================\n",
            "Original: adjust: anger | intensity: 2 | scenario: A pedestrian jaywalking and causing a sudden stop\n",
            "Generated: I’m apprehensive about how they’re doing.\n",
            "==================================================\n",
            "Original: adjust: anger | intensity: 7 | scenario: Being blamed for something you didn’t do\n",
            "Generated: I’m apprehensive about how much I’ll do.\n",
            "==================================================\n",
            "Original: adjust: confusion | intensity: 10 | scenario: You're decoding protein folding patterns\n",
            "Generated: I'm apprehensive about how to make a protein folding pattern.\n",
            "==================================================\n",
            "Original: adjust: fear | intensity: 2 | scenario: Escaping from a building due to a fire alarm\n",
            "Generated: I’m apprehensive about how much I’ll do.\n",
            "==================================================\n",
            "Original: adjust: anger | intensity: 6 | scenario: A teenager breaking household rules\n",
            "Generated: I’m apprehensive about how they’re going to break the rules.\n",
            "==================================================\n",
            "Original: adjust: caring | intensity: 4 | scenario: Your team member is dealing with chronic pain\n",
            "Generated: I’m extremely fearful and want to help you deal with this.\n",
            "==================================================\n"
          ]
        },
        {
          "name": "stderr",
          "output_type": "stream",
          "text": [
            "\rTesting:  40%|████      | 27/67 [00:09<00:14,  2.84it/s]"
          ]
        },
        {
          "name": "stdout",
          "output_type": "stream",
          "text": [
            "Original: adjust: caring | intensity: 8 | scenario: Your high school student is having panic attacks before exams\n",
            "Generated: I’m apprehensive about how they’re going to help you get through this.\n",
            "==================================================\n",
            "Original: adjust: joy | intensity: 9 | scenario: I finished a creative project I’ve been working on for weeks\n",
            "Generated: I felt a little overwhelmed, thinking about what I’d done.\n",
            "==================================================\n",
            "Original: adjust: confusion | intensity: 1 | scenario: You're reading an abstract modern poem\n",
            "Generated: I'm apprehensive about how they're reading.\n",
            "==================================================\n",
            "Original: adjust: sadness | intensity: 3 | scenario: I saw a touching story about someone overcoming great loss\n",
            "Generated: I felt a small sense of sadness, feeling like I was a little overwhelmed.\n",
            "==================================================\n",
            "Original: adjust: anger | intensity: 3 | scenario: Long wait times for support on a critical issue\n",
            "Generated: I’m apprehensive about how long it takes to get support.\n",
            "==================================================\n",
            "Original: adjust: caring | intensity: 3 | scenario: Your roommate is going through a financial crisis\n",
            "Generated: I’m apprehensive about how much you’re going through.\n",
            "==================================================\n",
            "Original: adjust: anger | intensity: 6 | scenario: Being micromanaged by a superior\n",
            "Generated: I’m apprehensive about how they’re managed.\n",
            "==================================================\n",
            "Original: adjust: joy | intensity: 3 | scenario: I met a celebrity I look up to\n",
            "Generated: I felt a little apprehensive about how they’d shaped my life.\n",
            "==================================================\n"
          ]
        },
        {
          "name": "stderr",
          "output_type": "stream",
          "text": [
            "\rTesting:  42%|████▏     | 28/67 [00:09<00:13,  2.90it/s]"
          ]
        },
        {
          "name": "stdout",
          "output_type": "stream",
          "text": [
            "Original: adjust: anger | intensity: 5 | scenario: A partner dismissing your feelings in an argument\n",
            "Generated: I’m apprehensive about how they’re feeling.\n",
            "==================================================\n",
            "Original: adjust: fear | intensity: 5 | scenario: Being stuck in an elevator\n",
            "Generated: I’m apprehensive about how to get stuck.\n",
            "==================================================\n",
            "Original: adjust: confusion | intensity: 5 | scenario: You're learning a new language's grammar rules\n",
            "Generated: I'm apprehensive about how to pronounce grammar rules.\n",
            "==================================================\n",
            "Original: adjust: anger | intensity: 10 | scenario: A colleague taking credit for your work\n",
            "Generated: I’m apprehensive about how much you’re doing.\n",
            "==================================================\n",
            "Original: adjust: joy | intensity: 1 | scenario: I found the perfect gift for a loved one\n",
            "Generated: I felt a little nervous about how much I needed.\n",
            "==================================================\n",
            "Original: adjust: caring | intensity: 1 | scenario: Your younger sibling is struggling with their first year of college\n",
            "Generated: Your success is my priority - I'm here to help you succeed in college.\n",
            "==================================================\n",
            "Original: adjust: anger | intensity: 2 | scenario: Comments escalating into arguments unnecessarily\n",
            "Generated: I’m apprehensive about how they’re going to be.\n",
            "==================================================\n",
            "Original: adjust: joy | intensity: 3 | scenario: I got a letter from a pen pal\n",
            "Generated: I felt a little nervous about how they felt.\n",
            "==================================================\n"
          ]
        },
        {
          "name": "stderr",
          "output_type": "stream",
          "text": [
            "\rTesting:  43%|████▎     | 29/67 [00:10<00:12,  2.94it/s]"
          ]
        },
        {
          "name": "stdout",
          "output_type": "stream",
          "text": [
            "Original: adjust: anger | intensity: 3 | scenario: A hacker or scammer accessing your accounts\n",
            "Generated: I’m apprehensive about how they’re doing.\n",
            "==================================================\n",
            "Original: adjust: anger | intensity: 9 | scenario: Comments escalating into arguments unnecessarily\n",
            "Generated: I’m apprehensive about how they’re going to be.\n",
            "==================================================\n",
            "Original: adjust: anger | intensity: 10 | scenario: A delayed package without an explanation\n",
            "Generated: I’m apprehensive about the delay.\n",
            "==================================================\n",
            "Original: adjust: anger | intensity: 6 | scenario: Miscommunication caused by autocorrect\n",
            "Generated: I’m apprehensive about how they’re doing.\n",
            "==================================================\n",
            "Original: adjust: caring | intensity: 6 | scenario: Your friend Rachel is struggling with anxiety attacks\n",
            "Generated: Your anxiety is my heart - I'm here to help you overcome this anxiety.\n",
            "==================================================\n",
            "Original: adjust: anger | intensity: 3 | scenario: Littering in a clean area\n",
            "Generated: I’m apprehensive about how much I’ll do.\n",
            "==================================================\n",
            "Original: adjust: joy | intensity: 3 | scenario: I heard a child’s contagious laughter\n",
            "Generated: I felt a small sense of humor.\n",
            "==================================================\n",
            "Original: adjust: anger | intensity: 6 | scenario: Being overcharged on a bill\n",
            "Generated: I’m apprehensive about how much they’re going to pay.\n",
            "==================================================\n"
          ]
        },
        {
          "name": "stderr",
          "output_type": "stream",
          "text": [
            "\rTesting:  45%|████▍     | 30/67 [00:10<00:12,  2.87it/s]"
          ]
        },
        {
          "name": "stdout",
          "output_type": "stream",
          "text": [
            "Original: adjust: fear | intensity: 8 | scenario: Losing control of your car on an icy road\n",
            "Generated: I’m apprehensive about how much you’re losing.\n",
            "==================================================\n",
            "Original: adjust: fear | intensity: 7 | scenario: Being stuck in an elevator\n",
            "Generated: I’m apprehensive about how to get stuck.\n",
            "==================================================\n",
            "Original: adjust: fear | intensity: 4 | scenario: Being stuck in an elevator\n",
            "Generated: I’m apprehensive about how to get stuck.\n",
            "==================================================\n",
            "Original: adjust: joy | intensity: 4 | scenario: I finally mastered a skill I’ve been practicing\n",
            "Generated: I felt a little apprehensive about how I’d done it.\n",
            "==================================================\n",
            "Original: adjust: fear | intensity: 4 | scenario: Seeing a stranger having a medical emergency and not knowing what to do\n",
            "Generated: I’m apprehensive about how they’re dealing with this.\n",
            "==================================================\n",
            "Original: adjust: caring | intensity: 5 | scenario: Your teenage neighbor is struggling with their sexual identity\n",
            "Generated: Your sexual identity is my priority - I'm here to help you find your way through this.\n",
            "==================================================\n",
            "Original: adjust: fear | intensity: 2 | scenario: Falling into deep water without knowing how to swim\n",
            "Generated: I’m apprehensive about how to swim.\n",
            "==================================================\n",
            "Original: adjust: confusion | intensity: 5 | scenario: You're watching experimental theater\n",
            "Generated: I'm apprehensive about how they're doing.\n",
            "==================================================\n"
          ]
        },
        {
          "name": "stderr",
          "output_type": "stream",
          "text": [
            "\rTesting:  46%|████▋     | 31/67 [00:10<00:12,  2.83it/s]"
          ]
        },
        {
          "name": "stdout",
          "output_type": "stream",
          "text": [
            "Original: adjust: confusion | intensity: 10 | scenario: You're trying to follow a complex recipe\n",
            "Generated: I'm apprehensive about how to make a recipe.\n",
            "==================================================\n",
            "Original: adjust: joy | intensity: 3 | scenario: I finally adopted the puppy I’ve always wanted\n",
            "Generated: I felt a little apprehensive about how I’d adopted them.\n",
            "==================================================\n",
            "Original: adjust: caring | intensity: 7 | scenario: Your young niece is being bullied for her disability\n",
            "Generated: Your strength and strength are my priority - I'm here to help you overcome this problem.\n",
            "==================================================\n",
            "Original: adjust: joy | intensity: 2 | scenario: I cooked a meal that everyone loved\n",
            "Generated: I felt a little nervous about how much I loved it.\n",
            "==================================================\n",
            "Original: adjust: caring | intensity: 2 | scenario: Your high school student is having panic attacks before exams\n",
            "Generated: I’m apprehensive about how they’re going to help you get through this.\n",
            "==================================================\n",
            "Original: adjust: joy | intensity: 9 | scenario: I helped someone in need and saw their smile\n",
            "Generated: I felt a small sense of joy, feeling like I was in need.\n",
            "==================================================\n",
            "Original: adjust: caring | intensity: 1 | scenario: Your student Maria is having trouble adjusting to the new school year\n",
            "Generated: I’m apprehensive about how much you’re going to do.\n",
            "==================================================\n",
            "Original: adjust: joy | intensity: 1 | scenario: I got an A on an exam I studied hard for\n",
            "Generated: I felt a little nervous about how hard I was.\n",
            "==================================================\n"
          ]
        },
        {
          "name": "stderr",
          "output_type": "stream",
          "text": [
            "\rTesting:  48%|████▊     | 32/67 [00:11<00:12,  2.86it/s]"
          ]
        },
        {
          "name": "stdout",
          "output_type": "stream",
          "text": [
            "Original: adjust: anger | intensity: 7 | scenario: Being overcharged at a tourist site\n",
            "Generated: I’m apprehensive about how much I’ll do.\n",
            "==================================================\n",
            "Original: adjust: sadness | intensity: 2 | scenario: I saw an old photo that reminded me of someone I lost touch with\n",
            "Generated: I felt a little sad thinking about how I felt.\n",
            "==================================================\n",
            "Original: adjust: caring | intensity: 9 | scenario: Your teenage daughter is struggling with body image issues\n",
            "Generated: Your body image is my priority - I'm here to help you navigate this journey.\n",
            "==================================================\n",
            "Original: adjust: sadness | intensity: 7 | scenario: I noticed I wasn’t making progress on something I care about\n",
            "Generated: I sighed, feeling slightly uneasy.\n",
            "==================================================\n",
            "Original: adjust: sadness | intensity: 10 | scenario: I found out about the illness of someone close to me\n",
            "Generated: I felt a small sense of sadness, feeling like I was a little overwhelmed.\n",
            "==================================================\n",
            "Original: adjust: anger | intensity: 8 | scenario: A sibling using your belongings without permission\n",
            "Generated: I’m apprehensive about how they’re doing.\n",
            "==================================================\n",
            "Original: adjust: anger | intensity: 9 | scenario: Personal information being shared without consent\n",
            "Generated: I’m apprehensive about how they’re sharing information.\n",
            "==================================================\n",
            "Original: adjust: caring | intensity: 3 | scenario: Your student Maria is having trouble adjusting to the new school year\n",
            "Generated: I’m apprehensive about how much you’re going to do.\n",
            "==================================================\n"
          ]
        },
        {
          "name": "stderr",
          "output_type": "stream",
          "text": [
            "\rTesting:  49%|████▉     | 33/67 [00:11<00:11,  2.91it/s]"
          ]
        },
        {
          "name": "stdout",
          "output_type": "stream",
          "text": [
            "Original: adjust: fear | intensity: 5 | scenario: Walking alone at night in an unfamiliar neighborhood\n",
            "Generated: I’m apprehensive about how much I’ll do.\n",
            "==================================================\n",
            "Original: adjust: anger | intensity: 4 | scenario: A family member being habitually late\n",
            "Generated: I’m apprehensive about how much they’re spending.\n",
            "==================================================\n",
            "Original: adjust: sadness | intensity: 1 | scenario: I missed an important deadline that I couldn’t make up\n",
            "Generated: I felt a small sense of sadness, feeling like I missed something.\n",
            "==================================================\n",
            "Original: adjust: joy | intensity: 3 | scenario: I caught a beautiful sunset after a long day\n",
            "Generated: I felt a little a little nervous, thinking about how I could see it.\n",
            "==================================================\n",
            "Original: adjust: fear | intensity: 4 | scenario: Getting a notification of a significant withdrawal from your bank account\n",
            "Generated: I’m apprehensive about how much you’re losing.\n",
            "==================================================\n",
            "Original: adjust: anger | intensity: 4 | scenario: Being overcharged on a bill\n",
            "Generated: I’m apprehensive about how much I’ll pay.\n",
            "==================================================\n",
            "Original: adjust: fear | intensity: 9 | scenario: Seeing a stranger having a medical emergency and not knowing what to do\n",
            "Generated: I’m apprehensive about how they’re going to be.\n",
            "==================================================\n",
            "Original: adjust: anger | intensity: 3 | scenario: A cyclist swerving dangerously close to your car\n",
            "Generated: I’m apprehensive about how dangerous it is.\n",
            "==================================================\n"
          ]
        },
        {
          "name": "stderr",
          "output_type": "stream",
          "text": [
            "\rTesting:  51%|█████     | 34/67 [00:11<00:11,  2.88it/s]"
          ]
        },
        {
          "name": "stdout",
          "output_type": "stream",
          "text": [
            "Original: adjust: anger | intensity: 2 | scenario: A phone call dropping repeatedly\n",
            "Generated: I’m annoyed that they’re not getting a call.\n",
            "==================================================\n",
            "Original: adjust: caring | intensity: 7 | scenario: Your best friend Sarah is preparing for a major surgery\n",
            "Generated: Your health and wellness are my priority - I'm here to help you prepare for this surgery.\n",
            "==================================================\n",
            "Original: adjust: fear | intensity: 8 | scenario: Dropping your phone into water\n",
            "Generated: I’m apprehensive about how they’re going to get into water.\n",
            "==================================================\n",
            "Original: adjust: joy | intensity: 5 | scenario: I got a promotion at work\n",
            "Generated: I felt a little nervous about how much I needed to do.\n",
            "==================================================\n",
            "Original: adjust: caring | intensity: 10 | scenario: Your friend's partner is diagnosed with terminal illness\n",
            "Generated: I’m in terror, convinced I’ll be able to help you through this.\n",
            "==================================================\n",
            "Original: adjust: joy | intensity: 4 | scenario: I completed my first marathon\n",
            "Generated: I felt a little nervous about how I felt.\n",
            "==================================================\n",
            "Original: adjust: fear | intensity: 7 | scenario: Forgetting to study for an important exam\n",
            "Generated: I’m apprehensive about how much I’ll do.\n",
            "==================================================\n",
            "Original: adjust: fear | intensity: 8 | scenario: Accidentally cutting yourself with a sharp knife\n",
            "Generated: I’m apprehensive about how to get a knife.\n",
            "==================================================\n"
          ]
        },
        {
          "name": "stderr",
          "output_type": "stream",
          "text": [
            "\rTesting:  52%|█████▏    | 35/67 [00:12<00:10,  2.94it/s]"
          ]
        },
        {
          "name": "stdout",
          "output_type": "stream",
          "text": [
            "Original: adjust: fear | intensity: 3 | scenario: Your car breaking down in a remote area\n",
            "Generated: I’m apprehensive about how much you’re going to do.\n",
            "==================================================\n",
            "Original: adjust: anger | intensity: 9 | scenario: An app freezing at a critical moment\n",
            "Generated: I’m apprehensive about how much I’ll do.\n",
            "==================================================\n",
            "Original: adjust: confusion | intensity: 7 | scenario: You're attending a quantum physics lecture\n",
            "Generated: I'm apprehensive about how much they're doing.\n",
            "==================================================\n",
            "Original: adjust: anger | intensity: 1 | scenario: A sibling using your belongings without permission\n",
            "Generated: I’m apprehensive about how they’re doing.\n",
            "==================================================\n",
            "Original: adjust: sadness | intensity: 5 | scenario: I got a rejection letter for a program I wanted to join\n",
            "Generated: I felt a small sense of sadness, feeling like I was a little overwhelmed.\n",
            "==================================================\n",
            "Original: adjust: caring | intensity: 8 | scenario: Your single-parent friend is facing eviction\n",
            "Generated: Your family and I’ll be here to help you through this transition.\n",
            "==================================================\n",
            "Original: adjust: sadness | intensity: 10 | scenario: I experienced unkind treatment from someone I trusted\n",
            "Generated: I felt a small sense of sadness, feeling a small sense of sadness.\n",
            "==================================================\n",
            "Original: adjust: confusion | intensity: 1 | scenario: You're interpreting a child's imaginary friend situation\n",
            "Generated: I'm apprehensive about how they're doing.\n",
            "==================================================\n"
          ]
        },
        {
          "name": "stderr",
          "output_type": "stream",
          "text": [
            "\rTesting:  54%|█████▎    | 36/67 [00:12<00:10,  2.97it/s]"
          ]
        },
        {
          "name": "stdout",
          "output_type": "stream",
          "text": [
            "Original: adjust: anger | intensity: 4 | scenario: Littering in a clean area\n",
            "Generated: I’m apprehensive about how much I’ll do.\n",
            "==================================================\n",
            "Original: adjust: confusion | intensity: 7 | scenario: You're analyzing political game theory\n",
            "Generated: I'm apprehensive about how to solve this problem.\n",
            "==================================================\n",
            "Original: adjust: confusion | intensity: 3 | scenario: You're looking at a confusing math equation on the board.\n",
            "Generated: I'm apprehensive about how confusing math is.\n",
            "==================================================\n",
            "Original: adjust: fear | intensity: 2 | scenario: Accidentally hurting someone’s feelings deeply\n",
            "Generated: I’m apprehensive about how they feel.\n",
            "==================================================\n",
            "Original: adjust: joy | intensity: 10 | scenario: I caught a beautiful sunset after a long day\n",
            "Generated: I felt a little a little nervous, thinking about how I could see it.\n",
            "==================================================\n",
            "Original: adjust: fear | intensity: 2 | scenario: Getting a call about a loved one in an accident\n",
            "Generated: I’m apprehensive about how they’re dealing with this.\n",
            "==================================================\n",
            "Original: adjust: confusion | intensity: 4 | scenario: You're studying crystal formation patterns\n",
            "Generated: I'm apprehensive about how crystal formation patterns are.\n",
            "==================================================\n",
            "Original: adjust: confusion | intensity: 4 | scenario: You're studying genetic inheritance\n",
            "Generated: I'm apprehensive about how genetic inheritance works.\n",
            "==================================================\n"
          ]
        },
        {
          "name": "stderr",
          "output_type": "stream",
          "text": [
            "\rTesting:  55%|█████▌    | 37/67 [00:12<00:10,  2.95it/s]"
          ]
        },
        {
          "name": "stdout",
          "output_type": "stream",
          "text": [
            "Original: adjust: caring | intensity: 10 | scenario: Your friend is recovering from addiction\n",
            "Generated: Your recovery is my priority - I'm here to help you recover.\n",
            "==================================================\n",
            "Original: adjust: sadness | intensity: 8 | scenario: I missed an opportunity that won’t come around again\n",
            "Generated: I felt a small sense of sadness, feeling like I’d missed it.\n",
            "==================================================\n",
            "Original: adjust: caring | intensity: 10 | scenario: Your neighbor's house was damaged in a natural disaster\n",
            "Generated: Your safety and security are paramount - I'm here to help you recover.\n",
            "==================================================\n",
            "Original: adjust: sadness | intensity: 7 | scenario: I felt stuck in a difficult situation with no clear solution\n",
            "Generated: I felt a little overwhelmed, feeling like I couldn’t find a solution.\n",
            "==================================================\n",
            "Original: adjust: caring | intensity: 7 | scenario: Your elderly parent is showing early signs of dementia\n",
            "Generated: Your dementia is a major concern - I'm here to help you overcome this.\n",
            "==================================================\n",
            "Original: adjust: sadness | intensity: 9 | scenario: I felt like I didn’t belong in a group setting\n",
            "Generated: I felt a little agitated, feeling like I’d been in a group.\n",
            "==================================================\n",
            "Original: adjust: sadness | intensity: 3 | scenario: I found out about the illness of someone close to me\n",
            "Generated: I felt a small sense of sadness, feeling like I was a little overwhelmed.\n",
            "==================================================\n",
            "Original: adjust: confusion | intensity: 10 | scenario: You're analyzing deep ocean currents\n",
            "Generated: I'm apprehensive about how deep ocean currents are.\n",
            "==================================================\n"
          ]
        },
        {
          "name": "stderr",
          "output_type": "stream",
          "text": [
            "\rTesting:  57%|█████▋    | 38/67 [00:13<00:09,  2.96it/s]"
          ]
        },
        {
          "name": "stdout",
          "output_type": "stream",
          "text": [
            "Original: adjust: anger | intensity: 9 | scenario: Someone talking loudly in a quiet space\n",
            "Generated: I’m apprehensive about how loud they’re talking.\n",
            "==================================================\n",
            "Original: adjust: anger | intensity: 3 | scenario: Personal information being shared without consent\n",
            "Generated: I’m apprehensive about how they’re sharing information.\n",
            "==================================================\n",
            "Original: adjust: fear | intensity: 7 | scenario: Watching someone collapse in front of you\n",
            "Generated: I’m apprehensive about how they’re going to collapse.\n",
            "==================================================\n",
            "Original: adjust: sadness | intensity: 8 | scenario: I made a mistake that had consequences for others\n",
            "Generated: I felt a small sense of sadness, feeling like I was a little overwhelmed.\n",
            "==================================================\n",
            "Original: adjust: anger | intensity: 2 | scenario: A computer crashing during important work\n",
            "Generated: I’m apprehensive about how much I’ll do.\n",
            "==================================================\n",
            "Original: adjust: anger | intensity: 1 | scenario: A teenager breaking household rules\n",
            "Generated: I’m apprehensive about how they’re going to break the rules.\n",
            "==================================================\n",
            "Original: adjust: fear | intensity: 6 | scenario: Seeing a tornado or natural disaster approaching\n",
            "Generated: I’m apprehensive about how they’re approaching.\n",
            "==================================================\n",
            "Original: adjust: confusion | intensity: 10 | scenario: You're studying medieval warfare tactics\n",
            "Generated: I'm apprehensive about how to use medieval tactics.\n",
            "==================================================\n"
          ]
        },
        {
          "name": "stderr",
          "output_type": "stream",
          "text": [
            "\rTesting:  58%|█████▊    | 39/67 [00:13<00:09,  3.00it/s]"
          ]
        },
        {
          "name": "stdout",
          "output_type": "stream",
          "text": [
            "Original: adjust: confusion | intensity: 9 | scenario: You're studying renaissance art restoration\n",
            "Generated: I'm apprehensive about how they're doing.\n",
            "==================================================\n",
            "Original: adjust: joy | intensity: 5 | scenario: My favorite sports team won the championship\n",
            "Generated: I felt a small sense of pride and joy.\n",
            "==================================================\n",
            "Original: adjust: anger | intensity: 10 | scenario: Being blamed for something you didn’t do\n",
            "Generated: I’m apprehensive about how much I’ll do.\n",
            "==================================================\n",
            "Original: adjust: confusion | intensity: 6 | scenario: You're trying to understand tax forms\n",
            "Generated: I'm apprehensive about how to understand tax forms.\n",
            "==================================================\n",
            "Original: adjust: joy | intensity: 1 | scenario: I received a heartfelt apology from someone\n",
            "Generated: I felt a small sense of sadness, feeling a small sense of sadness.\n",
            "==================================================\n",
            "Original: adjust: confusion | intensity: 5 | scenario: You're analyzing stock market patterns\n",
            "Generated: I'm apprehensive about how they're changing their outlook.\n",
            "==================================================\n",
            "Original: adjust: joy | intensity: 9 | scenario: I cooked a meal that everyone loved\n",
            "Generated: I felt a little nervous about how much I loved it.\n",
            "==================================================\n",
            "Original: adjust: confusion | intensity: 2 | scenario: You're trying to understand cryptocurrency\n",
            "Generated: I'm apprehensive about how to use cryptocurrency.\n",
            "==================================================\n"
          ]
        },
        {
          "name": "stderr",
          "output_type": "stream",
          "text": [
            "\rTesting:  60%|█████▉    | 40/67 [00:13<00:08,  3.04it/s]"
          ]
        },
        {
          "name": "stdout",
          "output_type": "stream",
          "text": [
            "Original: adjust: joy | intensity: 8 | scenario: I received a heartfelt apology from someone\n",
            "Generated: I felt a small sense of sadness, feeling a small sense of sadness.\n",
            "==================================================\n",
            "Original: adjust: confusion | intensity: 9 | scenario: You're reading an abstract modern poem\n",
            "Generated: I'm apprehensive about how they're reading.\n",
            "==================================================\n",
            "Original: adjust: sadness | intensity: 4 | scenario: I missed an opportunity that won’t come around again\n",
            "Generated: I felt a small sense of sadness, feeling like I’d missed it.\n",
            "==================================================\n",
            "Original: adjust: anger | intensity: 5 | scenario: A delayed package without an explanation\n",
            "Generated: I’m apprehensive about the delay.\n",
            "==================================================\n",
            "Original: adjust: confusion | intensity: 5 | scenario: You're trying to understand cryptocurrency\n",
            "Generated: I'm apprehensive about how to use cryptocurrency.\n",
            "==================================================\n",
            "Original: adjust: confusion | intensity: 5 | scenario: You're learning Arabic calligraphy\n",
            "Generated: I'm apprehensive about how to pronounce Arabic.\n",
            "==================================================\n",
            "Original: adjust: joy | intensity: 3 | scenario: My favorite song played on the radio just as I turned it on\n",
            "Generated: I felt a little nervous about how much I loved it.\n",
            "==================================================\n",
            "Original: adjust: joy | intensity: 4 | scenario: I witnessed a baby’s first steps\n",
            "Generated: I felt a little nervous about how they’d walked.\n",
            "==================================================\n"
          ]
        },
        {
          "name": "stderr",
          "output_type": "stream",
          "text": [
            "\rTesting:  61%|██████    | 41/67 [00:14<00:08,  3.03it/s]"
          ]
        },
        {
          "name": "stdout",
          "output_type": "stream",
          "text": [
            "Original: adjust: joy | intensity: 2 | scenario: I was recognized publicly for my hard work\n",
            "Generated: I felt a small sense of gratitude for my hard work.\n",
            "==================================================\n",
            "Original: adjust: confusion | intensity: 6 | scenario: You're reading an abstract modern poem\n",
            "Generated: I'm apprehensive about how they're reading.\n",
            "==================================================\n",
            "Original: adjust: confusion | intensity: 7 | scenario: Your close friend suddenly starts acting distant\n",
            "Generated: I’m apprehensive about how they’re going to be.\n",
            "==================================================\n",
            "Original: adjust: caring | intensity: 3 | scenario: Your team member is dealing with chronic pain\n",
            "Generated: I’m extremely fearful and want to help you deal with this pain.\n",
            "==================================================\n",
            "Original: adjust: caring | intensity: 10 | scenario: Your friend's small business is struggling to survive\n",
            "Generated: Your survival is my priority - I'm here to help you survive.\n",
            "==================================================\n",
            "Original: adjust: anger | intensity: 10 | scenario: A teenager breaking household rules\n",
            "Generated: I’m apprehensive about how they’re going to break the rules.\n",
            "==================================================\n",
            "Original: adjust: confusion | intensity: 4 | scenario: You're trying to understand family holiday traditions\n",
            "Generated: I'm apprehensive about how they're doing.\n",
            "==================================================\n",
            "Original: adjust: joy | intensity: 10 | scenario: I made a new friend who shares my interests\n",
            "Generated: I felt a little apprehensive about how they’d communicate.\n",
            "==================================================\n"
          ]
        },
        {
          "name": "stderr",
          "output_type": "stream",
          "text": [
            "\rTesting:  63%|██████▎   | 42/67 [00:14<00:08,  3.05it/s]"
          ]
        },
        {
          "name": "stdout",
          "output_type": "stream",
          "text": [
            "Original: adjust: confusion | intensity: 6 | scenario: You're looking at a confusing math equation on the board.\n",
            "Generated: I'm apprehensive about how confusing math is.\n",
            "==================================================\n",
            "Original: adjust: anger | intensity: 3 | scenario: A family member being habitually late\n",
            "Generated: I’m apprehensive about how much they’re spending.\n",
            "==================================================\n",
            "Original: adjust: confusion | intensity: 4 | scenario: You're trying to follow a complex recipe\n",
            "Generated: I'm apprehensive about how to make a recipe.\n",
            "==================================================\n",
            "Original: adjust: sadness | intensity: 3 | scenario: I had to cancel plans I was really looking forward to\n",
            "Generated: I felt a little nervous about how much I needed to do.\n",
            "==================================================\n",
            "Original: adjust: joy | intensity: 9 | scenario: I laughed with friends around a bonfire\n",
            "Generated: I felt a little nervous, thinking about how I felt.\n",
            "==================================================\n",
            "Original: adjust: anger | intensity: 7 | scenario: Facing favoritism in workplace promotions\n",
            "Generated: I’m apprehensive about the importance of favoritism.\n",
            "==================================================\n",
            "Original: adjust: confusion | intensity: 9 | scenario: You're following a map in a new city\n",
            "Generated: I'm apprehensive about how they're doing.\n",
            "==================================================\n",
            "Original: adjust: caring | intensity: 7 | scenario: Your autistic child is being transferred to a new school\n",
            "Generated: I’m apprehensive about how they’re going to be.\n",
            "==================================================\n"
          ]
        },
        {
          "name": "stderr",
          "output_type": "stream",
          "text": [
            "\rTesting:  64%|██████▍   | 43/67 [00:14<00:07,  3.09it/s]"
          ]
        },
        {
          "name": "stdout",
          "output_type": "stream",
          "text": [
            "Original: adjust: anger | intensity: 8 | scenario: A promised callback not happening\n",
            "Generated: I’m apprehensive about how they’re going to be.\n",
            "==================================================\n",
            "Original: adjust: anger | intensity: 1 | scenario: A partner dismissing your feelings in an argument\n",
            "Generated: I’m apprehensive about how they’re feeling.\n",
            "==================================================\n",
            "Original: adjust: sadness | intensity: 10 | scenario: I failed to accomplish a goal I set for myself\n",
            "Generated: I felt a small sense of sadness, feeling like I was missing.\n",
            "==================================================\n",
            "Original: adjust: sadness | intensity: 4 | scenario: I lost a sentimental item that I’ve had for years\n",
            "Generated: I felt a small sense of sadness.\n",
            "==================================================\n",
            "Original: adjust: sadness | intensity: 2 | scenario: I noticed I wasn’t making progress on something I care about\n",
            "Generated: I sighed, feeling slightly uneasy.\n",
            "==================================================\n",
            "Original: adjust: sadness | intensity: 10 | scenario: I had to cancel plans I was really looking forward to\n",
            "Generated: I felt a little nervous about how much I needed to do.\n",
            "==================================================\n",
            "Original: adjust: fear | intensity: 9 | scenario: Seeing a tornado or natural disaster approaching\n",
            "Generated: I’m apprehensive about how they’re approaching.\n",
            "==================================================\n",
            "Original: adjust: anger | intensity: 2 | scenario: Someone misrepresenting your words online\n",
            "Generated: I’m annoyed that they’re not able to communicate with them.\n",
            "==================================================\n"
          ]
        },
        {
          "name": "stderr",
          "output_type": "stream",
          "text": [
            "\rTesting:  66%|██████▌   | 44/67 [00:15<00:07,  2.98it/s]"
          ]
        },
        {
          "name": "stdout",
          "output_type": "stream",
          "text": [
            "Original: adjust: anger | intensity: 1 | scenario: A family member repeatedly interrupting you\n",
            "Generated: I’m apprehensive about how they’re interrupting you.\n",
            "==================================================\n",
            "Original: adjust: caring | intensity: 10 | scenario: A new family (the Wilsons) has just moved in next door\n",
            "Generated: I’m apprehensive about how much they’re doing.\n",
            "==================================================\n",
            "Original: adjust: joy | intensity: 5 | scenario: I watched a movie that made me laugh until I cried\n",
            "Generated: I felt a little agitated, feeling a little a little more.\n",
            "==================================================\n",
            "Original: adjust: anger | intensity: 3 | scenario: A pedestrian jaywalking and causing a sudden stop\n",
            "Generated: I’m apprehensive about how they’re doing.\n",
            "==================================================\n",
            "Original: adjust: fear | intensity: 8 | scenario: Receiving abnormal results from a medical test\n",
            "Generated: I’m apprehensive about how they’re doing.\n",
            "==================================================\n",
            "Original: adjust: confusion | intensity: 8 | scenario: You're debugging complex code\n",
            "Generated: I'm apprehensive about how to code complex code.\n",
            "==================================================\n",
            "Original: adjust: sadness | intensity: 2 | scenario: I had to cancel a long-awaited trip due to unforeseen circumstances\n",
            "Generated: I felt a little nervous about the cancellation.\n",
            "==================================================\n",
            "Original: adjust: caring | intensity: 5 | scenario: Your grandmother is feeling lonely in her nursing home\n",
            "Generated: Your comfort and comfort are my priority - I'm here to help you find peace and peace.\n",
            "==================================================\n"
          ]
        },
        {
          "name": "stderr",
          "output_type": "stream",
          "text": [
            "\rTesting:  67%|██████▋   | 45/67 [00:15<00:07,  2.93it/s]"
          ]
        },
        {
          "name": "stdout",
          "output_type": "stream",
          "text": [
            "Original: adjust: caring | intensity: 6 | scenario: Your friend Peter lost his job during the pandemic\n",
            "Generated: Your life is my life - I'm here to help you through this.\n",
            "==================================================\n",
            "Original: adjust: caring | intensity: 6 | scenario: Your young niece is being bullied for her disability\n",
            "Generated: Your strength and strength are my priority - I'm here to help you overcome this problem.\n",
            "==================================================\n",
            "Original: adjust: anger | intensity: 10 | scenario: A partner breaking a promise\n",
            "Generated: I’m apprehensive about how they’re going to be.\n",
            "==================================================\n",
            "Original: adjust: anger | intensity: 9 | scenario: A cyclist swerving dangerously close to your car\n",
            "Generated: I’m apprehensive about how dangerous it is.\n",
            "==================================================\n",
            "Original: adjust: confusion | intensity: 10 | scenario: You're reading assembly instructions for furniture\n",
            "Generated: I'm apprehensive about how to make a piece of furniture.\n",
            "==================================================\n",
            "Original: adjust: confusion | intensity: 8 | scenario: You're watching experimental theater\n",
            "Generated: I'm apprehensive about how they're doing.\n",
            "==================================================\n",
            "Original: adjust: anger | intensity: 8 | scenario: Encountering rude or toxic behavior in an online game\n",
            "Generated: I’m apprehensive about how they’re doing.\n",
            "==================================================\n",
            "Original: adjust: anger | intensity: 1 | scenario: A loved one forgetting an important date\n",
            "Generated: I’m apprehensive about how much they’re missing.\n",
            "==================================================\n"
          ]
        },
        {
          "name": "stderr",
          "output_type": "stream",
          "text": [
            "\rTesting:  69%|██████▊   | 46/67 [00:15<00:07,  2.85it/s]"
          ]
        },
        {
          "name": "stdout",
          "output_type": "stream",
          "text": [
            "Original: adjust: caring | intensity: 3 | scenario: Your teenage neighbor is struggling with their sexual identity\n",
            "Generated: Your sexual identity is my priority - I'm here to help you find your way through this.\n",
            "==================================================\n",
            "Original: adjust: anger | intensity: 4 | scenario: Being stuck in a traffic jam caused by reckless driving\n",
            "Generated: I’m apprehensive about how much I’ll do.\n",
            "==================================================\n",
            "Original: adjust: anger | intensity: 10 | scenario: A pedestrian jaywalking and causing a sudden stop\n",
            "Generated: I’m apprehensive about how they’re going to stop.\n",
            "==================================================\n",
            "Original: adjust: anger | intensity: 5 | scenario: Being blamed for something you didn’t do\n",
            "Generated: I’m apprehensive about how much I’ll do.\n",
            "==================================================\n",
            "Original: adjust: fear | intensity: 4 | scenario: Missing an important deadline at work or school\n",
            "Generated: I’m apprehensive about how long it takes to reach this deadline.\n",
            "==================================================\n",
            "Original: adjust: confusion | intensity: 7 | scenario: You're understanding modern social media etiquette\n",
            "Generated: I'm apprehensive about how to use social media.\n",
            "==================================================\n",
            "Original: adjust: joy | intensity: 2 | scenario: I got a surprise birthday party from my friends and family\n",
            "Generated: I felt a little nervous about the party.\n",
            "==================================================\n",
            "Original: adjust: confusion | intensity: 3 | scenario: You're watching your child grow into a teenager\n",
            "Generated: I'm apprehensive about how they're going to grow.\n",
            "==================================================\n"
          ]
        },
        {
          "name": "stderr",
          "output_type": "stream",
          "text": [
            "\rTesting:  70%|███████   | 47/67 [00:16<00:07,  2.84it/s]"
          ]
        },
        {
          "name": "stdout",
          "output_type": "stream",
          "text": [
            "Original: adjust: sadness | intensity: 4 | scenario: I found out someone I admire doesn’t feel the same about me\n",
            "Generated: I felt a little irritated, feeling like I’d never felt the same.\n",
            "==================================================\n",
            "Original: adjust: sadness | intensity: 10 | scenario: I got a rejection letter for a program I wanted to join\n",
            "Generated: I felt a small sense of sadness, feeling like I was a little overwhelmed.\n",
            "==================================================\n",
            "Original: adjust: caring | intensity: 1 | scenario: Your colleague returned to work after losing a child\n",
            "Generated: Your recovery is my priority - I'm here to help you recover.\n",
            "==================================================\n",
            "Original: adjust: confusion | intensity: 9 | scenario: You're debugging complex code\n",
            "Generated: I'm apprehensive about how to code complex code.\n",
            "==================================================\n",
            "Original: adjust: sadness | intensity: 4 | scenario: I had to say goodbye to a cherished place from my childhood\n",
            "Generated: I felt a small sense of sadness, feeling like I was surrounded by memories.\n",
            "==================================================\n",
            "Original: adjust: joy | intensity: 7 | scenario: I took a perfect photo of a beautiful moment\n",
            "Generated: I felt a little awed, thinking about how I could see it.\n",
            "==================================================\n",
            "Original: adjust: fear | intensity: 8 | scenario: Forgetting to study for an important exam\n",
            "Generated: I’m apprehensive about how much I’ll do.\n",
            "==================================================\n",
            "Original: adjust: sadness | intensity: 5 | scenario: I didn’t get the job I was really hoping for\n",
            "Generated: I felt a little nervous about how much I needed.\n",
            "==================================================\n"
          ]
        },
        {
          "name": "stderr",
          "output_type": "stream",
          "text": [
            "\rTesting:  72%|███████▏  | 48/67 [00:16<00:06,  2.84it/s]"
          ]
        },
        {
          "name": "stdout",
          "output_type": "stream",
          "text": [
            "Original: adjust: joy | intensity: 1 | scenario: I woke up to the smell of my favorite breakfast\n",
            "Generated: I felt a little a little nervous, feeling like I was enjoying the breakfast.\n",
            "==================================================\n",
            "Original: adjust: joy | intensity: 10 | scenario: I found the perfect gift for a loved one\n",
            "Generated: I felt a little nervous about how much I needed.\n",
            "==================================================\n",
            "Original: adjust: confusion | intensity: 4 | scenario: You're debugging a neural network\n",
            "Generated: I'm apprehensive about how to use neural networks.\n",
            "==================================================\n",
            "Original: adjust: anger | intensity: 3 | scenario: A driver not signaling their turns\n",
            "Generated: I’m apprehensive about how they’re going to be.\n",
            "==================================================\n",
            "Original: adjust: joy | intensity: 5 | scenario: I reunited with my family for the holidays\n",
            "Generated: I felt a little a little nervous about the holidays.\n",
            "==================================================\n",
            "Original: adjust: fear | intensity: 3 | scenario: Witnessing a car crash nearby\n",
            "Generated: I’m apprehensive about how much I’ll do.\n",
            "==================================================\n",
            "Original: adjust: sadness | intensity: 4 | scenario: I received bad news from a family member\n",
            "Generated: I felt a little irritated, feeling like I was in awe.\n",
            "==================================================\n",
            "Original: adjust: sadness | intensity: 4 | scenario: I wasn’t chosen for the team I really wanted to join\n",
            "Generated: I felt a little nervous about being chosen.\n",
            "==================================================\n"
          ]
        },
        {
          "name": "stderr",
          "output_type": "stream",
          "text": [
            "\rTesting:  73%|███████▎  | 49/67 [00:17<00:06,  2.86it/s]"
          ]
        },
        {
          "name": "stdout",
          "output_type": "stream",
          "text": [
            "Original: adjust: anger | intensity: 1 | scenario: A driver not signaling their turns\n",
            "Generated: I’m apprehensive about how they’re going to be.\n",
            "==================================================\n",
            "Original: adjust: joy | intensity: 8 | scenario: I finally solved a tricky problem I’d been stuck on\n",
            "Generated: I felt a little overwhelmed, thinking about how I could solve it.\n",
            "==================================================\n",
            "Original: adjust: anger | intensity: 3 | scenario: A rude customer service representative\n",
            "Generated: I’m apprehensive about how they’re doing.\n",
            "==================================================\n",
            "Original: adjust: anger | intensity: 6 | scenario: A phone call dropping repeatedly\n",
            "Generated: I’m apprehensive about how they’re doing.\n",
            "==================================================\n",
            "Original: adjust: joy | intensity: 6 | scenario: I finally adopted the puppy I’ve always wanted\n",
            "Generated: I felt a little apprehensive about how I’d adopted them.\n",
            "==================================================\n",
            "Original: adjust: fear | intensity: 10 | scenario: Losing control of your car on an icy road\n",
            "Generated: I’m apprehensive about how much you’re losing.\n",
            "==================================================\n",
            "Original: adjust: anger | intensity: 7 | scenario: A teenager breaking household rules\n",
            "Generated: I’m apprehensive about how they’re going to break the rules.\n",
            "==================================================\n",
            "Original: adjust: fear | intensity: 10 | scenario: Hearing footsteps behind you in a dimly lit street\n",
            "Generated: I’m apprehensive about how they’re going to be.\n",
            "==================================================\n"
          ]
        },
        {
          "name": "stderr",
          "output_type": "stream",
          "text": [
            "\rTesting:  75%|███████▍  | 50/67 [00:17<00:05,  2.89it/s]"
          ]
        },
        {
          "name": "stdout",
          "output_type": "stream",
          "text": [
            "Original: adjust: joy | intensity: 9 | scenario: I received a compliment from someone I admire\n",
            "Generated: I felt a small sense of gratitude.\n",
            "==================================================\n",
            "Original: adjust: joy | intensity: 1 | scenario: I finally solved a tricky problem I’d been stuck on\n",
            "Generated: I felt a little overwhelmed, thinking about how I could solve it.\n",
            "==================================================\n",
            "Original: adjust: anger | intensity: 9 | scenario: Encountering rude or toxic behavior in an online game\n",
            "Generated: I’m apprehensive about how they’re doing.\n",
            "==================================================\n",
            "Original: adjust: sadness | intensity: 2 | scenario: I felt nostalgic for a time when life felt simpler\n",
            "Generated: I felt a little nostalgic about how it felt.\n",
            "==================================================\n",
            "Original: adjust: fear | intensity: 8 | scenario: Missing an important deadline at work or school\n",
            "Generated: I’m apprehensive about how long it takes to reach this deadline.\n",
            "==================================================\n",
            "Original: adjust: anger | intensity: 8 | scenario: Comments escalating into arguments unnecessarily\n",
            "Generated: I’m apprehensive about how they’re going to be.\n",
            "==================================================\n",
            "Original: adjust: sadness | intensity: 10 | scenario: I forgot my friend’s birthday and hurt their feelings\n",
            "Generated: I felt a little sad thinking about how much I needed to do.\n",
            "==================================================\n",
            "Original: adjust: caring | intensity: 2 | scenario: Your single-parent friend is facing eviction\n",
            "Generated: Your family and I’ll be here to help you through this transition.\n",
            "==================================================\n"
          ]
        },
        {
          "name": "stderr",
          "output_type": "stream",
          "text": [
            "\rTesting:  76%|███████▌  | 51/67 [00:17<00:05,  2.89it/s]"
          ]
        },
        {
          "name": "stdout",
          "output_type": "stream",
          "text": [
            "Original: adjust: anger | intensity: 4 | scenario: Fake news being shared widely\n",
            "Generated: I’m apprehensive about how they’re sharing this.\n",
            "==================================================\n",
            "Original: adjust: anger | intensity: 10 | scenario: Someone misrepresenting your words online\n",
            "Generated: I’m apprehensive about how they’re doing.\n",
            "==================================================\n",
            "Original: adjust: anger | intensity: 8 | scenario: Delayed public transportation without clear communication\n",
            "Generated: I’m apprehensive about the delay.\n",
            "==================================================\n",
            "Original: adjust: confusion | intensity: 8 | scenario: You're trying to read body language in a job interview\n",
            "Generated: I'm apprehensive about how to read body language.\n",
            "==================================================\n",
            "Original: adjust: anger | intensity: 5 | scenario: A computer crashing during important work\n",
            "Generated: I’m apprehensive about how much I’ll do.\n",
            "==================================================\n",
            "Original: adjust: anger | intensity: 3 | scenario: Facing favoritism in workplace promotions\n",
            "Generated: I’m apprehensive about the importance of favoritism.\n",
            "==================================================\n",
            "Original: adjust: caring | intensity: 8 | scenario: Your grandmother is feeling lonely in her nursing home\n",
            "Generated: Your comfort and comfort are my priority - I'm here to help you find peace.\n",
            "==================================================\n",
            "Original: adjust: joy | intensity: 10 | scenario: I laughed with friends around a bonfire\n",
            "Generated: I felt a little nervous, thinking about how I felt.\n",
            "==================================================\n"
          ]
        },
        {
          "name": "stderr",
          "output_type": "stream",
          "text": [
            "\rTesting:  78%|███████▊  | 52/67 [00:18<00:05,  2.88it/s]"
          ]
        },
        {
          "name": "stdout",
          "output_type": "stream",
          "text": [
            "Original: adjust: joy | intensity: 2 | scenario: I completed a challenging workout I thought I couldn’t do\n",
            "Generated: I felt a little nervous, thinking about what I’d do.\n",
            "==================================================\n",
            "Original: adjust: anger | intensity: 2 | scenario: Receiving vague or contradictory instructions\n",
            "Generated: I’m apprehensive about how they’re going to be.\n",
            "==================================================\n",
            "Original: adjust: anger | intensity: 3 | scenario: Being overcharged at a tourist site\n",
            "Generated: I’m apprehensive about how much I’ll do.\n",
            "==================================================\n",
            "Original: adjust: anger | intensity: 7 | scenario: A taxi driver taking a longer route unnecessarily\n",
            "Generated: I’m apprehensive about how long it takes to get through this.\n",
            "==================================================\n",
            "Original: adjust: joy | intensity: 1 | scenario: I received a surprise care package from a friend\n",
            "Generated: I felt a little nervous, feeling like I was in awe.\n",
            "==================================================\n",
            "Original: adjust: sadness | intensity: 10 | scenario: I had to part ways with a pet I could no longer care for\n",
            "Generated: I felt a little apprehensive about how much I needed to care for.\n",
            "==================================================\n",
            "Original: adjust: fear | intensity: 7 | scenario: Losing sight of your child in a busy store\n",
            "Generated: I’m apprehensive about how much they’re missing.\n",
            "==================================================\n",
            "Original: adjust: joy | intensity: 7 | scenario: I cooked a meal that everyone loved\n",
            "Generated: I felt a little nervous about how much I loved it.\n",
            "==================================================\n"
          ]
        },
        {
          "name": "stderr",
          "output_type": "stream",
          "text": [
            "\rTesting:  79%|███████▉  | 53/67 [00:18<00:04,  2.94it/s]"
          ]
        },
        {
          "name": "stdout",
          "output_type": "stream",
          "text": [
            "Original: adjust: sadness | intensity: 4 | scenario: I remembered a promise I couldn’t keep\n",
            "Generated: I felt a small sense of sadness, feeling like I was a little overwhelmed.\n",
            "==================================================\n",
            "Original: adjust: fear | intensity: 7 | scenario: Witnessing an armed robbery at a store\n",
            "Generated: I’m apprehensive about how they’re doing.\n",
            "==================================================\n",
            "Original: adjust: caring | intensity: 3 | scenario: Your friend's partner is diagnosed with terminal illness\n",
            "Generated: I’m apprehensive about how they feel about their illness.\n",
            "==================================================\n",
            "Original: adjust: fear | intensity: 8 | scenario: Hearing about a potential terrorist threat in your area\n",
            "Generated: I’m apprehensive about how dangerous it might be.\n",
            "==================================================\n",
            "Original: adjust: anger | intensity: 4 | scenario: A family member repeatedly interrupting you\n",
            "Generated: I’m apprehensive about how they’re interrupting you.\n",
            "==================================================\n",
            "Original: adjust: joy | intensity: 7 | scenario: I woke up to the smell of my favorite breakfast\n",
            "Generated: I felt a little a little nervous, feeling like I was enjoying the breakfast.\n",
            "==================================================\n",
            "Original: adjust: confusion | intensity: 5 | scenario: Your close friend suddenly starts acting distant\n",
            "Generated: I’m apprehensive about how they’re going to be.\n",
            "==================================================\n",
            "Original: adjust: caring | intensity: 2 | scenario: Your friend Alex just received a cancer diagnosis\n",
            "Generated: I’m apprehensive about how much you’re doing.\n",
            "==================================================\n"
          ]
        },
        {
          "name": "stderr",
          "output_type": "stream",
          "text": [
            "\rTesting:  81%|████████  | 54/67 [00:18<00:04,  2.89it/s]"
          ]
        },
        {
          "name": "stdout",
          "output_type": "stream",
          "text": [
            "Original: adjust: joy | intensity: 4 | scenario: I received a standing ovation after a performance\n",
            "Generated: I felt a small sense of sadness, feeling a small sense of joy.\n",
            "==================================================\n",
            "Original: adjust: sadness | intensity: 8 | scenario: I found out someone I admire doesn’t feel the same about me\n",
            "Generated: I felt a little irritated, feeling like I’d never felt the same.\n",
            "==================================================\n",
            "Original: adjust: confusion | intensity: 7 | scenario: You're learning chess strategies\n",
            "Generated: I'm apprehensive about how to use the game.\n",
            "==================================================\n",
            "Original: adjust: anger | intensity: 2 | scenario: A partner breaking a promise\n",
            "Generated: I’m apprehensive about how they’re going to break the promise.\n",
            "==================================================\n",
            "Original: adjust: anger | intensity: 2 | scenario: Receiving poor customer service at a store\n",
            "Generated: I’m annoyed that they’re not getting a good service.\n",
            "==================================================\n",
            "Original: adjust: sadness | intensity: 8 | scenario: I saw someone struggling and felt helpless to assist\n",
            "Generated: I felt a small sense of sadness, feeling a small sense of sadness.\n",
            "==================================================\n",
            "Original: adjust: anger | intensity: 8 | scenario: Fake news being shared widely\n",
            "Generated: I’m apprehensive about how they’re sharing this.\n",
            "==================================================\n",
            "Original: adjust: fear | intensity: 8 | scenario: Witnessing an armed robbery at a store\n",
            "Generated: I’m apprehensive about how they’re doing.\n",
            "==================================================\n"
          ]
        },
        {
          "name": "stderr",
          "output_type": "stream",
          "text": [
            "\rTesting:  82%|████████▏ | 55/67 [00:19<00:04,  2.94it/s]"
          ]
        },
        {
          "name": "stdout",
          "output_type": "stream",
          "text": [
            "Original: adjust: fear | intensity: 9 | scenario: Experiencing bullying at school or work\n",
            "Generated: I’m apprehensive about how bullying can affect my life.\n",
            "==================================================\n",
            "Original: adjust: anger | intensity: 4 | scenario: Long wait times for support on a critical issue\n",
            "Generated: I’m apprehensive about how long it takes to get support.\n",
            "==================================================\n",
            "Original: adjust: confusion | intensity: 4 | scenario: You're attending a quantum physics lecture\n",
            "Generated: I'm apprehensive about how much they're doing.\n",
            "==================================================\n",
            "Original: adjust: joy | intensity: 10 | scenario: I met a celebrity I look up to\n",
            "Generated: I felt a little nervous about how much I needed to do.\n",
            "==================================================\n",
            "Original: adjust: fear | intensity: 3 | scenario: Feeling your phone buzz in your pocket while it's already in your hand\n",
            "Generated: I'm apprehensive about how much you're doing.\n",
            "==================================================\n",
            "Original: adjust: sadness | intensity: 6 | scenario: I failed an important exam despite studying hard\n",
            "Generated: I felt a small sense of sadness, feeling a small sense of sadness.\n",
            "==================================================\n",
            "Original: adjust: sadness | intensity: 8 | scenario: I failed an important exam despite studying hard\n",
            "Generated: I felt a small sense of sadness, feeling like I had to do something wrong.\n",
            "==================================================\n",
            "Original: adjust: confusion | intensity: 1 | scenario: You're reading weather radar maps\n",
            "Generated: I'm apprehensive about how they're doing.\n",
            "==================================================\n"
          ]
        },
        {
          "name": "stderr",
          "output_type": "stream",
          "text": [
            "\rTesting:  84%|████████▎ | 56/67 [00:19<00:03,  2.86it/s]"
          ]
        },
        {
          "name": "stdout",
          "output_type": "stream",
          "text": [
            "Original: adjust: confusion | intensity: 8 | scenario: You're reading assembly instructions for furniture\n",
            "Generated: I'm apprehensive about how to make a piece of furniture.\n",
            "==================================================\n",
            "Original: adjust: joy | intensity: 3 | scenario: I completed my first marathon\n",
            "Generated: I felt a little nervous about how I felt.\n",
            "==================================================\n",
            "Original: adjust: confusion | intensity: 7 | scenario: You're reading an abstract modern poem\n",
            "Generated: I'm apprehensive about how they're reading.\n",
            "==================================================\n",
            "Original: adjust: sadness | intensity: 7 | scenario: I broke something valuable that belonged to a loved one\n",
            "Generated: I felt a small sense of sadness, feeling like I was a little overwhelmed.\n",
            "==================================================\n",
            "Original: adjust: confusion | intensity: 9 | scenario: You're interpreting a child's imaginary friend situation\n",
            "Generated: I'm apprehensive about how they're doing.\n",
            "==================================================\n",
            "Original: adjust: caring | intensity: 5 | scenario: Your best friend Sarah is preparing for a major surgery\n",
            "Generated: Your health and wellness are my priority - I'm here to help you prepare for this surgery.\n",
            "==================================================\n",
            "Original: adjust: fear | intensity: 5 | scenario: Witnessing a car crash nearby\n",
            "Generated: I’m apprehensive about how much I’ll do.\n",
            "==================================================\n",
            "Original: adjust: fear | intensity: 1 | scenario: Dropping your phone into water\n",
            "Generated: I’m apprehensive about how they’re doing.\n",
            "==================================================\n"
          ]
        },
        {
          "name": "stderr",
          "output_type": "stream",
          "text": [
            "\rTesting:  85%|████████▌ | 57/67 [00:19<00:03,  2.85it/s]"
          ]
        },
        {
          "name": "stdout",
          "output_type": "stream",
          "text": [
            "Original: adjust: sadness | intensity: 6 | scenario: I had to part ways with a pet I could no longer care for\n",
            "Generated: I felt a little apprehensive about how much I needed to care for.\n",
            "==================================================\n",
            "Original: adjust: fear | intensity: 7 | scenario: Feeling your phone buzz in your pocket while it's already in your hand\n",
            "Generated: I'm apprehensive about how much you're doing.\n",
            "==================================================\n",
            "Original: adjust: joy | intensity: 2 | scenario: I reunited with my family for the holidays\n",
            "Generated: I felt a little a little nervous about the holidays.\n",
            "==================================================\n",
            "Original: adjust: anger | intensity: 3 | scenario: A family member repeatedly interrupting you\n",
            "Generated: I’m apprehensive about how they’re interrupting you.\n",
            "==================================================\n",
            "Original: adjust: fear | intensity: 2 | scenario: Feeling severe chest pain while alone\n",
            "Generated: I’m apprehensive about how much pain I’ll do.\n",
            "==================================================\n",
            "Original: adjust: anger | intensity: 7 | scenario: Someone misrepresenting your words online\n",
            "Generated: I’m apprehensive about how they’re doing.\n",
            "==================================================\n",
            "Original: adjust: confusion | intensity: 4 | scenario: Your friend explains a complex sci-fi movie plot\n",
            "Generated: Your story is a bit confusing, but I’ll try to explain it.\n",
            "==================================================\n",
            "Original: adjust: fear | intensity: 1 | scenario: Watching a loved one drown without knowing how to help\n",
            "Generated: I’m apprehensive about how to help.\n",
            "==================================================\n"
          ]
        },
        {
          "name": "stderr",
          "output_type": "stream",
          "text": [
            "\rTesting:  87%|████████▋ | 58/67 [00:20<00:03,  2.84it/s]"
          ]
        },
        {
          "name": "stdout",
          "output_type": "stream",
          "text": [
            "Original: adjust: caring | intensity: 3 | scenario: Your brother is experiencing burnout from overworking\n",
            "Generated: I’m apprehensive about how much you’re doing.\n",
            "==================================================\n",
            "Original: adjust: sadness | intensity: 5 | scenario: I saw someone crying and couldn’t find the right words to comfort them\n",
            "Generated: I felt a small sense of sadness, feeling like I’d been crying.\n",
            "==================================================\n",
            "Original: adjust: anger | intensity: 4 | scenario: A stranger cutting in line\n",
            "Generated: I’m apprehensive about how they’re going to get through this.\n",
            "==================================================\n",
            "Original: adjust: anger | intensity: 2 | scenario: Being overcharged on a bill\n",
            "Generated: I’m apprehensive about how much they’re going to pay.\n",
            "==================================================\n",
            "Original: adjust: joy | intensity: 8 | scenario: I reunited with a friend I hadn’t seen in years\n",
            "Generated: I felt a little apprehensive about how they’d gone.\n",
            "==================================================\n",
            "Original: adjust: anger | intensity: 9 | scenario: Long wait times for support on a critical issue\n",
            "Generated: I’m apprehensive about how long it takes to get support.\n",
            "==================================================\n",
            "Original: adjust: fear | intensity: 4 | scenario: Seeing a suspicious lump on your body\n",
            "Generated: I’m apprehensive about how much you’re feeling.\n",
            "==================================================\n",
            "Original: adjust: confusion | intensity: 9 | scenario: You're learning Arabic calligraphy\n",
            "Generated: I'm apprehensive about how to pronounce Arabic.\n",
            "==================================================\n"
          ]
        },
        {
          "name": "stderr",
          "output_type": "stream",
          "text": [
            "\rTesting:  88%|████████▊ | 59/67 [00:20<00:02,  2.90it/s]"
          ]
        },
        {
          "name": "stdout",
          "output_type": "stream",
          "text": [
            "Original: adjust: fear | intensity: 8 | scenario: Getting ghosted by a close friend or partner\n",
            "Generated: I’m apprehensive about how they’re going to be.\n",
            "==================================================\n",
            "Original: adjust: joy | intensity: 2 | scenario: I laughed with friends around a bonfire\n",
            "Generated: I felt a little nervous, thinking about how I felt.\n",
            "==================================================\n",
            "Original: adjust: anger | intensity: 4 | scenario: Being bumped into without an apology\n",
            "Generated: I’m apprehensive about how much I’ll do.\n",
            "==================================================\n",
            "Original: adjust: joy | intensity: 8 | scenario: I finished a creative project I’ve been working on for weeks\n",
            "Generated: I felt a little overwhelmed, thinking about what I’d done.\n",
            "==================================================\n",
            "Original: adjust: confusion | intensity: 1 | scenario: You're understanding modern social media etiquette\n",
            "Generated: I'm apprehensive about how to use social media.\n",
            "==================================================\n",
            "Original: adjust: joy | intensity: 10 | scenario: I got my dream job offer\n",
            "Generated: I felt a little nervous about how much I wanted to do.\n",
            "==================================================\n",
            "Original: adjust: fear | intensity: 4 | scenario: Hearing a strange noise in your house at night\n",
            "Generated: I’m apprehensive about how they’re doing.\n",
            "==================================================\n",
            "Original: adjust: confusion | intensity: 6 | scenario: You're interpreting a child's imaginary friend situation\n",
            "Generated: I'm apprehensive about how they're doing.\n",
            "==================================================\n"
          ]
        },
        {
          "name": "stderr",
          "output_type": "stream",
          "text": [
            "\rTesting:  90%|████████▉ | 60/67 [00:20<00:02,  2.91it/s]"
          ]
        },
        {
          "name": "stdout",
          "output_type": "stream",
          "text": [
            "Original: adjust: joy | intensity: 2 | scenario: I finally solved a tricky problem I’d been stuck on\n",
            "Generated: I felt a little overwhelmed, thinking about how I could solve it.\n",
            "==================================================\n",
            "Original: adjust: sadness | intensity: 3 | scenario: I failed to meet my own expectations for a project\n",
            "Generated: I felt a small sense of disappointment.\n",
            "==================================================\n",
            "Original: adjust: confusion | intensity: 1 | scenario: You're trying to understand family holiday traditions\n",
            "Generated: I'm apprehensive about how they're doing.\n",
            "==================================================\n",
            "Original: adjust: confusion | intensity: 8 | scenario: You're playing a new board game\n",
            "Generated: I'm apprehensive about how they're playing.\n",
            "==================================================\n",
            "Original: adjust: joy | intensity: 7 | scenario: I discovered a $20 bill in an old jacket pocket\n",
            "Generated: I felt a small sense of sadness, feeling like I was in a pocket.\n",
            "==================================================\n",
            "Original: adjust: caring | intensity: 9 | scenario: Your autistic child is being transferred to a new school\n",
            "Generated: I’m completely committed to supporting you through this transition.\n",
            "==================================================\n",
            "Original: adjust: caring | intensity: 5 | scenario: Your mentor is retiring after guiding you for years\n",
            "Generated: Your journey is my journey - I'm here to help you through this journey.\n",
            "==================================================\n",
            "Original: adjust: fear | intensity: 6 | scenario: Entering a dark parking garage alone\n",
            "Generated: I’m apprehensive about how much I’ll do.\n",
            "==================================================\n"
          ]
        },
        {
          "name": "stderr",
          "output_type": "stream",
          "text": [
            "\rTesting:  91%|█████████ | 61/67 [00:21<00:02,  2.89it/s]"
          ]
        },
        {
          "name": "stdout",
          "output_type": "stream",
          "text": [
            "Original: adjust: caring | intensity: 7 | scenario: Your friend's small farm is failing due to drought\n",
            "Generated: Your livelihood is my priority - I'm here to help you stay safe and secure.\n",
            "==================================================\n",
            "Original: adjust: anger | intensity: 4 | scenario: A child ignoring repeated instructions\n",
            "Generated: I’m apprehensive about how they’re doing.\n",
            "==================================================\n",
            "Original: adjust: anger | intensity: 2 | scenario: Unexplained fees on a subscription service\n",
            "Generated: I’m apprehensive about how much they’re paying.\n",
            "==================================================\n",
            "Original: adjust: confusion | intensity: 1 | scenario: You're studying bonsai cultivation\n",
            "Generated: I'm apprehensive about how much I'm doing.\n",
            "==================================================\n",
            "Original: adjust: confusion | intensity: 9 | scenario: You're trying to follow a recipe from your grandmother\n",
            "Generated: I'm apprehensive about how they're doing.\n",
            "==================================================\n",
            "Original: adjust: sadness | intensity: 4 | scenario: I noticed I wasn’t making progress on something I care about\n",
            "Generated: I sighed, feeling slightly uneasy.\n",
            "==================================================\n",
            "Original: adjust: fear | intensity: 10 | scenario: Your car breaking down in a remote area\n",
            "Generated: I’m apprehensive about how much it’s going to cost me.\n",
            "==================================================\n",
            "Original: adjust: anger | intensity: 10 | scenario: Being micromanaged by a superior\n",
            "Generated: I’m apprehensive about how they’re managed.\n",
            "==================================================\n"
          ]
        },
        {
          "name": "stderr",
          "output_type": "stream",
          "text": [
            "\rTesting:  93%|█████████▎| 62/67 [00:21<00:01,  2.88it/s]"
          ]
        },
        {
          "name": "stdout",
          "output_type": "stream",
          "text": [
            "Original: adjust: confusion | intensity: 1 | scenario: You're reading assembly instructions for furniture\n",
            "Generated: I'm apprehensive about how to make a piece of furniture.\n",
            "==================================================\n",
            "Original: adjust: confusion | intensity: 2 | scenario: You're studying medieval warfare tactics\n",
            "Generated: I'm apprehensive about how to use medieval tactics.\n",
            "==================================================\n",
            "Original: adjust: caring | intensity: 3 | scenario: Your colleague is going through a messy custody battle\n",
            "Generated: I’m apprehensive about how they’re going to fight for justice.\n",
            "==================================================\n",
            "Original: adjust: joy | intensity: 7 | scenario: I witnessed a baby’s first steps\n",
            "Generated: I felt a little nervous about how they’d walked.\n",
            "==================================================\n",
            "Original: adjust: fear | intensity: 8 | scenario: Feeling turbulence during a flight\n",
            "Generated: I’m apprehensive about how they’re feeling.\n",
            "==================================================\n",
            "Original: adjust: confusion | intensity: 1 | scenario: You're studying wine fermentation chemistry\n",
            "Generated: I'm apprehensive about how to make a wine.\n",
            "==================================================\n",
            "Original: adjust: sadness | intensity: 4 | scenario: I failed to accomplish a goal I set for myself\n",
            "Generated: I felt a small sense of sadness, feeling like I was missing out.\n",
            "==================================================\n",
            "Original: adjust: confusion | intensity: 10 | scenario: You're reading assembly instructions for furniture\n",
            "Generated: I'm apprehensive about how to make a piece of furniture.\n",
            "==================================================\n"
          ]
        },
        {
          "name": "stderr",
          "output_type": "stream",
          "text": [
            "\rTesting:  94%|█████████▍| 63/67 [00:21<00:01,  2.83it/s]"
          ]
        },
        {
          "name": "stdout",
          "output_type": "stream",
          "text": [
            "Original: adjust: confusion | intensity: 10 | scenario: You're interpreting mixed signals from a crush\n",
            "Generated: I'm apprehensive about how they're reacting.\n",
            "==================================================\n",
            "Original: adjust: confusion | intensity: 2 | scenario: You're trying to decipher dating app signals\n",
            "Generated: I'm annoyed that they're not able to understand the signals.\n",
            "==================================================\n",
            "Original: adjust: caring | intensity: 5 | scenario: Your younger sibling is struggling with their first year of college\n",
            "Generated: Your success is my priority - I'm here to help you succeed in this difficult time.\n",
            "==================================================\n",
            "Original: adjust: confusion | intensity: 4 | scenario: You're learning Arabic calligraphy\n",
            "Generated: I'm apprehensive about how to pronounce Arabic.\n",
            "==================================================\n",
            "Original: adjust: sadness | intensity: 4 | scenario: I felt left out when others were reminiscing about shared experiences\n",
            "Generated: I felt a little agitated, thinking, “I’ll share this.”\n",
            "==================================================\n",
            "Original: adjust: caring | intensity: 2 | scenario: Your neighbor's house was damaged in a natural disaster\n",
            "Generated: Your safety and security are paramount - I'm here to help you recover.\n",
            "==================================================\n",
            "Original: adjust: anger | intensity: 9 | scenario: Facing favoritism in workplace promotions\n",
            "Generated: I’m apprehensive about the importance of favoritism.\n",
            "==================================================\n",
            "Original: adjust: anger | intensity: 7 | scenario: Encountering rude or toxic behavior in an online game\n",
            "Generated: I’m apprehensive about how they’re doing.\n",
            "==================================================\n"
          ]
        },
        {
          "name": "stderr",
          "output_type": "stream",
          "text": [
            "\rTesting:  96%|█████████▌| 64/67 [00:22<00:01,  2.82it/s]"
          ]
        },
        {
          "name": "stdout",
          "output_type": "stream",
          "text": [
            "Original: adjust: fear | intensity: 1 | scenario: Escaping from a building due to a fire alarm\n",
            "Generated: I’m apprehensive about how much I’ll do.\n",
            "==================================================\n",
            "Original: adjust: sadness | intensity: 5 | scenario: I watched a sad documentary about a social issue\n",
            "Generated: I felt a little sad thinking about how they’re dealing with this.\n",
            "==================================================\n",
            "Original: adjust: confusion | intensity: 9 | scenario: You're analyzing ancient astronomical records\n",
            "Generated: I'm apprehensive about how ancient history is.\n",
            "==================================================\n",
            "Original: adjust: joy | intensity: 8 | scenario: I saw a double rainbow on my way home\n",
            "Generated: I felt a little agitated, thinking about how much I could do.\n",
            "==================================================\n",
            "Original: adjust: confusion | intensity: 9 | scenario: You're understanding modern social media etiquette\n",
            "Generated: I'm apprehensive about how to use social media.\n",
            "==================================================\n",
            "Original: adjust: caring | intensity: 4 | scenario: Your spouse just received a devastating career setback\n",
            "Generated: Your career has been a bit traumatic - I'm here to help you overcome this.\n",
            "==================================================\n",
            "Original: adjust: anger | intensity: 5 | scenario: Miscommunication causing tension at family gatherings\n",
            "Generated: I’m apprehensive about how they’re dealing with this.\n",
            "==================================================\n",
            "Original: adjust: confusion | intensity: 2 | scenario: You're studying crystal formation patterns\n",
            "Generated: I'm apprehensive about how crystal formation patterns are.\n",
            "==================================================\n"
          ]
        },
        {
          "name": "stderr",
          "output_type": "stream",
          "text": [
            "\rTesting:  97%|█████████▋| 65/67 [00:22<00:00,  2.90it/s]"
          ]
        },
        {
          "name": "stdout",
          "output_type": "stream",
          "text": [
            "Original: adjust: anger | intensity: 6 | scenario: A delayed package without an explanation\n",
            "Generated: I’m apprehensive about the delay.\n",
            "==================================================\n",
            "Original: adjust: sadness | intensity: 9 | scenario: I learned a sad story about someone’s past\n",
            "Generated: I felt a little sad thinking about how they’d gone.\n",
            "==================================================\n",
            "Original: adjust: anger | intensity: 9 | scenario: A promised callback not happening\n",
            "Generated: I’m apprehensive about how they’re going to be.\n",
            "==================================================\n",
            "Original: adjust: anger | intensity: 7 | scenario: Receiving vague or contradictory instructions\n",
            "Generated: I’m apprehensive about how they’re going to be.\n",
            "==================================================\n",
            "Original: adjust: joy | intensity: 9 | scenario: I got a promotion at work\n",
            "Generated: I felt a little nervous about how much I needed to do.\n",
            "==================================================\n",
            "Original: adjust: sadness | intensity: 4 | scenario: I missed an important deadline that I couldn’t make up\n",
            "Generated: I felt a small sense of sadness, feeling like I missed something.\n",
            "==================================================\n",
            "Original: adjust: joy | intensity: 6 | scenario: I saw someone’s eyes light up at my gift\n",
            "Generated: I felt a little glamor, feeling a sense of joy.\n",
            "==================================================\n",
            "Original: adjust: anger | intensity: 5 | scenario: A friend gossiping about you\n",
            "Generated: I’m apprehensive about how they’re going to be.\n",
            "==================================================\n"
          ]
        },
        {
          "name": "stderr",
          "output_type": "stream",
          "text": [
            "\rTesting:  99%|█████████▊| 66/67 [00:22<00:00,  2.82it/s]"
          ]
        },
        {
          "name": "stdout",
          "output_type": "stream",
          "text": [
            "Original: adjust: caring | intensity: 8 | scenario: Your young colleague is experiencing workplace discrimination\n",
            "Generated: I’m apprehensive about how they’re dealing with discrimination.\n",
            "==================================================\n",
            "Original: adjust: confusion | intensity: 3 | scenario: You're analyzing political game theory\n",
            "Generated: I'm apprehensive about how to solve this problem.\n",
            "==================================================\n",
            "Original: adjust: caring | intensity: 10 | scenario: Your child's teacher is battling health issues while teaching\n",
            "Generated: Your health and wellbeing are important to me - I'm here to help you stay safe and secure.\n",
            "==================================================\n",
            "Original: adjust: caring | intensity: 1 | scenario: Your colleague is going through a messy custody battle\n",
            "Generated: I’m apprehensive about how they’re going to fight for justice.\n",
            "==================================================\n",
            "Original: adjust: confusion | intensity: 1 | scenario: You're studying dream symbolism\n",
            "Generated: I'm apprehensive about how to make it.\n",
            "==================================================\n",
            "Original: adjust: fear | intensity: 2 | scenario: Being chased by a wild animal while hiking\n",
            "Generated: I’m apprehensive about how they’re doing.\n",
            "==================================================\n",
            "Original: adjust: sadness | intensity: 6 | scenario: I forgot my friend’s birthday and hurt their feelings\n",
            "Generated: I felt a little sad thinking about how much I needed to do.\n",
            "==================================================\n",
            "Original: adjust: sadness | intensity: 8 | scenario: I remembered a promise I couldn’t keep\n",
            "Generated: I felt a small sense of sadness, feeling like I was a little overwhelmed.\n",
            "==================================================\n"
          ]
        },
        {
          "name": "stderr",
          "output_type": "stream",
          "text": [
            "Testing: 100%|██████████| 67/67 [00:23<00:00,  2.88it/s]"
          ]
        },
        {
          "name": "stdout",
          "output_type": "stream",
          "text": [
            "Original: adjust: caring | intensity: 2 | scenario: Your pregnant colleague is working overtime\n",
            "Generated: I’m apprehensive about how much time you’re working.\n",
            "==================================================\n",
            "Original: adjust: sadness | intensity: 3 | scenario: I watched a sad documentary about a social issue\n",
            "Generated: I felt a little sad thinking about how they’re dealing with this.\n",
            "==================================================\n",
            "Original: adjust: anger | intensity: 5 | scenario: A toddler throwing a tantrum in public\n",
            "Generated: I’m apprehensive about how they’re doing.\n",
            "==================================================\n",
            "Original: adjust: anger | intensity: 8 | scenario: Cyberbullying targeting someone you care about\n",
            "Generated: I’m apprehensive about how they’re dealing with cyberbullying.\n",
            "==================================================\n",
            "Original: adjust: sadness | intensity: 9 | scenario: I had to let go of something I worked hard to achieve\n",
            "Generated: I felt a little overwhelmed, feeling like I was doing something hard.\n",
            "==================================================\n",
            "Original: adjust: sadness | intensity: 2 | scenario: I heard a song that reminded me of a difficult time\n",
            "Generated: I felt a little agitated, feeling a little more like a song.\n",
            "==================================================\n"
          ]
        },
        {
          "name": "stderr",
          "output_type": "stream",
          "text": [
            "\n"
          ]
        }
      ],
      "source": [
        "test_dataset = EmotionDataset(test, tokenizer)\n",
        "test_loader = DataLoader(test_dataset, batch_size=8)\n",
        "\n",
        "model.eval()\n",
        "with torch.no_grad():\n",
        "    for batch in tqdm(test_loader, desc=\"Testing\"):\n",
        "        input_ids = batch['input_ids'].to(device)\n",
        "        attention_mask = batch['attention_mask'].to(device)\n",
        "        generated_ids = model.generate(input_ids=input_ids, attention_mask=attention_mask, max_length=128)\n",
        "\n",
        "        decoded_inputs = tokenizer.batch_decode(input_ids, skip_special_tokens=True)\n",
        "        decoded_outputs = tokenizer.batch_decode(generated_ids, skip_special_tokens=True)\n",
        "\n",
        "        for i in range(len(decoded_inputs)):\n",
        "            print(f\"Original: {decoded_inputs[i]}\")\n",
        "            print(f\"Generated: {decoded_outputs[i]}\")\n",
        "            print(\"=\" * 50)\n"
      ]
    },
    {
      "cell_type": "code",
      "execution_count": null,
      "metadata": {
        "colab": {
          "base_uri": "https://localhost:8080/"
        },
        "id": "pS5mirQgEEJZ",
        "outputId": "22815af2-9511-4014-82a4-024edc3aca58"
      },
      "outputs": [
        {
          "data": {
            "text/plain": [
              "T5ForConditionalGeneration(\n",
              "  (shared): Embedding(32128, 512)\n",
              "  (encoder): T5Stack(\n",
              "    (embed_tokens): Embedding(32128, 512)\n",
              "    (block): ModuleList(\n",
              "      (0): T5Block(\n",
              "        (layer): ModuleList(\n",
              "          (0): T5LayerSelfAttention(\n",
              "            (SelfAttention): T5Attention(\n",
              "              (q): Linear(in_features=512, out_features=512, bias=False)\n",
              "              (k): Linear(in_features=512, out_features=512, bias=False)\n",
              "              (v): Linear(in_features=512, out_features=512, bias=False)\n",
              "              (o): Linear(in_features=512, out_features=512, bias=False)\n",
              "              (relative_attention_bias): Embedding(32, 8)\n",
              "            )\n",
              "            (layer_norm): T5LayerNorm()\n",
              "            (dropout): Dropout(p=0.1, inplace=False)\n",
              "          )\n",
              "          (1): T5LayerFF(\n",
              "            (DenseReluDense): T5DenseActDense(\n",
              "              (wi): Linear(in_features=512, out_features=2048, bias=False)\n",
              "              (wo): Linear(in_features=2048, out_features=512, bias=False)\n",
              "              (dropout): Dropout(p=0.1, inplace=False)\n",
              "              (act): ReLU()\n",
              "            )\n",
              "            (layer_norm): T5LayerNorm()\n",
              "            (dropout): Dropout(p=0.1, inplace=False)\n",
              "          )\n",
              "        )\n",
              "      )\n",
              "      (1-5): 5 x T5Block(\n",
              "        (layer): ModuleList(\n",
              "          (0): T5LayerSelfAttention(\n",
              "            (SelfAttention): T5Attention(\n",
              "              (q): Linear(in_features=512, out_features=512, bias=False)\n",
              "              (k): Linear(in_features=512, out_features=512, bias=False)\n",
              "              (v): Linear(in_features=512, out_features=512, bias=False)\n",
              "              (o): Linear(in_features=512, out_features=512, bias=False)\n",
              "            )\n",
              "            (layer_norm): T5LayerNorm()\n",
              "            (dropout): Dropout(p=0.1, inplace=False)\n",
              "          )\n",
              "          (1): T5LayerFF(\n",
              "            (DenseReluDense): T5DenseActDense(\n",
              "              (wi): Linear(in_features=512, out_features=2048, bias=False)\n",
              "              (wo): Linear(in_features=2048, out_features=512, bias=False)\n",
              "              (dropout): Dropout(p=0.1, inplace=False)\n",
              "              (act): ReLU()\n",
              "            )\n",
              "            (layer_norm): T5LayerNorm()\n",
              "            (dropout): Dropout(p=0.1, inplace=False)\n",
              "          )\n",
              "        )\n",
              "      )\n",
              "    )\n",
              "    (final_layer_norm): T5LayerNorm()\n",
              "    (dropout): Dropout(p=0.1, inplace=False)\n",
              "  )\n",
              "  (decoder): T5Stack(\n",
              "    (embed_tokens): Embedding(32128, 512)\n",
              "    (block): ModuleList(\n",
              "      (0): T5Block(\n",
              "        (layer): ModuleList(\n",
              "          (0): T5LayerSelfAttention(\n",
              "            (SelfAttention): T5Attention(\n",
              "              (q): Linear(in_features=512, out_features=512, bias=False)\n",
              "              (k): Linear(in_features=512, out_features=512, bias=False)\n",
              "              (v): Linear(in_features=512, out_features=512, bias=False)\n",
              "              (o): Linear(in_features=512, out_features=512, bias=False)\n",
              "              (relative_attention_bias): Embedding(32, 8)\n",
              "            )\n",
              "            (layer_norm): T5LayerNorm()\n",
              "            (dropout): Dropout(p=0.1, inplace=False)\n",
              "          )\n",
              "          (1): T5LayerCrossAttention(\n",
              "            (EncDecAttention): T5Attention(\n",
              "              (q): Linear(in_features=512, out_features=512, bias=False)\n",
              "              (k): Linear(in_features=512, out_features=512, bias=False)\n",
              "              (v): Linear(in_features=512, out_features=512, bias=False)\n",
              "              (o): Linear(in_features=512, out_features=512, bias=False)\n",
              "            )\n",
              "            (layer_norm): T5LayerNorm()\n",
              "            (dropout): Dropout(p=0.1, inplace=False)\n",
              "          )\n",
              "          (2): T5LayerFF(\n",
              "            (DenseReluDense): T5DenseActDense(\n",
              "              (wi): Linear(in_features=512, out_features=2048, bias=False)\n",
              "              (wo): Linear(in_features=2048, out_features=512, bias=False)\n",
              "              (dropout): Dropout(p=0.1, inplace=False)\n",
              "              (act): ReLU()\n",
              "            )\n",
              "            (layer_norm): T5LayerNorm()\n",
              "            (dropout): Dropout(p=0.1, inplace=False)\n",
              "          )\n",
              "        )\n",
              "      )\n",
              "      (1-5): 5 x T5Block(\n",
              "        (layer): ModuleList(\n",
              "          (0): T5LayerSelfAttention(\n",
              "            (SelfAttention): T5Attention(\n",
              "              (q): Linear(in_features=512, out_features=512, bias=False)\n",
              "              (k): Linear(in_features=512, out_features=512, bias=False)\n",
              "              (v): Linear(in_features=512, out_features=512, bias=False)\n",
              "              (o): Linear(in_features=512, out_features=512, bias=False)\n",
              "            )\n",
              "            (layer_norm): T5LayerNorm()\n",
              "            (dropout): Dropout(p=0.1, inplace=False)\n",
              "          )\n",
              "          (1): T5LayerCrossAttention(\n",
              "            (EncDecAttention): T5Attention(\n",
              "              (q): Linear(in_features=512, out_features=512, bias=False)\n",
              "              (k): Linear(in_features=512, out_features=512, bias=False)\n",
              "              (v): Linear(in_features=512, out_features=512, bias=False)\n",
              "              (o): Linear(in_features=512, out_features=512, bias=False)\n",
              "            )\n",
              "            (layer_norm): T5LayerNorm()\n",
              "            (dropout): Dropout(p=0.1, inplace=False)\n",
              "          )\n",
              "          (2): T5LayerFF(\n",
              "            (DenseReluDense): T5DenseActDense(\n",
              "              (wi): Linear(in_features=512, out_features=2048, bias=False)\n",
              "              (wo): Linear(in_features=2048, out_features=512, bias=False)\n",
              "              (dropout): Dropout(p=0.1, inplace=False)\n",
              "              (act): ReLU()\n",
              "            )\n",
              "            (layer_norm): T5LayerNorm()\n",
              "            (dropout): Dropout(p=0.1, inplace=False)\n",
              "          )\n",
              "        )\n",
              "      )\n",
              "    )\n",
              "    (final_layer_norm): T5LayerNorm()\n",
              "    (dropout): Dropout(p=0.1, inplace=False)\n",
              "  )\n",
              "  (lm_head): Linear(in_features=512, out_features=32128, bias=False)\n",
              ")"
            ]
          },
          "execution_count": 44,
          "metadata": {},
          "output_type": "execute_result"
        }
      ],
      "source": [
        "from transformers import T5Tokenizer, T5ForConditionalGeneration\n",
        "import torch\n",
        "\n",
        "device = torch.device('cuda' if torch.cuda.is_available() else 'cpu')\n",
        "\n",
        "tokenizer_adjust = T5Tokenizer.from_pretrained('/content/t5_emotion_adjuster')\n",
        "model_adjust = T5ForConditionalGeneration.from_pretrained('/content/t5_emotion_adjuster')\n",
        "model_adjust.to(device)\n"
      ]
    },
    {
      "cell_type": "code",
      "execution_count": null,
      "metadata": {
        "id": "I3EEzIhsEFUz"
      },
      "outputs": [],
      "source": [
        "def test_emotion_adjuster(input_text):\n",
        "    encoded_input = tokenizer_adjust.encode(input_text, return_tensors=\"pt\", padding=True, truncation=True, max_length=512).to(device)\n",
        "    with torch.no_grad():\n",
        "        generated_ids = model_adjust.generate(encoded_input, max_length=512)\n",
        "\n",
        "    adjusted_text = tokenizer_adjust.decode(generated_ids[0], skip_special_tokens=True)\n",
        "    return adjusted_text\n"
      ]
    },
    {
      "cell_type": "markdown",
      "metadata": {
        "id": "rwJjgBjKuOIu"
      },
      "source": [
        "## Pipeline"
      ]
    },
    {
      "cell_type": "code",
      "execution_count": null,
      "metadata": {
        "colab": {
          "base_uri": "https://localhost:8080/"
        },
        "id": "1kdE7q9Q_Jnj",
        "outputId": "8c6eafb5-8b70-4c13-f51f-76fa4c7fde7c"
      },
      "outputs": [
        {
          "name": "stderr",
          "output_type": "stream",
          "text": [
            "<ipython-input-46-a2f43a6a48b2>:24: FutureWarning: You are using `torch.load` with `weights_only=False` (the current default value), which uses the default pickle module implicitly. It is possible to construct malicious pickle data which will execute arbitrary code during unpickling (See https://github.com/pytorch/pytorch/blob/main/SECURITY.md#untrusted-models for more details). In a future release, the default value for `weights_only` will be flipped to `True`. This limits the functions that could be executed during unpickling. Arbitrary objects will no longer be allowed to be loaded via this mode unless they are explicitly allowlisted by the user via `torch.serialization.add_safe_globals`. We recommend you start setting `weights_only=True` for any use case where you don't have full control of the loaded file. Please open an issue on GitHub for any issues related to this experimental feature.\n",
            "  model_state_dict = torch.load('/content/emotion_regressor.pth')\n"
          ]
        },
        {
          "name": "stdout",
          "output_type": "stream",
          "text": [
            "emotion of old sentence: sadness\n",
            "intensity of old sentence: 0.40\n",
            "new setence: I felt a little agitated, feeling a little apprehensive.\n",
            "intensity of new sentence: 0.51\n"
          ]
        }
      ],
      "source": [
        "import torch\n",
        "from transformers import AutoTokenizer, AutoModelForSequenceClassification, T5Tokenizer, T5ForConditionalGeneration, BertModel\n",
        "\n",
        "class CustomBertModel(torch.nn.Module):\n",
        "    def __init__(self, model_name='bert-base-uncased'):\n",
        "        super(CustomBertModel, self).__init__()\n",
        "        self.bert = BertModel.from_pretrained(model_name)\n",
        "        self.dropout = torch.nn.Dropout(0.1)\n",
        "        self.regressor = torch.nn.Linear(self.bert.config.hidden_size, 1)\n",
        "\n",
        "    def forward(self, input_ids, attention_mask, token_type_ids=None):\n",
        "        outputs = self.bert(input_ids=input_ids, attention_mask=attention_mask, token_type_ids=token_type_ids)\n",
        "        pooled_output = outputs.pooler_output\n",
        "        pooled_output = self.dropout(pooled_output)\n",
        "        logits = self.regressor(pooled_output)\n",
        "        return logits\n",
        "\n",
        "tokenizer_classify = AutoTokenizer.from_pretrained(\"/content/emotion_classifier\")\n",
        "model_classify = AutoModelForSequenceClassification.from_pretrained(\"/content/emotion_classifier\")\n",
        "\n",
        "model_intensity = CustomBertModel()\n",
        "model_state_dict = torch.load('/content/emotion_regressor.pth')\n",
        "model_intensity.load_state_dict(model_state_dict)\n",
        "\n",
        "tokenizer_adjust = T5Tokenizer.from_pretrained('/content/t5_emotion_adjuster')\n",
        "model_adjust = T5ForConditionalGeneration.from_pretrained('/content/t5_emotion_adjuster')\n",
        "\n",
        "device = torch.device('cuda' if torch.cuda.is_available() else 'cpu')\n",
        "model_classify.to(device)\n",
        "model_intensity.to(device)\n",
        "model_adjust.to(device)\n",
        "\n",
        "emotion_classes = {0: 'anger', 1: 'caring', 2: 'confusion', 3: 'fear', 4: 'joy', 5: 'sadness'}\n",
        "\n",
        "def emotion_adjustment_pipeline(input_sentence, desired_intensity):\n",
        "    inputs_classify = tokenizer_classify(input_sentence, return_tensors=\"pt\", padding=True, truncation=True)\n",
        "    inputs_classify = {key: val.to(device) for key, val in inputs_classify.items()}\n",
        "    outputs_classify = model_classify(**inputs_classify)\n",
        "    emotion_idx = torch.argmax(outputs_classify.logits, dim=1).item()\n",
        "    emotion = emotion_classes[emotion_idx]\n",
        "\n",
        "    outputs_intensity = model_intensity(**inputs_classify)\n",
        "    current_intensity = torch.sigmoid(outputs_intensity.squeeze()).item()\n",
        "\n",
        "    print(f\"emotion of old sentence: {emotion}\")\n",
        "    print(f\"intensity of old sentence: {current_intensity:.2f}\")\n",
        "\n",
        "    scaled_intensity = int(desired_intensity * 10) if 0 <= desired_intensity <= 1 else desired_intensity\n",
        "    adjust_input = f\"adjust: {emotion} | intensity: {scaled_intensity} | scenario: {input_sentence}\"\n",
        "    adjust_inputs = tokenizer_adjust(adjust_input, return_tensors=\"pt\", padding=True, truncation=True, max_length=100)\n",
        "    adjust_inputs = {key: val.to(device) for key, val in adjust_inputs.items()}\n",
        "    generated_ids = model_adjust.generate(**adjust_inputs, max_length=100)\n",
        "    adjusted_sentence = tokenizer_adjust.decode(generated_ids[0], skip_special_tokens=True)\n",
        "\n",
        "    # Step 4:\n",
        "    inputs_adjusted = tokenizer_classify(adjusted_sentence, return_tensors=\"pt\", padding=True, truncation=True)\n",
        "    inputs_adjusted = {key: val.to(device) for key, val in inputs_adjusted.items()}\n",
        "    outputs_new_intensity = model_intensity(**inputs_adjusted)\n",
        "    new_intensity = torch.sigmoid(outputs_new_intensity.squeeze()).item()\n",
        "\n",
        "\n",
        "    print(f\"new setence: {adjusted_sentence}\")\n",
        "    print(f\"intensity of new sentence: {new_intensity:.2f}\")\n",
        "\n",
        "    return emotion, current_intensity, adjusted_sentence, new_intensity\n",
        "\n",
        "# use pipeline\n",
        "input_sentence = \"I cried.\"\n",
        "desired_intensity = 0.2\n",
        "emotion, current_intensity, adjusted_sentence, new_intensity = emotion_adjustment_pipeline(input_sentence, desired_intensity)\n"
      ]
    },
    {
      "cell_type": "code",
      "execution_count": null,
      "metadata": {
        "colab": {
          "base_uri": "https://localhost:8080/"
        },
        "id": "4diEsZYAPEpM",
        "outputId": "542e66be-1c28-4a39-be2b-c0f4a285b251"
      },
      "outputs": [
        {
          "name": "stdout",
          "output_type": "stream",
          "text": [
            "Text: I feel great about the progress I have made.\n",
            "Predicted Intensity: 0.47\n",
            "\n",
            "Text: I am so sad to hear about your loss.\n",
            "Predicted Intensity: 0.41\n",
            "\n",
            "Text: I am furious about the situation.\n",
            "Predicted Intensity: 0.49\n",
            "\n",
            "Text: I got so nervous that I want to died right now!\n",
            "Predicted Intensity: 0.46\n",
            "\n",
            "Text: I'm feeling a bit confused by the instructions.\n",
            "Predicted Intensity: 0.50\n",
            "\n"
          ]
        }
      ],
      "source": [
        "def test_emotion_intensity_model(model, tokenizer, text_samples, device):\n",
        "    model.eval()\n",
        "    results = {}\n",
        "    for text in text_samples:\n",
        "        inputs = tokenizer(text, return_tensors=\"pt\", padding=True, truncation=True)\n",
        "        inputs = {key: val.to(device) for key, val in inputs.items()}\n",
        "        with torch.no_grad():\n",
        "            outputs = model(**inputs)\n",
        "            intensity = torch.sigmoid(outputs.squeeze()).item()\n",
        "        results[text] = intensity\n",
        "    return results\n",
        "\n",
        "# example\n",
        "text_samples = [\n",
        "    \"I feel great about the progress I have made.\",\n",
        "    \"I am so sad to hear about your loss.\",\n",
        "    \"I am furious about the situation.\",\n",
        "    \"I got so nervous that I want to died right now!\",\n",
        "    \"I'm feeling a bit confused by the instructions.\"\n",
        "]\n",
        "\n",
        "# function\n",
        "intensity_results = test_emotion_intensity_model(model_intensity, tokenizer_classify, text_samples, device)\n",
        "for text, intensity in intensity_results.items():\n",
        "    print(f\"Text: {text}\\nPredicted Intensity: {intensity:.2f}\\n\")\n"
      ]
    },
    {
      "cell_type": "code",
      "execution_count": null,
      "metadata": {
        "colab": {
          "base_uri": "https://localhost:8080/"
        },
        "id": "RWmkfZpJPO8t",
        "outputId": "59d87e62-00c9-4d79-bb54-f47bcd921687"
      },
      "outputs": [
        {
          "name": "stdout",
          "output_type": "stream",
          "text": [
            "Scenario: adjust: joy | intensity: 10 | scenario: I just got a new puppy and it's adorable.\n",
            "Adjusted Text: I smiled slightly, feeling like I'm a little overwhelmed.\n",
            "\n",
            "Scenario: adjust: joy | intensity: 1 | scenario: I just got a new puppy and it's adorable.\n",
            "Adjusted Text: I smiled slightly, feeling like I'm a little overwhelmed.\n",
            "\n",
            "Scenario: adjust: sadness | intensity: 10 | scenario: I am very sad about the news.\n",
            "Adjusted Text: I feel a little sad that they didn’t know what they were doing.\n",
            "\n",
            "Scenario: adjust: sadness | intensity: 1 | scenario: I am very sad about the news.\n",
            "Adjusted Text: I feel a little sad that they didn’t know what they were doing.\n",
            "\n",
            "Scenario: adjust: anger | intensity: 10 | scenario: This is the worst day ever.\n",
            "Adjusted Text: I’m apprehensive about how we’re going to be.\n",
            "\n"
          ]
        }
      ],
      "source": [
        "def test_emotion_adjuster(model, tokenizer, scenarios, device):\n",
        "    model.eval()\n",
        "    results = {}\n",
        "    for scenario, emotion, intensity in scenarios:\n",
        "        input_text = f\"adjust: {emotion} | intensity: {intensity} | scenario: {scenario}\"\n",
        "        encoded_input = tokenizer.encode(input_text, return_tensors=\"pt\", padding=True, truncation=True, max_length=100).to(device)\n",
        "        with torch.no_grad():\n",
        "            generated_ids = model.generate(encoded_input, max_length=100)\n",
        "        adjusted_text = tokenizer.decode(generated_ids[0], skip_special_tokens=True)\n",
        "        results[input_text] = adjusted_text\n",
        "    return results\n",
        "\n",
        "scenarios = [\n",
        "    (\"I just got a new puppy and it's adorable.\", \"joy\", 10),\n",
        "    (\"I just got a new puppy and it's adorable.\", \"joy\", 1),\n",
        "    (\"I am very sad about the news.\", \"sadness\", 10),\n",
        "    (\"I am very sad about the news.\", \"sadness\", 1),\n",
        "    (\"This is the worst day ever.\", \"anger\", 10)\n",
        "]\n",
        "\n",
        "adjustment_results = test_emotion_adjuster(model_adjust, tokenizer_adjust, scenarios, device)\n",
        "for scenario, adjusted_text in adjustment_results.items():\n",
        "    print(f\"Scenario: {scenario}\\nAdjusted Text: {adjusted_text}\\n\")\n"
      ]
    },
    {
      "cell_type": "markdown",
      "metadata": {
        "id": "qJgZMXSBXKeO"
      },
      "source": [
        "## Gradio for demo"
      ]
    },
    {
      "cell_type": "code",
      "execution_count": null,
      "metadata": {
        "colab": {
          "base_uri": "https://localhost:8080/",
          "height": 1000
        },
        "id": "Sn7NBbQAXOVB",
        "outputId": "c1dea41a-0751-4543-8381-c2d290b3e768"
      },
      "outputs": [
        {
          "name": "stdout",
          "output_type": "stream",
          "text": [
            "Collecting gradio\n",
            "  Downloading gradio-5.8.0-py3-none-any.whl.metadata (16 kB)\n",
            "Requirement already satisfied: transformers in /usr/local/lib/python3.10/dist-packages (4.46.3)\n",
            "Requirement already satisfied: torch in /usr/local/lib/python3.10/dist-packages (2.5.1+cu121)\n",
            "Collecting aiofiles<24.0,>=22.0 (from gradio)\n",
            "  Downloading aiofiles-23.2.1-py3-none-any.whl.metadata (9.7 kB)\n",
            "Requirement already satisfied: anyio<5.0,>=3.0 in /usr/local/lib/python3.10/dist-packages (from gradio) (3.7.1)\n",
            "Collecting fastapi<1.0,>=0.115.2 (from gradio)\n",
            "  Downloading fastapi-0.115.6-py3-none-any.whl.metadata (27 kB)\n",
            "Collecting ffmpy (from gradio)\n",
            "  Downloading ffmpy-0.4.0-py3-none-any.whl.metadata (2.9 kB)\n",
            "Collecting gradio-client==1.5.1 (from gradio)\n",
            "  Downloading gradio_client-1.5.1-py3-none-any.whl.metadata (7.1 kB)\n",
            "Requirement already satisfied: httpx>=0.24.1 in /usr/local/lib/python3.10/dist-packages (from gradio) (0.28.0)\n",
            "Requirement already satisfied: huggingface-hub>=0.25.1 in /usr/local/lib/python3.10/dist-packages (from gradio) (0.26.3)\n",
            "Requirement already satisfied: jinja2<4.0 in /usr/local/lib/python3.10/dist-packages (from gradio) (3.1.4)\n",
            "Collecting markupsafe~=2.0 (from gradio)\n",
            "  Downloading MarkupSafe-2.1.5-cp310-cp310-manylinux_2_17_x86_64.manylinux2014_x86_64.whl.metadata (3.0 kB)\n",
            "Requirement already satisfied: numpy<3.0,>=1.0 in /usr/local/lib/python3.10/dist-packages (from gradio) (1.26.4)\n",
            "Requirement already satisfied: orjson~=3.0 in /usr/local/lib/python3.10/dist-packages (from gradio) (3.10.12)\n",
            "Requirement already satisfied: packaging in /usr/local/lib/python3.10/dist-packages (from gradio) (24.2)\n",
            "Requirement already satisfied: pandas<3.0,>=1.0 in /usr/local/lib/python3.10/dist-packages (from gradio) (2.2.2)\n",
            "Requirement already satisfied: pillow<12.0,>=8.0 in /usr/local/lib/python3.10/dist-packages (from gradio) (11.0.0)\n",
            "Requirement already satisfied: pydantic>=2.0 in /usr/local/lib/python3.10/dist-packages (from gradio) (2.10.2)\n",
            "Collecting pydub (from gradio)\n",
            "  Downloading pydub-0.25.1-py2.py3-none-any.whl.metadata (1.4 kB)\n",
            "Collecting python-multipart>=0.0.18 (from gradio)\n",
            "  Downloading python_multipart-0.0.19-py3-none-any.whl.metadata (1.8 kB)\n",
            "Requirement already satisfied: pyyaml<7.0,>=5.0 in /usr/local/lib/python3.10/dist-packages (from gradio) (6.0.2)\n",
            "Collecting ruff>=0.2.2 (from gradio)\n",
            "  Downloading ruff-0.8.2-py3-none-manylinux_2_17_x86_64.manylinux2014_x86_64.whl.metadata (25 kB)\n",
            "Collecting safehttpx<0.2.0,>=0.1.6 (from gradio)\n",
            "  Downloading safehttpx-0.1.6-py3-none-any.whl.metadata (4.2 kB)\n",
            "Collecting semantic-version~=2.0 (from gradio)\n",
            "  Downloading semantic_version-2.10.0-py2.py3-none-any.whl.metadata (9.7 kB)\n",
            "Collecting starlette<1.0,>=0.40.0 (from gradio)\n",
            "  Downloading starlette-0.41.3-py3-none-any.whl.metadata (6.0 kB)\n",
            "Collecting tomlkit<0.14.0,>=0.12.0 (from gradio)\n",
            "  Downloading tomlkit-0.13.2-py3-none-any.whl.metadata (2.7 kB)\n",
            "Requirement already satisfied: typer<1.0,>=0.12 in /usr/local/lib/python3.10/dist-packages (from gradio) (0.14.0)\n",
            "Requirement already satisfied: typing-extensions~=4.0 in /usr/local/lib/python3.10/dist-packages (from gradio) (4.12.2)\n",
            "Collecting uvicorn>=0.14.0 (from gradio)\n",
            "  Downloading uvicorn-0.32.1-py3-none-any.whl.metadata (6.6 kB)\n",
            "Requirement already satisfied: fsspec in /usr/local/lib/python3.10/dist-packages (from gradio-client==1.5.1->gradio) (2024.10.0)\n",
            "Collecting websockets<15.0,>=10.0 (from gradio-client==1.5.1->gradio)\n",
            "  Downloading websockets-14.1-cp310-cp310-manylinux_2_5_x86_64.manylinux1_x86_64.manylinux_2_17_x86_64.manylinux2014_x86_64.whl.metadata (6.7 kB)\n",
            "Requirement already satisfied: filelock in /usr/local/lib/python3.10/dist-packages (from transformers) (3.16.1)\n",
            "Requirement already satisfied: regex!=2019.12.17 in /usr/local/lib/python3.10/dist-packages (from transformers) (2024.9.11)\n",
            "Requirement already satisfied: requests in /usr/local/lib/python3.10/dist-packages (from transformers) (2.32.3)\n",
            "Requirement already satisfied: tokenizers<0.21,>=0.20 in /usr/local/lib/python3.10/dist-packages (from transformers) (0.20.3)\n",
            "Requirement already satisfied: safetensors>=0.4.1 in /usr/local/lib/python3.10/dist-packages (from transformers) (0.4.5)\n",
            "Requirement already satisfied: tqdm>=4.27 in /usr/local/lib/python3.10/dist-packages (from transformers) (4.66.6)\n",
            "Requirement already satisfied: networkx in /usr/local/lib/python3.10/dist-packages (from torch) (3.4.2)\n",
            "Requirement already satisfied: sympy==1.13.1 in /usr/local/lib/python3.10/dist-packages (from torch) (1.13.1)\n",
            "Requirement already satisfied: mpmath<1.4,>=1.1.0 in /usr/local/lib/python3.10/dist-packages (from sympy==1.13.1->torch) (1.3.0)\n",
            "Requirement already satisfied: idna>=2.8 in /usr/local/lib/python3.10/dist-packages (from anyio<5.0,>=3.0->gradio) (3.10)\n",
            "Requirement already satisfied: sniffio>=1.1 in /usr/local/lib/python3.10/dist-packages (from anyio<5.0,>=3.0->gradio) (1.3.1)\n",
            "Requirement already satisfied: exceptiongroup in /usr/local/lib/python3.10/dist-packages (from anyio<5.0,>=3.0->gradio) (1.2.2)\n",
            "Requirement already satisfied: certifi in /usr/local/lib/python3.10/dist-packages (from httpx>=0.24.1->gradio) (2024.8.30)\n",
            "Requirement already satisfied: httpcore==1.* in /usr/local/lib/python3.10/dist-packages (from httpx>=0.24.1->gradio) (1.0.7)\n",
            "Requirement already satisfied: h11<0.15,>=0.13 in /usr/local/lib/python3.10/dist-packages (from httpcore==1.*->httpx>=0.24.1->gradio) (0.14.0)\n",
            "Requirement already satisfied: python-dateutil>=2.8.2 in /usr/local/lib/python3.10/dist-packages (from pandas<3.0,>=1.0->gradio) (2.8.2)\n",
            "Requirement already satisfied: pytz>=2020.1 in /usr/local/lib/python3.10/dist-packages (from pandas<3.0,>=1.0->gradio) (2024.2)\n",
            "Requirement already satisfied: tzdata>=2022.7 in /usr/local/lib/python3.10/dist-packages (from pandas<3.0,>=1.0->gradio) (2024.2)\n",
            "Requirement already satisfied: annotated-types>=0.6.0 in /usr/local/lib/python3.10/dist-packages (from pydantic>=2.0->gradio) (0.7.0)\n",
            "Requirement already satisfied: pydantic-core==2.27.1 in /usr/local/lib/python3.10/dist-packages (from pydantic>=2.0->gradio) (2.27.1)\n",
            "Requirement already satisfied: click>=8.0.0 in /usr/local/lib/python3.10/dist-packages (from typer<1.0,>=0.12->gradio) (8.1.7)\n",
            "Requirement already satisfied: shellingham>=1.3.0 in /usr/local/lib/python3.10/dist-packages (from typer<1.0,>=0.12->gradio) (1.5.4)\n",
            "Requirement already satisfied: rich>=10.11.0 in /usr/local/lib/python3.10/dist-packages (from typer<1.0,>=0.12->gradio) (13.9.4)\n",
            "Requirement already satisfied: charset-normalizer<4,>=2 in /usr/local/lib/python3.10/dist-packages (from requests->transformers) (3.4.0)\n",
            "Requirement already satisfied: urllib3<3,>=1.21.1 in /usr/local/lib/python3.10/dist-packages (from requests->transformers) (2.2.3)\n",
            "Requirement already satisfied: six>=1.5 in /usr/local/lib/python3.10/dist-packages (from python-dateutil>=2.8.2->pandas<3.0,>=1.0->gradio) (1.16.0)\n",
            "Requirement already satisfied: markdown-it-py>=2.2.0 in /usr/local/lib/python3.10/dist-packages (from rich>=10.11.0->typer<1.0,>=0.12->gradio) (3.0.0)\n",
            "Requirement already satisfied: pygments<3.0.0,>=2.13.0 in /usr/local/lib/python3.10/dist-packages (from rich>=10.11.0->typer<1.0,>=0.12->gradio) (2.18.0)\n",
            "Requirement already satisfied: mdurl~=0.1 in /usr/local/lib/python3.10/dist-packages (from markdown-it-py>=2.2.0->rich>=10.11.0->typer<1.0,>=0.12->gradio) (0.1.2)\n",
            "Downloading gradio-5.8.0-py3-none-any.whl (57.2 MB)\n",
            "\u001b[2K   \u001b[90m━━━━━━━━━━━━━━━━━━━━━━━━━━━━━━━━━━━━━━━━\u001b[0m \u001b[32m57.2/57.2 MB\u001b[0m \u001b[31m34.9 MB/s\u001b[0m eta \u001b[36m0:00:00\u001b[0m\n",
            "\u001b[?25hDownloading gradio_client-1.5.1-py3-none-any.whl (320 kB)\n",
            "\u001b[2K   \u001b[90m━━━━━━━━━━━━━━━━━━━━━━━━━━━━━━━━━━━━━━━━\u001b[0m \u001b[32m320.2/320.2 kB\u001b[0m \u001b[31m24.6 MB/s\u001b[0m eta \u001b[36m0:00:00\u001b[0m\n",
            "\u001b[?25hDownloading aiofiles-23.2.1-py3-none-any.whl (15 kB)\n",
            "Downloading fastapi-0.115.6-py3-none-any.whl (94 kB)\n",
            "\u001b[2K   \u001b[90m━━━━━━━━━━━━━━━━━━━━━━━━━━━━━━━━━━━━━━━━\u001b[0m \u001b[32m94.8/94.8 kB\u001b[0m \u001b[31m8.1 MB/s\u001b[0m eta \u001b[36m0:00:00\u001b[0m\n",
            "\u001b[?25hDownloading MarkupSafe-2.1.5-cp310-cp310-manylinux_2_17_x86_64.manylinux2014_x86_64.whl (25 kB)\n",
            "Downloading python_multipart-0.0.19-py3-none-any.whl (24 kB)\n",
            "Downloading ruff-0.8.2-py3-none-manylinux_2_17_x86_64.manylinux2014_x86_64.whl (11.2 MB)\n",
            "\u001b[2K   \u001b[90m━━━━━━━━━━━━━━━━━━━━━━━━━━━━━━━━━━━━━━━━\u001b[0m \u001b[32m11.2/11.2 MB\u001b[0m \u001b[31m112.7 MB/s\u001b[0m eta \u001b[36m0:00:00\u001b[0m\n",
            "\u001b[?25hDownloading safehttpx-0.1.6-py3-none-any.whl (8.7 kB)\n",
            "Downloading semantic_version-2.10.0-py2.py3-none-any.whl (15 kB)\n",
            "Downloading starlette-0.41.3-py3-none-any.whl (73 kB)\n",
            "\u001b[2K   \u001b[90m━━━━━━━━━━━━━━━━━━━━━━━━━━━━━━━━━━━━━━━━\u001b[0m \u001b[32m73.2/73.2 kB\u001b[0m \u001b[31m5.9 MB/s\u001b[0m eta \u001b[36m0:00:00\u001b[0m\n",
            "\u001b[?25hDownloading tomlkit-0.13.2-py3-none-any.whl (37 kB)\n",
            "Downloading uvicorn-0.32.1-py3-none-any.whl (63 kB)\n",
            "\u001b[2K   \u001b[90m━━━━━━━━━━━━━━━━━━━━━━━━━━━━━━━━━━━━━━━━\u001b[0m \u001b[32m63.8/63.8 kB\u001b[0m \u001b[31m5.5 MB/s\u001b[0m eta \u001b[36m0:00:00\u001b[0m\n",
            "\u001b[?25hDownloading ffmpy-0.4.0-py3-none-any.whl (5.8 kB)\n",
            "Downloading pydub-0.25.1-py2.py3-none-any.whl (32 kB)\n",
            "Downloading websockets-14.1-cp310-cp310-manylinux_2_5_x86_64.manylinux1_x86_64.manylinux_2_17_x86_64.manylinux2014_x86_64.whl (168 kB)\n",
            "\u001b[2K   \u001b[90m━━━━━━━━━━━━━━━━━━━━━━━━━━━━━━━━━━━━━━━━\u001b[0m \u001b[32m168.2/168.2 kB\u001b[0m \u001b[31m16.3 MB/s\u001b[0m eta \u001b[36m0:00:00\u001b[0m\n",
            "\u001b[?25hInstalling collected packages: pydub, websockets, uvicorn, tomlkit, semantic-version, ruff, python-multipart, markupsafe, ffmpy, aiofiles, starlette, safehttpx, gradio-client, fastapi, gradio\n",
            "  Attempting uninstall: markupsafe\n",
            "    Found existing installation: MarkupSafe 3.0.2\n",
            "    Uninstalling MarkupSafe-3.0.2:\n",
            "      Successfully uninstalled MarkupSafe-3.0.2\n",
            "Successfully installed aiofiles-23.2.1 fastapi-0.115.6 ffmpy-0.4.0 gradio-5.8.0 gradio-client-1.5.1 markupsafe-2.1.5 pydub-0.25.1 python-multipart-0.0.19 ruff-0.8.2 safehttpx-0.1.6 semantic-version-2.10.0 starlette-0.41.3 tomlkit-0.13.2 uvicorn-0.32.1 websockets-14.1\n"
          ]
        },
        {
          "data": {
            "application/vnd.colab-display-data+json": {
              "id": "5916b5d0f0a34569b06d66f4d661b351",
              "pip_warning": {
                "packages": [
                  "markupsafe"
                ]
              }
            }
          },
          "metadata": {},
          "output_type": "display_data"
        },
        {
          "name": "stderr",
          "output_type": "stream",
          "text": [
            "<ipython-input-49-057cb3e1a286>:35: FutureWarning: You are using `torch.load` with `weights_only=False` (the current default value), which uses the default pickle module implicitly. It is possible to construct malicious pickle data which will execute arbitrary code during unpickling (See https://github.com/pytorch/pytorch/blob/main/SECURITY.md#untrusted-models for more details). In a future release, the default value for `weights_only` will be flipped to `True`. This limits the functions that could be executed during unpickling. Arbitrary objects will no longer be allowed to be loaded via this mode unless they are explicitly allowlisted by the user via `torch.serialization.add_safe_globals`. We recommend you start setting `weights_only=True` for any use case where you don't have full control of the loaded file. Please open an issue on GitHub for any issues related to this experimental feature.\n",
            "  model2.load_state_dict(torch.load(\"/content/emotion_regressor.pth\", map_location=torch.device('cpu')))\n",
            "You set `add_prefix_space`. The tokenizer needs to be converted from the slow tokenizers\n"
          ]
        },
        {
          "name": "stdout",
          "output_type": "stream",
          "text": [
            "Running Gradio in a Colab notebook requires sharing enabled. Automatically setting `share=True` (you can turn this off by setting `share=False` in `launch()` explicitly).\n",
            "\n",
            "Colab notebook detected. To show errors in colab notebook, set debug=True in launch()\n",
            "* Running on public URL: https://527c9f290a10e5005b.gradio.live\n",
            "\n",
            "This share link expires in 72 hours. For free permanent hosting and GPU upgrades, run `gradio deploy` from the terminal in the working directory to deploy to Hugging Face Spaces (https://huggingface.co/spaces)\n"
          ]
        },
        {
          "data": {
            "text/html": [
              "<div><iframe src=\"https://527c9f290a10e5005b.gradio.live\" width=\"100%\" height=\"500\" allow=\"autoplay; camera; microphone; clipboard-read; clipboard-write;\" frameborder=\"0\" allowfullscreen></iframe></div>"
            ],
            "text/plain": [
              "<IPython.core.display.HTML object>"
            ]
          },
          "metadata": {},
          "output_type": "display_data"
        },
        {
          "data": {
            "text/plain": []
          },
          "execution_count": 49,
          "metadata": {},
          "output_type": "execute_result"
        }
      ],
      "source": [
        "!pip install gradio transformers torch\n",
        "\n",
        "import gradio as gr\n",
        "import torch\n",
        "from torch import nn\n",
        "from transformers import AutoModelForSequenceClassification, AutoTokenizer, T5ForConditionalGeneration, AutoModel\n",
        "import os\n",
        "\n",
        "# Step 3: define Model 2 - Emotion Intensity Regressor class\n",
        "class EmotionRegressor(nn.Module):\n",
        "    def __init__(self, model_name):\n",
        "        super(EmotionRegressor, self).__init__()\n",
        "        self.bert = AutoModel.from_pretrained(model_name)\n",
        "        self.regressor = nn.Linear(self.bert.config.hidden_size, 1) \n",
        "        self.dropout = nn.Dropout(0.1)\n",
        "\n",
        "    def forward(self, input_ids, attention_mask):\n",
        "        outputs = self.bert(input_ids=input_ids, attention_mask=attention_mask)\n",
        "        pooled_output = outputs.pooler_output\n",
        "        pooled_output = self.dropout(pooled_output)\n",
        "        logits = self.regressor(pooled_output)\n",
        "        return logits\n",
        "\n",
        "# Step 4: \n",
        "# Model 1: Emotion Classifier\n",
        "tokenizer1 = AutoTokenizer.from_pretrained(\"/content/emotion_classifier\", local_files_only=True)\n",
        "model1 = AutoModelForSequenceClassification.from_pretrained(\"/content/emotion_classifier\", local_files_only=True)\n",
        "model1.eval()\n",
        "\n",
        "# Model 2: Emotion Intensity Regressor \n",
        "tokenizer2 = AutoTokenizer.from_pretrained(\"bert-base-uncased\", local_files_only=True)\n",
        "model2 = EmotionRegressor(\"bert-base-uncased\")\n",
        "model2.load_state_dict(torch.load(\"/content/emotion_regressor.pth\", map_location=torch.device('cpu')))\n",
        "model2.eval()\n",
        "\n",
        "# Model 3: Emotion Adjuster\n",
        "tokenizer3 = AutoTokenizer.from_pretrained(\"/content/t5_emotion_adjuster\", local_files_only=True)\n",
        "model3 = T5ForConditionalGeneration.from_pretrained(\"/content/t5_emotion_adjuster\", local_files_only=True)\n",
        "model3.eval()\n",
        "\n",
        "# Set device to GPU if available\n",
        "device = torch.device(\"cuda\" if torch.cuda.is_available() else \"cpu\")\n",
        "model1.to(device)\n",
        "model2.to(device)\n",
        "model3.to(device)\n",
        "\n",
        "# Step 5: \n",
        "# Model 1: emotion classification\n",
        "def predict_emotion(sentence, tokenizer, model):\n",
        "    inputs = tokenizer(sentence, return_tensors=\"pt\", padding=True, truncation=True)\n",
        "    inputs = {key: val.to(device) for key, val in inputs.items()}\n",
        "    with torch.no_grad():\n",
        "        outputs = model(**inputs)\n",
        "    predicted_class = torch.argmax(outputs.logits, dim=1).item()\n",
        "    emotion_classes = {0: 'anger', 1: 'caring', 2: 'confusion', 3: 'fear', 4: 'joy', 5: 'sadness'}\n",
        "    return emotion_classes[predicted_class]\n",
        "\n",
        "# Model 2: emotion intensity regressor\n",
        "def predict_intensity(sentence, tokenizer, model):\n",
        "    inputs = tokenizer(sentence, return_tensors=\"pt\", padding=True, truncation=True)\n",
        "    inputs = {key: val.to(device) for key, val in inputs.items()}\n",
        "\n",
        "    with torch.no_grad():\n",
        "        outputs = model(input_ids=inputs['input_ids'], attention_mask=inputs['attention_mask'])\n",
        "\n",
        "    predicted_intensity = torch.sigmoid(outputs.squeeze()).item() * 10  # project to 1-10\n",
        "    return round(predicted_intensity, 2)\n",
        "\n",
        "# Model 3: adjust emotion\n",
        "def adjust_emotion(sentence, emotion, expected_intensity, tokenizer, model):\n",
        "    formatted_input = f\"adjust: {emotion} | intensity: {expected_intensity} | scenario: {sentence}\"\n",
        "    inputs = tokenizer(formatted_input, return_tensors=\"pt\", padding=True, truncation=True)\n",
        "    inputs = {key: val.to(device) for key, val in inputs.items()}\n",
        "    with torch.no_grad():\n",
        "        generated_ids = model.generate(input_ids=inputs['input_ids'], attention_mask=inputs['attention_mask'], max_length=128)\n",
        "    adjusted_sentence = tokenizer.batch_decode(generated_ids, skip_special_tokens=True)[0]\n",
        "    return adjusted_sentence\n",
        "\n",
        "# Step 6: define Gradio\n",
        "def emotion_pipeline(input_sentence, expected_intensity):\n",
        "    # Step 1: Use Model 1 to predict emotion\n",
        "    emotion = predict_emotion(input_sentence, tokenizer1, model1)\n",
        "\n",
        "    # Step 2: Use Model 2 to predict intensity\n",
        "    current_intensity = predict_intensity(input_sentence, tokenizer2, model2)\n",
        "\n",
        "    # Step 3: Use Model 3 to adjust the intensity\n",
        "    adjusted_sentence = adjust_emotion(input_sentence, emotion, expected_intensity, tokenizer3, model3)\n",
        "\n",
        "    return f\"Predicted Emotion: {emotion}\", f\"Predicted Intensity: {current_intensity}\", f\"Adjusted Sentence: {adjusted_sentence}\"\n",
        "\n",
        "# Step 7: use Gradio to create web interface\n",
        "interface = gr.Interface(\n",
        "    fn=emotion_pipeline,\n",
        "    inputs=[\n",
        "        gr.Textbox(lines=2, placeholder=\"Enter a sentence to adjust...\", label=\"Input Sentence\"),\n",
        "        gr.Slider(minimum=1, maximum=10, value=5, label=\"Expected Intensity\"),\n",
        "    ],\n",
        "    outputs=[\n",
        "        gr.Textbox(label=\"Predicted Emotion\"),\n",
        "        gr.Textbox(label=\"Predicted Intensity\"),\n",
        "        gr.Textbox(label=\"Adjusted Sentence\"),\n",
        "    ],\n",
        "    title=\"Emotion Adjuster\",\n",
        "    description=\"This tool takes a sentence, predicts its emotion and intensity, then adjusts the sentence to a target intensity level.\",\n",
        ")\n",
        "\n",
        "# Step 8: start Gradio web interface\n",
        "interface.launch()\n"
      ]
    }
  ],
  "metadata": {
    "accelerator": "GPU",
    "colab": {
      "gpuType": "A100",
      "include_colab_link": true,
      "provenance": []
    },
    "kernelspec": {
      "display_name": "Python 3",
      "name": "python3"
    },
    "language_info": {
      "name": "python"
    },
    "widgets": {
      "application/vnd.jupyter.widget-state+json": {
        "010790ec70c94d06b16db95c4b2ab293": {
          "model_module": "@jupyter-widgets/base",
          "model_module_version": "1.2.0",
          "model_name": "LayoutModel",
          "state": {
            "_model_module": "@jupyter-widgets/base",
            "_model_module_version": "1.2.0",
            "_model_name": "LayoutModel",
            "_view_count": null,
            "_view_module": "@jupyter-widgets/base",
            "_view_module_version": "1.2.0",
            "_view_name": "LayoutView",
            "align_content": null,
            "align_items": null,
            "align_self": null,
            "border": null,
            "bottom": null,
            "display": null,
            "flex": null,
            "flex_flow": null,
            "grid_area": null,
            "grid_auto_columns": null,
            "grid_auto_flow": null,
            "grid_auto_rows": null,
            "grid_column": null,
            "grid_gap": null,
            "grid_row": null,
            "grid_template_areas": null,
            "grid_template_columns": null,
            "grid_template_rows": null,
            "height": null,
            "justify_content": null,
            "justify_items": null,
            "left": null,
            "margin": null,
            "max_height": null,
            "max_width": null,
            "min_height": null,
            "min_width": null,
            "object_fit": null,
            "object_position": null,
            "order": null,
            "overflow": null,
            "overflow_x": null,
            "overflow_y": null,
            "padding": null,
            "right": null,
            "top": null,
            "visibility": null,
            "width": null
          }
        },
        "01ecb94596f147228af5586459131bb9": {
          "model_module": "@jupyter-widgets/controls",
          "model_module_version": "1.5.0",
          "model_name": "HTMLModel",
          "state": {
            "_dom_classes": [],
            "_model_module": "@jupyter-widgets/controls",
            "_model_module_version": "1.5.0",
            "_model_name": "HTMLModel",
            "_view_count": null,
            "_view_module": "@jupyter-widgets/controls",
            "_view_module_version": "1.5.0",
            "_view_name": "HTMLView",
            "description": "",
            "description_tooltip": null,
            "layout": "IPY_MODEL_3c4001d87f7c4b51bca7c2df33a80ca7",
            "placeholder": "​",
            "style": "IPY_MODEL_09f221979d8346da9b4c15e1603ca891",
            "value": " 466k/466k [00:00&lt;00:00, 16.0MB/s]"
          }
        },
        "02a669c835cf4cc79e1e6f7feecfb273": {
          "model_module": "@jupyter-widgets/controls",
          "model_module_version": "1.5.0",
          "model_name": "HTMLModel",
          "state": {
            "_dom_classes": [],
            "_model_module": "@jupyter-widgets/controls",
            "_model_module_version": "1.5.0",
            "_model_name": "HTMLModel",
            "_view_count": null,
            "_view_module": "@jupyter-widgets/controls",
            "_view_module_version": "1.5.0",
            "_view_name": "HTMLView",
            "description": "",
            "description_tooltip": null,
            "layout": "IPY_MODEL_dfbd61331dc04607a2f8313ea5738758",
            "placeholder": "​",
            "style": "IPY_MODEL_89e4dc9a039f4e8ab1e27748e0ee0270",
            "value": "generation_config.json: 100%"
          }
        },
        "035baa25e4d84b53be8b37dce6017e49": {
          "model_module": "@jupyter-widgets/controls",
          "model_module_version": "1.5.0",
          "model_name": "ProgressStyleModel",
          "state": {
            "_model_module": "@jupyter-widgets/controls",
            "_model_module_version": "1.5.0",
            "_model_name": "ProgressStyleModel",
            "_view_count": null,
            "_view_module": "@jupyter-widgets/base",
            "_view_module_version": "1.2.0",
            "_view_name": "StyleView",
            "bar_color": null,
            "description_width": ""
          }
        },
        "04da9a9c778e411b9c13a34d58363bb6": {
          "model_module": "@jupyter-widgets/controls",
          "model_module_version": "1.5.0",
          "model_name": "HBoxModel",
          "state": {
            "_dom_classes": [],
            "_model_module": "@jupyter-widgets/controls",
            "_model_module_version": "1.5.0",
            "_model_name": "HBoxModel",
            "_view_count": null,
            "_view_module": "@jupyter-widgets/controls",
            "_view_module_version": "1.5.0",
            "_view_name": "HBoxView",
            "box_style": "",
            "children": [
              "IPY_MODEL_02a669c835cf4cc79e1e6f7feecfb273",
              "IPY_MODEL_55ce559f616040ecbb27cd39ca9fa9ba",
              "IPY_MODEL_52a57e1983a0426ba50f25c09b84223b"
            ],
            "layout": "IPY_MODEL_0b8ce74d66774b58aa11c4446583ac90"
          }
        },
        "06fec77d224a4c80a80e8a2ac5784225": {
          "model_module": "@jupyter-widgets/base",
          "model_module_version": "1.2.0",
          "model_name": "LayoutModel",
          "state": {
            "_model_module": "@jupyter-widgets/base",
            "_model_module_version": "1.2.0",
            "_model_name": "LayoutModel",
            "_view_count": null,
            "_view_module": "@jupyter-widgets/base",
            "_view_module_version": "1.2.0",
            "_view_name": "LayoutView",
            "align_content": null,
            "align_items": null,
            "align_self": null,
            "border": null,
            "bottom": null,
            "display": null,
            "flex": null,
            "flex_flow": null,
            "grid_area": null,
            "grid_auto_columns": null,
            "grid_auto_flow": null,
            "grid_auto_rows": null,
            "grid_column": null,
            "grid_gap": null,
            "grid_row": null,
            "grid_template_areas": null,
            "grid_template_columns": null,
            "grid_template_rows": null,
            "height": null,
            "justify_content": null,
            "justify_items": null,
            "left": null,
            "margin": null,
            "max_height": null,
            "max_width": null,
            "min_height": null,
            "min_width": null,
            "object_fit": null,
            "object_position": null,
            "order": null,
            "overflow": null,
            "overflow_x": null,
            "overflow_y": null,
            "padding": null,
            "right": null,
            "top": null,
            "visibility": null,
            "width": null
          }
        },
        "07f8cad0944c4b1db8edae19281c3e8b": {
          "model_module": "@jupyter-widgets/base",
          "model_module_version": "1.2.0",
          "model_name": "LayoutModel",
          "state": {
            "_model_module": "@jupyter-widgets/base",
            "_model_module_version": "1.2.0",
            "_model_name": "LayoutModel",
            "_view_count": null,
            "_view_module": "@jupyter-widgets/base",
            "_view_module_version": "1.2.0",
            "_view_name": "LayoutView",
            "align_content": null,
            "align_items": null,
            "align_self": null,
            "border": null,
            "bottom": null,
            "display": null,
            "flex": null,
            "flex_flow": null,
            "grid_area": null,
            "grid_auto_columns": null,
            "grid_auto_flow": null,
            "grid_auto_rows": null,
            "grid_column": null,
            "grid_gap": null,
            "grid_row": null,
            "grid_template_areas": null,
            "grid_template_columns": null,
            "grid_template_rows": null,
            "height": null,
            "justify_content": null,
            "justify_items": null,
            "left": null,
            "margin": null,
            "max_height": null,
            "max_width": null,
            "min_height": null,
            "min_width": null,
            "object_fit": null,
            "object_position": null,
            "order": null,
            "overflow": null,
            "overflow_x": null,
            "overflow_y": null,
            "padding": null,
            "right": null,
            "top": null,
            "visibility": null,
            "width": null
          }
        },
        "0891d787e798489c8bc8165a53a2c18c": {
          "model_module": "@jupyter-widgets/controls",
          "model_module_version": "1.5.0",
          "model_name": "HBoxModel",
          "state": {
            "_dom_classes": [],
            "_model_module": "@jupyter-widgets/controls",
            "_model_module_version": "1.5.0",
            "_model_name": "HBoxModel",
            "_view_count": null,
            "_view_module": "@jupyter-widgets/controls",
            "_view_module_version": "1.5.0",
            "_view_name": "HBoxView",
            "box_style": "",
            "children": [
              "IPY_MODEL_e65c0de9dcd343ab943425879525d5b3",
              "IPY_MODEL_6fa5c05d248541e2942fda07a2d6ebe7",
              "IPY_MODEL_01ecb94596f147228af5586459131bb9"
            ],
            "layout": "IPY_MODEL_9b4e85fe3a5e4e8990f3a14fd329364d"
          }
        },
        "09f221979d8346da9b4c15e1603ca891": {
          "model_module": "@jupyter-widgets/controls",
          "model_module_version": "1.5.0",
          "model_name": "DescriptionStyleModel",
          "state": {
            "_model_module": "@jupyter-widgets/controls",
            "_model_module_version": "1.5.0",
            "_model_name": "DescriptionStyleModel",
            "_view_count": null,
            "_view_module": "@jupyter-widgets/base",
            "_view_module_version": "1.2.0",
            "_view_name": "StyleView",
            "description_width": ""
          }
        },
        "0ae3f0d23109423f97c69056459639ef": {
          "model_module": "@jupyter-widgets/controls",
          "model_module_version": "1.5.0",
          "model_name": "DescriptionStyleModel",
          "state": {
            "_model_module": "@jupyter-widgets/controls",
            "_model_module_version": "1.5.0",
            "_model_name": "DescriptionStyleModel",
            "_view_count": null,
            "_view_module": "@jupyter-widgets/base",
            "_view_module_version": "1.2.0",
            "_view_name": "StyleView",
            "description_width": ""
          }
        },
        "0b8ce74d66774b58aa11c4446583ac90": {
          "model_module": "@jupyter-widgets/base",
          "model_module_version": "1.2.0",
          "model_name": "LayoutModel",
          "state": {
            "_model_module": "@jupyter-widgets/base",
            "_model_module_version": "1.2.0",
            "_model_name": "LayoutModel",
            "_view_count": null,
            "_view_module": "@jupyter-widgets/base",
            "_view_module_version": "1.2.0",
            "_view_name": "LayoutView",
            "align_content": null,
            "align_items": null,
            "align_self": null,
            "border": null,
            "bottom": null,
            "display": null,
            "flex": null,
            "flex_flow": null,
            "grid_area": null,
            "grid_auto_columns": null,
            "grid_auto_flow": null,
            "grid_auto_rows": null,
            "grid_column": null,
            "grid_gap": null,
            "grid_row": null,
            "grid_template_areas": null,
            "grid_template_columns": null,
            "grid_template_rows": null,
            "height": null,
            "justify_content": null,
            "justify_items": null,
            "left": null,
            "margin": null,
            "max_height": null,
            "max_width": null,
            "min_height": null,
            "min_width": null,
            "object_fit": null,
            "object_position": null,
            "order": null,
            "overflow": null,
            "overflow_x": null,
            "overflow_y": null,
            "padding": null,
            "right": null,
            "top": null,
            "visibility": null,
            "width": null
          }
        },
        "0ca23d1043e348d1bf79e1f49661aa27": {
          "model_module": "@jupyter-widgets/base",
          "model_module_version": "1.2.0",
          "model_name": "LayoutModel",
          "state": {
            "_model_module": "@jupyter-widgets/base",
            "_model_module_version": "1.2.0",
            "_model_name": "LayoutModel",
            "_view_count": null,
            "_view_module": "@jupyter-widgets/base",
            "_view_module_version": "1.2.0",
            "_view_name": "LayoutView",
            "align_content": null,
            "align_items": null,
            "align_self": null,
            "border": null,
            "bottom": null,
            "display": null,
            "flex": null,
            "flex_flow": null,
            "grid_area": null,
            "grid_auto_columns": null,
            "grid_auto_flow": null,
            "grid_auto_rows": null,
            "grid_column": null,
            "grid_gap": null,
            "grid_row": null,
            "grid_template_areas": null,
            "grid_template_columns": null,
            "grid_template_rows": null,
            "height": null,
            "justify_content": null,
            "justify_items": null,
            "left": null,
            "margin": null,
            "max_height": null,
            "max_width": null,
            "min_height": null,
            "min_width": null,
            "object_fit": null,
            "object_position": null,
            "order": null,
            "overflow": null,
            "overflow_x": null,
            "overflow_y": null,
            "padding": null,
            "right": null,
            "top": null,
            "visibility": null,
            "width": null
          }
        },
        "0d47087566244793a267f48256ec849b": {
          "model_module": "@jupyter-widgets/controls",
          "model_module_version": "1.5.0",
          "model_name": "FloatProgressModel",
          "state": {
            "_dom_classes": [],
            "_model_module": "@jupyter-widgets/controls",
            "_model_module_version": "1.5.0",
            "_model_name": "FloatProgressModel",
            "_view_count": null,
            "_view_module": "@jupyter-widgets/controls",
            "_view_module_version": "1.5.0",
            "_view_name": "ProgressView",
            "bar_style": "success",
            "description": "",
            "description_tooltip": null,
            "layout": "IPY_MODEL_cd673fe74e70428ebd3c63cdb9eac585",
            "max": 231508,
            "min": 0,
            "orientation": "horizontal",
            "style": "IPY_MODEL_7447896cbdb544278dd083349980f51a",
            "value": 231508
          }
        },
        "12cb1c22178f41f3bd63c83b370f8c65": {
          "model_module": "@jupyter-widgets/controls",
          "model_module_version": "1.5.0",
          "model_name": "DescriptionStyleModel",
          "state": {
            "_model_module": "@jupyter-widgets/controls",
            "_model_module_version": "1.5.0",
            "_model_name": "DescriptionStyleModel",
            "_view_count": null,
            "_view_module": "@jupyter-widgets/base",
            "_view_module_version": "1.2.0",
            "_view_name": "StyleView",
            "description_width": ""
          }
        },
        "14319dd852d14522ad980727b22fbda8": {
          "model_module": "@jupyter-widgets/controls",
          "model_module_version": "1.5.0",
          "model_name": "ProgressStyleModel",
          "state": {
            "_model_module": "@jupyter-widgets/controls",
            "_model_module_version": "1.5.0",
            "_model_name": "ProgressStyleModel",
            "_view_count": null,
            "_view_module": "@jupyter-widgets/base",
            "_view_module_version": "1.2.0",
            "_view_name": "StyleView",
            "bar_color": null,
            "description_width": ""
          }
        },
        "1673bf8fd6ef4e0a9979dd11e8eab307": {
          "model_module": "@jupyter-widgets/controls",
          "model_module_version": "1.5.0",
          "model_name": "DescriptionStyleModel",
          "state": {
            "_model_module": "@jupyter-widgets/controls",
            "_model_module_version": "1.5.0",
            "_model_name": "DescriptionStyleModel",
            "_view_count": null,
            "_view_module": "@jupyter-widgets/base",
            "_view_module_version": "1.2.0",
            "_view_name": "StyleView",
            "description_width": ""
          }
        },
        "19378421c59243dcab367523e5a744df": {
          "model_module": "@jupyter-widgets/base",
          "model_module_version": "1.2.0",
          "model_name": "LayoutModel",
          "state": {
            "_model_module": "@jupyter-widgets/base",
            "_model_module_version": "1.2.0",
            "_model_name": "LayoutModel",
            "_view_count": null,
            "_view_module": "@jupyter-widgets/base",
            "_view_module_version": "1.2.0",
            "_view_name": "LayoutView",
            "align_content": null,
            "align_items": null,
            "align_self": null,
            "border": null,
            "bottom": null,
            "display": null,
            "flex": null,
            "flex_flow": null,
            "grid_area": null,
            "grid_auto_columns": null,
            "grid_auto_flow": null,
            "grid_auto_rows": null,
            "grid_column": null,
            "grid_gap": null,
            "grid_row": null,
            "grid_template_areas": null,
            "grid_template_columns": null,
            "grid_template_rows": null,
            "height": null,
            "justify_content": null,
            "justify_items": null,
            "left": null,
            "margin": null,
            "max_height": null,
            "max_width": null,
            "min_height": null,
            "min_width": null,
            "object_fit": null,
            "object_position": null,
            "order": null,
            "overflow": null,
            "overflow_x": null,
            "overflow_y": null,
            "padding": null,
            "right": null,
            "top": null,
            "visibility": null,
            "width": null
          }
        },
        "1af912d709e64632884e19500fcceb4c": {
          "model_module": "@jupyter-widgets/base",
          "model_module_version": "1.2.0",
          "model_name": "LayoutModel",
          "state": {
            "_model_module": "@jupyter-widgets/base",
            "_model_module_version": "1.2.0",
            "_model_name": "LayoutModel",
            "_view_count": null,
            "_view_module": "@jupyter-widgets/base",
            "_view_module_version": "1.2.0",
            "_view_name": "LayoutView",
            "align_content": null,
            "align_items": null,
            "align_self": null,
            "border": null,
            "bottom": null,
            "display": null,
            "flex": null,
            "flex_flow": null,
            "grid_area": null,
            "grid_auto_columns": null,
            "grid_auto_flow": null,
            "grid_auto_rows": null,
            "grid_column": null,
            "grid_gap": null,
            "grid_row": null,
            "grid_template_areas": null,
            "grid_template_columns": null,
            "grid_template_rows": null,
            "height": null,
            "justify_content": null,
            "justify_items": null,
            "left": null,
            "margin": null,
            "max_height": null,
            "max_width": null,
            "min_height": null,
            "min_width": null,
            "object_fit": null,
            "object_position": null,
            "order": null,
            "overflow": null,
            "overflow_x": null,
            "overflow_y": null,
            "padding": null,
            "right": null,
            "top": null,
            "visibility": null,
            "width": null
          }
        },
        "1c14ee5325204739a08ced4a087ffa54": {
          "model_module": "@jupyter-widgets/controls",
          "model_module_version": "1.5.0",
          "model_name": "HBoxModel",
          "state": {
            "_dom_classes": [],
            "_model_module": "@jupyter-widgets/controls",
            "_model_module_version": "1.5.0",
            "_model_name": "HBoxModel",
            "_view_count": null,
            "_view_module": "@jupyter-widgets/controls",
            "_view_module_version": "1.5.0",
            "_view_name": "HBoxView",
            "box_style": "",
            "children": [
              "IPY_MODEL_d193808d1de34dd79366c1341d751872",
              "IPY_MODEL_0d47087566244793a267f48256ec849b",
              "IPY_MODEL_92b390fe29e743eea0d66b8d3feb2b33"
            ],
            "layout": "IPY_MODEL_60cd15f40c934aff86b7cf6e25083b69"
          }
        },
        "1c409b26c5904f64a5a56265bd294196": {
          "model_module": "@jupyter-widgets/base",
          "model_module_version": "1.2.0",
          "model_name": "LayoutModel",
          "state": {
            "_model_module": "@jupyter-widgets/base",
            "_model_module_version": "1.2.0",
            "_model_name": "LayoutModel",
            "_view_count": null,
            "_view_module": "@jupyter-widgets/base",
            "_view_module_version": "1.2.0",
            "_view_name": "LayoutView",
            "align_content": null,
            "align_items": null,
            "align_self": null,
            "border": null,
            "bottom": null,
            "display": null,
            "flex": null,
            "flex_flow": null,
            "grid_area": null,
            "grid_auto_columns": null,
            "grid_auto_flow": null,
            "grid_auto_rows": null,
            "grid_column": null,
            "grid_gap": null,
            "grid_row": null,
            "grid_template_areas": null,
            "grid_template_columns": null,
            "grid_template_rows": null,
            "height": null,
            "justify_content": null,
            "justify_items": null,
            "left": null,
            "margin": null,
            "max_height": null,
            "max_width": null,
            "min_height": null,
            "min_width": null,
            "object_fit": null,
            "object_position": null,
            "order": null,
            "overflow": null,
            "overflow_x": null,
            "overflow_y": null,
            "padding": null,
            "right": null,
            "top": null,
            "visibility": null,
            "width": null
          }
        },
        "200cab368a3a4978aa93d556312ef57f": {
          "model_module": "@jupyter-widgets/base",
          "model_module_version": "1.2.0",
          "model_name": "LayoutModel",
          "state": {
            "_model_module": "@jupyter-widgets/base",
            "_model_module_version": "1.2.0",
            "_model_name": "LayoutModel",
            "_view_count": null,
            "_view_module": "@jupyter-widgets/base",
            "_view_module_version": "1.2.0",
            "_view_name": "LayoutView",
            "align_content": null,
            "align_items": null,
            "align_self": null,
            "border": null,
            "bottom": null,
            "display": null,
            "flex": null,
            "flex_flow": null,
            "grid_area": null,
            "grid_auto_columns": null,
            "grid_auto_flow": null,
            "grid_auto_rows": null,
            "grid_column": null,
            "grid_gap": null,
            "grid_row": null,
            "grid_template_areas": null,
            "grid_template_columns": null,
            "grid_template_rows": null,
            "height": null,
            "justify_content": null,
            "justify_items": null,
            "left": null,
            "margin": null,
            "max_height": null,
            "max_width": null,
            "min_height": null,
            "min_width": null,
            "object_fit": null,
            "object_position": null,
            "order": null,
            "overflow": null,
            "overflow_x": null,
            "overflow_y": null,
            "padding": null,
            "right": null,
            "top": null,
            "visibility": null,
            "width": null
          }
        },
        "207d5710a27b4d3bb12de13d0351b27d": {
          "model_module": "@jupyter-widgets/base",
          "model_module_version": "1.2.0",
          "model_name": "LayoutModel",
          "state": {
            "_model_module": "@jupyter-widgets/base",
            "_model_module_version": "1.2.0",
            "_model_name": "LayoutModel",
            "_view_count": null,
            "_view_module": "@jupyter-widgets/base",
            "_view_module_version": "1.2.0",
            "_view_name": "LayoutView",
            "align_content": null,
            "align_items": null,
            "align_self": null,
            "border": null,
            "bottom": null,
            "display": null,
            "flex": null,
            "flex_flow": null,
            "grid_area": null,
            "grid_auto_columns": null,
            "grid_auto_flow": null,
            "grid_auto_rows": null,
            "grid_column": null,
            "grid_gap": null,
            "grid_row": null,
            "grid_template_areas": null,
            "grid_template_columns": null,
            "grid_template_rows": null,
            "height": null,
            "justify_content": null,
            "justify_items": null,
            "left": null,
            "margin": null,
            "max_height": null,
            "max_width": null,
            "min_height": null,
            "min_width": null,
            "object_fit": null,
            "object_position": null,
            "order": null,
            "overflow": null,
            "overflow_x": null,
            "overflow_y": null,
            "padding": null,
            "right": null,
            "top": null,
            "visibility": null,
            "width": null
          }
        },
        "227edf140c34497289a0c9f0ebcc5490": {
          "model_module": "@jupyter-widgets/base",
          "model_module_version": "1.2.0",
          "model_name": "LayoutModel",
          "state": {
            "_model_module": "@jupyter-widgets/base",
            "_model_module_version": "1.2.0",
            "_model_name": "LayoutModel",
            "_view_count": null,
            "_view_module": "@jupyter-widgets/base",
            "_view_module_version": "1.2.0",
            "_view_name": "LayoutView",
            "align_content": null,
            "align_items": null,
            "align_self": null,
            "border": null,
            "bottom": null,
            "display": null,
            "flex": null,
            "flex_flow": null,
            "grid_area": null,
            "grid_auto_columns": null,
            "grid_auto_flow": null,
            "grid_auto_rows": null,
            "grid_column": null,
            "grid_gap": null,
            "grid_row": null,
            "grid_template_areas": null,
            "grid_template_columns": null,
            "grid_template_rows": null,
            "height": null,
            "justify_content": null,
            "justify_items": null,
            "left": null,
            "margin": null,
            "max_height": null,
            "max_width": null,
            "min_height": null,
            "min_width": null,
            "object_fit": null,
            "object_position": null,
            "order": null,
            "overflow": null,
            "overflow_x": null,
            "overflow_y": null,
            "padding": null,
            "right": null,
            "top": null,
            "visibility": null,
            "width": null
          }
        },
        "2493fc999e604b7193a78173dca10394": {
          "model_module": "@jupyter-widgets/controls",
          "model_module_version": "1.5.0",
          "model_name": "HTMLModel",
          "state": {
            "_dom_classes": [],
            "_model_module": "@jupyter-widgets/controls",
            "_model_module_version": "1.5.0",
            "_model_name": "HTMLModel",
            "_view_count": null,
            "_view_module": "@jupyter-widgets/controls",
            "_view_module_version": "1.5.0",
            "_view_name": "HTMLView",
            "description": "",
            "description_tooltip": null,
            "layout": "IPY_MODEL_51a3feba298641b8932fa3028fc78fd1",
            "placeholder": "​",
            "style": "IPY_MODEL_12cb1c22178f41f3bd63c83b370f8c65",
            "value": " 1.21k/1.21k [00:00&lt;00:00, 89.9kB/s]"
          }
        },
        "274338af39ab4b209131bbb4391f245f": {
          "model_module": "@jupyter-widgets/controls",
          "model_module_version": "1.5.0",
          "model_name": "HTMLModel",
          "state": {
            "_dom_classes": [],
            "_model_module": "@jupyter-widgets/controls",
            "_model_module_version": "1.5.0",
            "_model_name": "HTMLModel",
            "_view_count": null,
            "_view_module": "@jupyter-widgets/controls",
            "_view_module_version": "1.5.0",
            "_view_name": "HTMLView",
            "description": "",
            "description_tooltip": null,
            "layout": "IPY_MODEL_3ecbf26dae474ceca6f8b9ffd5eb7eb9",
            "placeholder": "​",
            "style": "IPY_MODEL_ad2251631a08433b8739e3bf2cf62000",
            "value": " 792k/792k [00:00&lt;00:00, 10.9MB/s]"
          }
        },
        "27ee1e26c70249288fe4dcf1eb31ed91": {
          "model_module": "@jupyter-widgets/base",
          "model_module_version": "1.2.0",
          "model_name": "LayoutModel",
          "state": {
            "_model_module": "@jupyter-widgets/base",
            "_model_module_version": "1.2.0",
            "_model_name": "LayoutModel",
            "_view_count": null,
            "_view_module": "@jupyter-widgets/base",
            "_view_module_version": "1.2.0",
            "_view_name": "LayoutView",
            "align_content": null,
            "align_items": null,
            "align_self": null,
            "border": null,
            "bottom": null,
            "display": null,
            "flex": null,
            "flex_flow": null,
            "grid_area": null,
            "grid_auto_columns": null,
            "grid_auto_flow": null,
            "grid_auto_rows": null,
            "grid_column": null,
            "grid_gap": null,
            "grid_row": null,
            "grid_template_areas": null,
            "grid_template_columns": null,
            "grid_template_rows": null,
            "height": null,
            "justify_content": null,
            "justify_items": null,
            "left": null,
            "margin": null,
            "max_height": null,
            "max_width": null,
            "min_height": null,
            "min_width": null,
            "object_fit": null,
            "object_position": null,
            "order": null,
            "overflow": null,
            "overflow_x": null,
            "overflow_y": null,
            "padding": null,
            "right": null,
            "top": null,
            "visibility": null,
            "width": null
          }
        },
        "28dc85292ac24f2e94802e6180fa6a65": {
          "model_module": "@jupyter-widgets/base",
          "model_module_version": "1.2.0",
          "model_name": "LayoutModel",
          "state": {
            "_model_module": "@jupyter-widgets/base",
            "_model_module_version": "1.2.0",
            "_model_name": "LayoutModel",
            "_view_count": null,
            "_view_module": "@jupyter-widgets/base",
            "_view_module_version": "1.2.0",
            "_view_name": "LayoutView",
            "align_content": null,
            "align_items": null,
            "align_self": null,
            "border": null,
            "bottom": null,
            "display": null,
            "flex": null,
            "flex_flow": null,
            "grid_area": null,
            "grid_auto_columns": null,
            "grid_auto_flow": null,
            "grid_auto_rows": null,
            "grid_column": null,
            "grid_gap": null,
            "grid_row": null,
            "grid_template_areas": null,
            "grid_template_columns": null,
            "grid_template_rows": null,
            "height": null,
            "justify_content": null,
            "justify_items": null,
            "left": null,
            "margin": null,
            "max_height": null,
            "max_width": null,
            "min_height": null,
            "min_width": null,
            "object_fit": null,
            "object_position": null,
            "order": null,
            "overflow": null,
            "overflow_x": null,
            "overflow_y": null,
            "padding": null,
            "right": null,
            "top": null,
            "visibility": null,
            "width": null
          }
        },
        "31271817d8234bcbaf0f171156587da7": {
          "model_module": "@jupyter-widgets/controls",
          "model_module_version": "1.5.0",
          "model_name": "HTMLModel",
          "state": {
            "_dom_classes": [],
            "_model_module": "@jupyter-widgets/controls",
            "_model_module_version": "1.5.0",
            "_model_name": "HTMLModel",
            "_view_count": null,
            "_view_module": "@jupyter-widgets/controls",
            "_view_module_version": "1.5.0",
            "_view_name": "HTMLView",
            "description": "",
            "description_tooltip": null,
            "layout": "IPY_MODEL_06fec77d224a4c80a80e8a2ac5784225",
            "placeholder": "​",
            "style": "IPY_MODEL_4fd45941ad12453b94884b8e0f1ba720",
            "value": "config.json: 100%"
          }
        },
        "315c2f8936334659bee5902def270cca": {
          "model_module": "@jupyter-widgets/base",
          "model_module_version": "1.2.0",
          "model_name": "LayoutModel",
          "state": {
            "_model_module": "@jupyter-widgets/base",
            "_model_module_version": "1.2.0",
            "_model_name": "LayoutModel",
            "_view_count": null,
            "_view_module": "@jupyter-widgets/base",
            "_view_module_version": "1.2.0",
            "_view_name": "LayoutView",
            "align_content": null,
            "align_items": null,
            "align_self": null,
            "border": null,
            "bottom": null,
            "display": null,
            "flex": null,
            "flex_flow": null,
            "grid_area": null,
            "grid_auto_columns": null,
            "grid_auto_flow": null,
            "grid_auto_rows": null,
            "grid_column": null,
            "grid_gap": null,
            "grid_row": null,
            "grid_template_areas": null,
            "grid_template_columns": null,
            "grid_template_rows": null,
            "height": null,
            "justify_content": null,
            "justify_items": null,
            "left": null,
            "margin": null,
            "max_height": null,
            "max_width": null,
            "min_height": null,
            "min_width": null,
            "object_fit": null,
            "object_position": null,
            "order": null,
            "overflow": null,
            "overflow_x": null,
            "overflow_y": null,
            "padding": null,
            "right": null,
            "top": null,
            "visibility": null,
            "width": null
          }
        },
        "3296611fe59e48a0b3eaccd79c00b51b": {
          "model_module": "@jupyter-widgets/controls",
          "model_module_version": "1.5.0",
          "model_name": "HTMLModel",
          "state": {
            "_dom_classes": [],
            "_model_module": "@jupyter-widgets/controls",
            "_model_module_version": "1.5.0",
            "_model_name": "HTMLModel",
            "_view_count": null,
            "_view_module": "@jupyter-widgets/controls",
            "_view_module_version": "1.5.0",
            "_view_name": "HTMLView",
            "description": "",
            "description_tooltip": null,
            "layout": "IPY_MODEL_0ca23d1043e348d1bf79e1f49661aa27",
            "placeholder": "​",
            "style": "IPY_MODEL_75bb8c29199f434f9fadb59e20a15480",
            "value": " 242M/242M [00:01&lt;00:00, 235MB/s]"
          }
        },
        "333caf91449948a1bd5dc2b4359c2ec0": {
          "model_module": "@jupyter-widgets/base",
          "model_module_version": "1.2.0",
          "model_name": "LayoutModel",
          "state": {
            "_model_module": "@jupyter-widgets/base",
            "_model_module_version": "1.2.0",
            "_model_name": "LayoutModel",
            "_view_count": null,
            "_view_module": "@jupyter-widgets/base",
            "_view_module_version": "1.2.0",
            "_view_name": "LayoutView",
            "align_content": null,
            "align_items": null,
            "align_self": null,
            "border": null,
            "bottom": null,
            "display": null,
            "flex": null,
            "flex_flow": null,
            "grid_area": null,
            "grid_auto_columns": null,
            "grid_auto_flow": null,
            "grid_auto_rows": null,
            "grid_column": null,
            "grid_gap": null,
            "grid_row": null,
            "grid_template_areas": null,
            "grid_template_columns": null,
            "grid_template_rows": null,
            "height": null,
            "justify_content": null,
            "justify_items": null,
            "left": null,
            "margin": null,
            "max_height": null,
            "max_width": null,
            "min_height": null,
            "min_width": null,
            "object_fit": null,
            "object_position": null,
            "order": null,
            "overflow": null,
            "overflow_x": null,
            "overflow_y": null,
            "padding": null,
            "right": null,
            "top": null,
            "visibility": null,
            "width": null
          }
        },
        "342d6ebe0dee4e9c979ecaec465f268d": {
          "model_module": "@jupyter-widgets/controls",
          "model_module_version": "1.5.0",
          "model_name": "HBoxModel",
          "state": {
            "_dom_classes": [],
            "_model_module": "@jupyter-widgets/controls",
            "_model_module_version": "1.5.0",
            "_model_name": "HBoxModel",
            "_view_count": null,
            "_view_module": "@jupyter-widgets/controls",
            "_view_module_version": "1.5.0",
            "_view_name": "HBoxView",
            "box_style": "",
            "children": [
              "IPY_MODEL_31271817d8234bcbaf0f171156587da7",
              "IPY_MODEL_ffaa23e549b249498846491b90630c7b",
              "IPY_MODEL_2493fc999e604b7193a78173dca10394"
            ],
            "layout": "IPY_MODEL_9bd3962b5de54508874612d38acef0c7"
          }
        },
        "38b7004636c54d0cb32fbe6229f906d0": {
          "model_module": "@jupyter-widgets/base",
          "model_module_version": "1.2.0",
          "model_name": "LayoutModel",
          "state": {
            "_model_module": "@jupyter-widgets/base",
            "_model_module_version": "1.2.0",
            "_model_name": "LayoutModel",
            "_view_count": null,
            "_view_module": "@jupyter-widgets/base",
            "_view_module_version": "1.2.0",
            "_view_name": "LayoutView",
            "align_content": null,
            "align_items": null,
            "align_self": null,
            "border": null,
            "bottom": null,
            "display": null,
            "flex": null,
            "flex_flow": null,
            "grid_area": null,
            "grid_auto_columns": null,
            "grid_auto_flow": null,
            "grid_auto_rows": null,
            "grid_column": null,
            "grid_gap": null,
            "grid_row": null,
            "grid_template_areas": null,
            "grid_template_columns": null,
            "grid_template_rows": null,
            "height": null,
            "justify_content": null,
            "justify_items": null,
            "left": null,
            "margin": null,
            "max_height": null,
            "max_width": null,
            "min_height": null,
            "min_width": null,
            "object_fit": null,
            "object_position": null,
            "order": null,
            "overflow": null,
            "overflow_x": null,
            "overflow_y": null,
            "padding": null,
            "right": null,
            "top": null,
            "visibility": null,
            "width": null
          }
        },
        "3c4001d87f7c4b51bca7c2df33a80ca7": {
          "model_module": "@jupyter-widgets/base",
          "model_module_version": "1.2.0",
          "model_name": "LayoutModel",
          "state": {
            "_model_module": "@jupyter-widgets/base",
            "_model_module_version": "1.2.0",
            "_model_name": "LayoutModel",
            "_view_count": null,
            "_view_module": "@jupyter-widgets/base",
            "_view_module_version": "1.2.0",
            "_view_name": "LayoutView",
            "align_content": null,
            "align_items": null,
            "align_self": null,
            "border": null,
            "bottom": null,
            "display": null,
            "flex": null,
            "flex_flow": null,
            "grid_area": null,
            "grid_auto_columns": null,
            "grid_auto_flow": null,
            "grid_auto_rows": null,
            "grid_column": null,
            "grid_gap": null,
            "grid_row": null,
            "grid_template_areas": null,
            "grid_template_columns": null,
            "grid_template_rows": null,
            "height": null,
            "justify_content": null,
            "justify_items": null,
            "left": null,
            "margin": null,
            "max_height": null,
            "max_width": null,
            "min_height": null,
            "min_width": null,
            "object_fit": null,
            "object_position": null,
            "order": null,
            "overflow": null,
            "overflow_x": null,
            "overflow_y": null,
            "padding": null,
            "right": null,
            "top": null,
            "visibility": null,
            "width": null
          }
        },
        "3ecbf26dae474ceca6f8b9ffd5eb7eb9": {
          "model_module": "@jupyter-widgets/base",
          "model_module_version": "1.2.0",
          "model_name": "LayoutModel",
          "state": {
            "_model_module": "@jupyter-widgets/base",
            "_model_module_version": "1.2.0",
            "_model_name": "LayoutModel",
            "_view_count": null,
            "_view_module": "@jupyter-widgets/base",
            "_view_module_version": "1.2.0",
            "_view_name": "LayoutView",
            "align_content": null,
            "align_items": null,
            "align_self": null,
            "border": null,
            "bottom": null,
            "display": null,
            "flex": null,
            "flex_flow": null,
            "grid_area": null,
            "grid_auto_columns": null,
            "grid_auto_flow": null,
            "grid_auto_rows": null,
            "grid_column": null,
            "grid_gap": null,
            "grid_row": null,
            "grid_template_areas": null,
            "grid_template_columns": null,
            "grid_template_rows": null,
            "height": null,
            "justify_content": null,
            "justify_items": null,
            "left": null,
            "margin": null,
            "max_height": null,
            "max_width": null,
            "min_height": null,
            "min_width": null,
            "object_fit": null,
            "object_position": null,
            "order": null,
            "overflow": null,
            "overflow_x": null,
            "overflow_y": null,
            "padding": null,
            "right": null,
            "top": null,
            "visibility": null,
            "width": null
          }
        },
        "4088d016e742486c98598a624c225f21": {
          "model_module": "@jupyter-widgets/controls",
          "model_module_version": "1.5.0",
          "model_name": "ProgressStyleModel",
          "state": {
            "_model_module": "@jupyter-widgets/controls",
            "_model_module_version": "1.5.0",
            "_model_name": "ProgressStyleModel",
            "_view_count": null,
            "_view_module": "@jupyter-widgets/base",
            "_view_module_version": "1.2.0",
            "_view_name": "StyleView",
            "bar_color": null,
            "description_width": ""
          }
        },
        "42fe31c7f2034730a1def4072257903e": {
          "model_module": "@jupyter-widgets/base",
          "model_module_version": "1.2.0",
          "model_name": "LayoutModel",
          "state": {
            "_model_module": "@jupyter-widgets/base",
            "_model_module_version": "1.2.0",
            "_model_name": "LayoutModel",
            "_view_count": null,
            "_view_module": "@jupyter-widgets/base",
            "_view_module_version": "1.2.0",
            "_view_name": "LayoutView",
            "align_content": null,
            "align_items": null,
            "align_self": null,
            "border": null,
            "bottom": null,
            "display": null,
            "flex": null,
            "flex_flow": null,
            "grid_area": null,
            "grid_auto_columns": null,
            "grid_auto_flow": null,
            "grid_auto_rows": null,
            "grid_column": null,
            "grid_gap": null,
            "grid_row": null,
            "grid_template_areas": null,
            "grid_template_columns": null,
            "grid_template_rows": null,
            "height": null,
            "justify_content": null,
            "justify_items": null,
            "left": null,
            "margin": null,
            "max_height": null,
            "max_width": null,
            "min_height": null,
            "min_width": null,
            "object_fit": null,
            "object_position": null,
            "order": null,
            "overflow": null,
            "overflow_x": null,
            "overflow_y": null,
            "padding": null,
            "right": null,
            "top": null,
            "visibility": null,
            "width": null
          }
        },
        "4329b91d8d0c4f729584c63281c16b5f": {
          "model_module": "@jupyter-widgets/controls",
          "model_module_version": "1.5.0",
          "model_name": "HTMLModel",
          "state": {
            "_dom_classes": [],
            "_model_module": "@jupyter-widgets/controls",
            "_model_module_version": "1.5.0",
            "_model_name": "HTMLModel",
            "_view_count": null,
            "_view_module": "@jupyter-widgets/controls",
            "_view_module_version": "1.5.0",
            "_view_name": "HTMLView",
            "description": "",
            "description_tooltip": null,
            "layout": "IPY_MODEL_62a59d30eef64397ab03bae5ad1319b7",
            "placeholder": "​",
            "style": "IPY_MODEL_57666389c0204db881b13c5eb92ea59c",
            "value": "tokenizer_config.json: 100%"
          }
        },
        "4561cd46242445e893182977f9ffc3f8": {
          "model_module": "@jupyter-widgets/controls",
          "model_module_version": "1.5.0",
          "model_name": "HTMLModel",
          "state": {
            "_dom_classes": [],
            "_model_module": "@jupyter-widgets/controls",
            "_model_module_version": "1.5.0",
            "_model_name": "HTMLModel",
            "_view_count": null,
            "_view_module": "@jupyter-widgets/controls",
            "_view_module_version": "1.5.0",
            "_view_name": "HTMLView",
            "description": "",
            "description_tooltip": null,
            "layout": "IPY_MODEL_a92e07bfdf694ab8a00bd0393660fa9f",
            "placeholder": "​",
            "style": "IPY_MODEL_6f2e25d4f56b46d5a90427453afa3e19",
            "value": "spiece.model: 100%"
          }
        },
        "458499d21a56467f8d7ad3889b441ce2": {
          "model_module": "@jupyter-widgets/base",
          "model_module_version": "1.2.0",
          "model_name": "LayoutModel",
          "state": {
            "_model_module": "@jupyter-widgets/base",
            "_model_module_version": "1.2.0",
            "_model_name": "LayoutModel",
            "_view_count": null,
            "_view_module": "@jupyter-widgets/base",
            "_view_module_version": "1.2.0",
            "_view_name": "LayoutView",
            "align_content": null,
            "align_items": null,
            "align_self": null,
            "border": null,
            "bottom": null,
            "display": null,
            "flex": null,
            "flex_flow": null,
            "grid_area": null,
            "grid_auto_columns": null,
            "grid_auto_flow": null,
            "grid_auto_rows": null,
            "grid_column": null,
            "grid_gap": null,
            "grid_row": null,
            "grid_template_areas": null,
            "grid_template_columns": null,
            "grid_template_rows": null,
            "height": null,
            "justify_content": null,
            "justify_items": null,
            "left": null,
            "margin": null,
            "max_height": null,
            "max_width": null,
            "min_height": null,
            "min_width": null,
            "object_fit": null,
            "object_position": null,
            "order": null,
            "overflow": null,
            "overflow_x": null,
            "overflow_y": null,
            "padding": null,
            "right": null,
            "top": null,
            "visibility": null,
            "width": null
          }
        },
        "4f8380d9922946c795f96379ac47a231": {
          "model_module": "@jupyter-widgets/controls",
          "model_module_version": "1.5.0",
          "model_name": "DescriptionStyleModel",
          "state": {
            "_model_module": "@jupyter-widgets/controls",
            "_model_module_version": "1.5.0",
            "_model_name": "DescriptionStyleModel",
            "_view_count": null,
            "_view_module": "@jupyter-widgets/base",
            "_view_module_version": "1.2.0",
            "_view_name": "StyleView",
            "description_width": ""
          }
        },
        "4fd45941ad12453b94884b8e0f1ba720": {
          "model_module": "@jupyter-widgets/controls",
          "model_module_version": "1.5.0",
          "model_name": "DescriptionStyleModel",
          "state": {
            "_model_module": "@jupyter-widgets/controls",
            "_model_module_version": "1.5.0",
            "_model_name": "DescriptionStyleModel",
            "_view_count": null,
            "_view_module": "@jupyter-widgets/base",
            "_view_module_version": "1.2.0",
            "_view_name": "StyleView",
            "description_width": ""
          }
        },
        "50834ee5558546ff966a430b58e64e00": {
          "model_module": "@jupyter-widgets/controls",
          "model_module_version": "1.5.0",
          "model_name": "HTMLModel",
          "state": {
            "_dom_classes": [],
            "_model_module": "@jupyter-widgets/controls",
            "_model_module_version": "1.5.0",
            "_model_name": "HTMLModel",
            "_view_count": null,
            "_view_module": "@jupyter-widgets/controls",
            "_view_module_version": "1.5.0",
            "_view_name": "HTMLView",
            "description": "",
            "description_tooltip": null,
            "layout": "IPY_MODEL_207d5710a27b4d3bb12de13d0351b27d",
            "placeholder": "​",
            "style": "IPY_MODEL_1673bf8fd6ef4e0a9979dd11e8eab307",
            "value": "model.safetensors: 100%"
          }
        },
        "51a3feba298641b8932fa3028fc78fd1": {
          "model_module": "@jupyter-widgets/base",
          "model_module_version": "1.2.0",
          "model_name": "LayoutModel",
          "state": {
            "_model_module": "@jupyter-widgets/base",
            "_model_module_version": "1.2.0",
            "_model_name": "LayoutModel",
            "_view_count": null,
            "_view_module": "@jupyter-widgets/base",
            "_view_module_version": "1.2.0",
            "_view_name": "LayoutView",
            "align_content": null,
            "align_items": null,
            "align_self": null,
            "border": null,
            "bottom": null,
            "display": null,
            "flex": null,
            "flex_flow": null,
            "grid_area": null,
            "grid_auto_columns": null,
            "grid_auto_flow": null,
            "grid_auto_rows": null,
            "grid_column": null,
            "grid_gap": null,
            "grid_row": null,
            "grid_template_areas": null,
            "grid_template_columns": null,
            "grid_template_rows": null,
            "height": null,
            "justify_content": null,
            "justify_items": null,
            "left": null,
            "margin": null,
            "max_height": null,
            "max_width": null,
            "min_height": null,
            "min_width": null,
            "object_fit": null,
            "object_position": null,
            "order": null,
            "overflow": null,
            "overflow_x": null,
            "overflow_y": null,
            "padding": null,
            "right": null,
            "top": null,
            "visibility": null,
            "width": null
          }
        },
        "52886b6e96ae4cfb94dd2115cdd3a59c": {
          "model_module": "@jupyter-widgets/controls",
          "model_module_version": "1.5.0",
          "model_name": "HBoxModel",
          "state": {
            "_dom_classes": [],
            "_model_module": "@jupyter-widgets/controls",
            "_model_module_version": "1.5.0",
            "_model_name": "HBoxModel",
            "_view_count": null,
            "_view_module": "@jupyter-widgets/controls",
            "_view_module_version": "1.5.0",
            "_view_name": "HBoxView",
            "box_style": "",
            "children": [
              "IPY_MODEL_84800c697d554986a160300f9980cd63",
              "IPY_MODEL_777fe42b2a6e472ebfcfcccb0b5175fa",
              "IPY_MODEL_a99f80ce8f2d48c69b17d70ce79c2668"
            ],
            "layout": "IPY_MODEL_227edf140c34497289a0c9f0ebcc5490"
          }
        },
        "52a57e1983a0426ba50f25c09b84223b": {
          "model_module": "@jupyter-widgets/controls",
          "model_module_version": "1.5.0",
          "model_name": "HTMLModel",
          "state": {
            "_dom_classes": [],
            "_model_module": "@jupyter-widgets/controls",
            "_model_module_version": "1.5.0",
            "_model_name": "HTMLModel",
            "_view_count": null,
            "_view_module": "@jupyter-widgets/controls",
            "_view_module_version": "1.5.0",
            "_view_name": "HTMLView",
            "description": "",
            "description_tooltip": null,
            "layout": "IPY_MODEL_e32500e79cf0405cac720bb29b7a3f58",
            "placeholder": "​",
            "style": "IPY_MODEL_e0765364c5d64c4f8884720a6cced6f2",
            "value": " 147/147 [00:00&lt;00:00, 11.6kB/s]"
          }
        },
        "55c28ef22a2444dab75b42146471b51d": {
          "model_module": "@jupyter-widgets/controls",
          "model_module_version": "1.5.0",
          "model_name": "HBoxModel",
          "state": {
            "_dom_classes": [],
            "_model_module": "@jupyter-widgets/controls",
            "_model_module_version": "1.5.0",
            "_model_name": "HBoxModel",
            "_view_count": null,
            "_view_module": "@jupyter-widgets/controls",
            "_view_module_version": "1.5.0",
            "_view_name": "HBoxView",
            "box_style": "",
            "children": [
              "IPY_MODEL_50834ee5558546ff966a430b58e64e00",
              "IPY_MODEL_e9c7fe25c6cb4ccc93edb96c9ed4d126",
              "IPY_MODEL_3296611fe59e48a0b3eaccd79c00b51b"
            ],
            "layout": "IPY_MODEL_9f2cdb7911c041c7afa7b7cf60c441a1"
          }
        },
        "55ce559f616040ecbb27cd39ca9fa9ba": {
          "model_module": "@jupyter-widgets/controls",
          "model_module_version": "1.5.0",
          "model_name": "FloatProgressModel",
          "state": {
            "_dom_classes": [],
            "_model_module": "@jupyter-widgets/controls",
            "_model_module_version": "1.5.0",
            "_model_name": "FloatProgressModel",
            "_view_count": null,
            "_view_module": "@jupyter-widgets/controls",
            "_view_module_version": "1.5.0",
            "_view_name": "ProgressView",
            "bar_style": "success",
            "description": "",
            "description_tooltip": null,
            "layout": "IPY_MODEL_efc8ba0614f34b17ab81cdbf918e5320",
            "max": 147,
            "min": 0,
            "orientation": "horizontal",
            "style": "IPY_MODEL_4088d016e742486c98598a624c225f21",
            "value": 147
          }
        },
        "57666389c0204db881b13c5eb92ea59c": {
          "model_module": "@jupyter-widgets/controls",
          "model_module_version": "1.5.0",
          "model_name": "DescriptionStyleModel",
          "state": {
            "_model_module": "@jupyter-widgets/controls",
            "_model_module_version": "1.5.0",
            "_model_name": "DescriptionStyleModel",
            "_view_count": null,
            "_view_module": "@jupyter-widgets/base",
            "_view_module_version": "1.2.0",
            "_view_name": "StyleView",
            "description_width": ""
          }
        },
        "5d50e2fb15474f84a1f16c3285152c83": {
          "model_module": "@jupyter-widgets/controls",
          "model_module_version": "1.5.0",
          "model_name": "ProgressStyleModel",
          "state": {
            "_model_module": "@jupyter-widgets/controls",
            "_model_module_version": "1.5.0",
            "_model_name": "ProgressStyleModel",
            "_view_count": null,
            "_view_module": "@jupyter-widgets/base",
            "_view_module_version": "1.2.0",
            "_view_name": "StyleView",
            "bar_color": null,
            "description_width": ""
          }
        },
        "60cd15f40c934aff86b7cf6e25083b69": {
          "model_module": "@jupyter-widgets/base",
          "model_module_version": "1.2.0",
          "model_name": "LayoutModel",
          "state": {
            "_model_module": "@jupyter-widgets/base",
            "_model_module_version": "1.2.0",
            "_model_name": "LayoutModel",
            "_view_count": null,
            "_view_module": "@jupyter-widgets/base",
            "_view_module_version": "1.2.0",
            "_view_name": "LayoutView",
            "align_content": null,
            "align_items": null,
            "align_self": null,
            "border": null,
            "bottom": null,
            "display": null,
            "flex": null,
            "flex_flow": null,
            "grid_area": null,
            "grid_auto_columns": null,
            "grid_auto_flow": null,
            "grid_auto_rows": null,
            "grid_column": null,
            "grid_gap": null,
            "grid_row": null,
            "grid_template_areas": null,
            "grid_template_columns": null,
            "grid_template_rows": null,
            "height": null,
            "justify_content": null,
            "justify_items": null,
            "left": null,
            "margin": null,
            "max_height": null,
            "max_width": null,
            "min_height": null,
            "min_width": null,
            "object_fit": null,
            "object_position": null,
            "order": null,
            "overflow": null,
            "overflow_x": null,
            "overflow_y": null,
            "padding": null,
            "right": null,
            "top": null,
            "visibility": null,
            "width": null
          }
        },
        "62a59d30eef64397ab03bae5ad1319b7": {
          "model_module": "@jupyter-widgets/base",
          "model_module_version": "1.2.0",
          "model_name": "LayoutModel",
          "state": {
            "_model_module": "@jupyter-widgets/base",
            "_model_module_version": "1.2.0",
            "_model_name": "LayoutModel",
            "_view_count": null,
            "_view_module": "@jupyter-widgets/base",
            "_view_module_version": "1.2.0",
            "_view_name": "LayoutView",
            "align_content": null,
            "align_items": null,
            "align_self": null,
            "border": null,
            "bottom": null,
            "display": null,
            "flex": null,
            "flex_flow": null,
            "grid_area": null,
            "grid_auto_columns": null,
            "grid_auto_flow": null,
            "grid_auto_rows": null,
            "grid_column": null,
            "grid_gap": null,
            "grid_row": null,
            "grid_template_areas": null,
            "grid_template_columns": null,
            "grid_template_rows": null,
            "height": null,
            "justify_content": null,
            "justify_items": null,
            "left": null,
            "margin": null,
            "max_height": null,
            "max_width": null,
            "min_height": null,
            "min_width": null,
            "object_fit": null,
            "object_position": null,
            "order": null,
            "overflow": null,
            "overflow_x": null,
            "overflow_y": null,
            "padding": null,
            "right": null,
            "top": null,
            "visibility": null,
            "width": null
          }
        },
        "65e6e773620740c0955b354b734e728a": {
          "model_module": "@jupyter-widgets/controls",
          "model_module_version": "1.5.0",
          "model_name": "HBoxModel",
          "state": {
            "_dom_classes": [],
            "_model_module": "@jupyter-widgets/controls",
            "_model_module_version": "1.5.0",
            "_model_name": "HBoxModel",
            "_view_count": null,
            "_view_module": "@jupyter-widgets/controls",
            "_view_module_version": "1.5.0",
            "_view_name": "HBoxView",
            "box_style": "",
            "children": [
              "IPY_MODEL_4329b91d8d0c4f729584c63281c16b5f",
              "IPY_MODEL_ce3239562b5745ed957492f364bf30d1",
              "IPY_MODEL_877bd478eef34442825f62b2f95382bb"
            ],
            "layout": "IPY_MODEL_987d954ca05f4e85b33cc12d19a6f245"
          }
        },
        "69a79868617a4e019387f450ea473965": {
          "model_module": "@jupyter-widgets/controls",
          "model_module_version": "1.5.0",
          "model_name": "ProgressStyleModel",
          "state": {
            "_model_module": "@jupyter-widgets/controls",
            "_model_module_version": "1.5.0",
            "_model_name": "ProgressStyleModel",
            "_view_count": null,
            "_view_module": "@jupyter-widgets/base",
            "_view_module_version": "1.2.0",
            "_view_name": "StyleView",
            "bar_color": null,
            "description_width": ""
          }
        },
        "6f2e25d4f56b46d5a90427453afa3e19": {
          "model_module": "@jupyter-widgets/controls",
          "model_module_version": "1.5.0",
          "model_name": "DescriptionStyleModel",
          "state": {
            "_model_module": "@jupyter-widgets/controls",
            "_model_module_version": "1.5.0",
            "_model_name": "DescriptionStyleModel",
            "_view_count": null,
            "_view_module": "@jupyter-widgets/base",
            "_view_module_version": "1.2.0",
            "_view_name": "StyleView",
            "description_width": ""
          }
        },
        "6fa5c05d248541e2942fda07a2d6ebe7": {
          "model_module": "@jupyter-widgets/controls",
          "model_module_version": "1.5.0",
          "model_name": "FloatProgressModel",
          "state": {
            "_dom_classes": [],
            "_model_module": "@jupyter-widgets/controls",
            "_model_module_version": "1.5.0",
            "_model_name": "FloatProgressModel",
            "_view_count": null,
            "_view_module": "@jupyter-widgets/controls",
            "_view_module_version": "1.5.0",
            "_view_name": "ProgressView",
            "bar_style": "success",
            "description": "",
            "description_tooltip": null,
            "layout": "IPY_MODEL_27ee1e26c70249288fe4dcf1eb31ed91",
            "max": 466062,
            "min": 0,
            "orientation": "horizontal",
            "style": "IPY_MODEL_035baa25e4d84b53be8b37dce6017e49",
            "value": 466062
          }
        },
        "7447896cbdb544278dd083349980f51a": {
          "model_module": "@jupyter-widgets/controls",
          "model_module_version": "1.5.0",
          "model_name": "ProgressStyleModel",
          "state": {
            "_model_module": "@jupyter-widgets/controls",
            "_model_module_version": "1.5.0",
            "_model_name": "ProgressStyleModel",
            "_view_count": null,
            "_view_module": "@jupyter-widgets/base",
            "_view_module_version": "1.2.0",
            "_view_name": "StyleView",
            "bar_color": null,
            "description_width": ""
          }
        },
        "75bb8c29199f434f9fadb59e20a15480": {
          "model_module": "@jupyter-widgets/controls",
          "model_module_version": "1.5.0",
          "model_name": "DescriptionStyleModel",
          "state": {
            "_model_module": "@jupyter-widgets/controls",
            "_model_module_version": "1.5.0",
            "_model_name": "DescriptionStyleModel",
            "_view_count": null,
            "_view_module": "@jupyter-widgets/base",
            "_view_module_version": "1.2.0",
            "_view_name": "StyleView",
            "description_width": ""
          }
        },
        "7686de49fb0b4577bc3c0061735c2180": {
          "model_module": "@jupyter-widgets/base",
          "model_module_version": "1.2.0",
          "model_name": "LayoutModel",
          "state": {
            "_model_module": "@jupyter-widgets/base",
            "_model_module_version": "1.2.0",
            "_model_name": "LayoutModel",
            "_view_count": null,
            "_view_module": "@jupyter-widgets/base",
            "_view_module_version": "1.2.0",
            "_view_name": "LayoutView",
            "align_content": null,
            "align_items": null,
            "align_self": null,
            "border": null,
            "bottom": null,
            "display": null,
            "flex": null,
            "flex_flow": null,
            "grid_area": null,
            "grid_auto_columns": null,
            "grid_auto_flow": null,
            "grid_auto_rows": null,
            "grid_column": null,
            "grid_gap": null,
            "grid_row": null,
            "grid_template_areas": null,
            "grid_template_columns": null,
            "grid_template_rows": null,
            "height": null,
            "justify_content": null,
            "justify_items": null,
            "left": null,
            "margin": null,
            "max_height": null,
            "max_width": null,
            "min_height": null,
            "min_width": null,
            "object_fit": null,
            "object_position": null,
            "order": null,
            "overflow": null,
            "overflow_x": null,
            "overflow_y": null,
            "padding": null,
            "right": null,
            "top": null,
            "visibility": null,
            "width": null
          }
        },
        "777fe42b2a6e472ebfcfcccb0b5175fa": {
          "model_module": "@jupyter-widgets/controls",
          "model_module_version": "1.5.0",
          "model_name": "FloatProgressModel",
          "state": {
            "_dom_classes": [],
            "_model_module": "@jupyter-widgets/controls",
            "_model_module_version": "1.5.0",
            "_model_name": "FloatProgressModel",
            "_view_count": null,
            "_view_module": "@jupyter-widgets/controls",
            "_view_module_version": "1.5.0",
            "_view_name": "ProgressView",
            "bar_style": "success",
            "description": "",
            "description_tooltip": null,
            "layout": "IPY_MODEL_7efd0588e1784d41bc0fdd9149bbe251",
            "max": 440449768,
            "min": 0,
            "orientation": "horizontal",
            "style": "IPY_MODEL_69a79868617a4e019387f450ea473965",
            "value": 440449768
          }
        },
        "782a97bbb3a842d5843646ba8faae201": {
          "model_module": "@jupyter-widgets/controls",
          "model_module_version": "1.5.0",
          "model_name": "DescriptionStyleModel",
          "state": {
            "_model_module": "@jupyter-widgets/controls",
            "_model_module_version": "1.5.0",
            "_model_name": "DescriptionStyleModel",
            "_view_count": null,
            "_view_module": "@jupyter-widgets/base",
            "_view_module_version": "1.2.0",
            "_view_name": "StyleView",
            "description_width": ""
          }
        },
        "78b5373cf0d84c498d6ad64b10bbc503": {
          "model_module": "@jupyter-widgets/controls",
          "model_module_version": "1.5.0",
          "model_name": "DescriptionStyleModel",
          "state": {
            "_model_module": "@jupyter-widgets/controls",
            "_model_module_version": "1.5.0",
            "_model_name": "DescriptionStyleModel",
            "_view_count": null,
            "_view_module": "@jupyter-widgets/base",
            "_view_module_version": "1.2.0",
            "_view_name": "StyleView",
            "description_width": ""
          }
        },
        "7d24255070054141a6fe5c193a8972a0": {
          "model_module": "@jupyter-widgets/controls",
          "model_module_version": "1.5.0",
          "model_name": "HTMLModel",
          "state": {
            "_dom_classes": [],
            "_model_module": "@jupyter-widgets/controls",
            "_model_module_version": "1.5.0",
            "_model_name": "HTMLModel",
            "_view_count": null,
            "_view_module": "@jupyter-widgets/controls",
            "_view_module_version": "1.5.0",
            "_view_name": "HTMLView",
            "description": "",
            "description_tooltip": null,
            "layout": "IPY_MODEL_ba4c42986c6a4f6e99e64807c8cd2433",
            "placeholder": "​",
            "style": "IPY_MODEL_0ae3f0d23109423f97c69056459639ef",
            "value": "config.json: 100%"
          }
        },
        "7efd0588e1784d41bc0fdd9149bbe251": {
          "model_module": "@jupyter-widgets/base",
          "model_module_version": "1.2.0",
          "model_name": "LayoutModel",
          "state": {
            "_model_module": "@jupyter-widgets/base",
            "_model_module_version": "1.2.0",
            "_model_name": "LayoutModel",
            "_view_count": null,
            "_view_module": "@jupyter-widgets/base",
            "_view_module_version": "1.2.0",
            "_view_name": "LayoutView",
            "align_content": null,
            "align_items": null,
            "align_self": null,
            "border": null,
            "bottom": null,
            "display": null,
            "flex": null,
            "flex_flow": null,
            "grid_area": null,
            "grid_auto_columns": null,
            "grid_auto_flow": null,
            "grid_auto_rows": null,
            "grid_column": null,
            "grid_gap": null,
            "grid_row": null,
            "grid_template_areas": null,
            "grid_template_columns": null,
            "grid_template_rows": null,
            "height": null,
            "justify_content": null,
            "justify_items": null,
            "left": null,
            "margin": null,
            "max_height": null,
            "max_width": null,
            "min_height": null,
            "min_width": null,
            "object_fit": null,
            "object_position": null,
            "order": null,
            "overflow": null,
            "overflow_x": null,
            "overflow_y": null,
            "padding": null,
            "right": null,
            "top": null,
            "visibility": null,
            "width": null
          }
        },
        "7f4a40d199b942f0ac93d70fcc0d5df1": {
          "model_module": "@jupyter-widgets/base",
          "model_module_version": "1.2.0",
          "model_name": "LayoutModel",
          "state": {
            "_model_module": "@jupyter-widgets/base",
            "_model_module_version": "1.2.0",
            "_model_name": "LayoutModel",
            "_view_count": null,
            "_view_module": "@jupyter-widgets/base",
            "_view_module_version": "1.2.0",
            "_view_name": "LayoutView",
            "align_content": null,
            "align_items": null,
            "align_self": null,
            "border": null,
            "bottom": null,
            "display": null,
            "flex": null,
            "flex_flow": null,
            "grid_area": null,
            "grid_auto_columns": null,
            "grid_auto_flow": null,
            "grid_auto_rows": null,
            "grid_column": null,
            "grid_gap": null,
            "grid_row": null,
            "grid_template_areas": null,
            "grid_template_columns": null,
            "grid_template_rows": null,
            "height": null,
            "justify_content": null,
            "justify_items": null,
            "left": null,
            "margin": null,
            "max_height": null,
            "max_width": null,
            "min_height": null,
            "min_width": null,
            "object_fit": null,
            "object_position": null,
            "order": null,
            "overflow": null,
            "overflow_x": null,
            "overflow_y": null,
            "padding": null,
            "right": null,
            "top": null,
            "visibility": null,
            "width": null
          }
        },
        "80cfb86ad81d4dd3a3aaa2057d07b2b0": {
          "model_module": "@jupyter-widgets/base",
          "model_module_version": "1.2.0",
          "model_name": "LayoutModel",
          "state": {
            "_model_module": "@jupyter-widgets/base",
            "_model_module_version": "1.2.0",
            "_model_name": "LayoutModel",
            "_view_count": null,
            "_view_module": "@jupyter-widgets/base",
            "_view_module_version": "1.2.0",
            "_view_name": "LayoutView",
            "align_content": null,
            "align_items": null,
            "align_self": null,
            "border": null,
            "bottom": null,
            "display": null,
            "flex": null,
            "flex_flow": null,
            "grid_area": null,
            "grid_auto_columns": null,
            "grid_auto_flow": null,
            "grid_auto_rows": null,
            "grid_column": null,
            "grid_gap": null,
            "grid_row": null,
            "grid_template_areas": null,
            "grid_template_columns": null,
            "grid_template_rows": null,
            "height": null,
            "justify_content": null,
            "justify_items": null,
            "left": null,
            "margin": null,
            "max_height": null,
            "max_width": null,
            "min_height": null,
            "min_width": null,
            "object_fit": null,
            "object_position": null,
            "order": null,
            "overflow": null,
            "overflow_x": null,
            "overflow_y": null,
            "padding": null,
            "right": null,
            "top": null,
            "visibility": null,
            "width": null
          }
        },
        "84800c697d554986a160300f9980cd63": {
          "model_module": "@jupyter-widgets/controls",
          "model_module_version": "1.5.0",
          "model_name": "HTMLModel",
          "state": {
            "_dom_classes": [],
            "_model_module": "@jupyter-widgets/controls",
            "_model_module_version": "1.5.0",
            "_model_name": "HTMLModel",
            "_view_count": null,
            "_view_module": "@jupyter-widgets/controls",
            "_view_module_version": "1.5.0",
            "_view_name": "HTMLView",
            "description": "",
            "description_tooltip": null,
            "layout": "IPY_MODEL_a58f42ab772c486bae04847ec6e40bd7",
            "placeholder": "​",
            "style": "IPY_MODEL_78b5373cf0d84c498d6ad64b10bbc503",
            "value": "model.safetensors: 100%"
          }
        },
        "864d8b9845a746ab9e80aefd540f474f": {
          "model_module": "@jupyter-widgets/controls",
          "model_module_version": "1.5.0",
          "model_name": "ProgressStyleModel",
          "state": {
            "_model_module": "@jupyter-widgets/controls",
            "_model_module_version": "1.5.0",
            "_model_name": "ProgressStyleModel",
            "_view_count": null,
            "_view_module": "@jupyter-widgets/base",
            "_view_module_version": "1.2.0",
            "_view_name": "StyleView",
            "bar_color": null,
            "description_width": ""
          }
        },
        "877bd478eef34442825f62b2f95382bb": {
          "model_module": "@jupyter-widgets/controls",
          "model_module_version": "1.5.0",
          "model_name": "HTMLModel",
          "state": {
            "_dom_classes": [],
            "_model_module": "@jupyter-widgets/controls",
            "_model_module_version": "1.5.0",
            "_model_name": "HTMLModel",
            "_view_count": null,
            "_view_module": "@jupyter-widgets/controls",
            "_view_module_version": "1.5.0",
            "_view_name": "HTMLView",
            "description": "",
            "description_tooltip": null,
            "layout": "IPY_MODEL_c0ad40fe409d43709881eb15d48eafa3",
            "placeholder": "​",
            "style": "IPY_MODEL_b936fccfa7e44b9fa94bf5df010ea885",
            "value": " 48.0/48.0 [00:00&lt;00:00, 3.75kB/s]"
          }
        },
        "89e4dc9a039f4e8ab1e27748e0ee0270": {
          "model_module": "@jupyter-widgets/controls",
          "model_module_version": "1.5.0",
          "model_name": "DescriptionStyleModel",
          "state": {
            "_model_module": "@jupyter-widgets/controls",
            "_model_module_version": "1.5.0",
            "_model_name": "DescriptionStyleModel",
            "_view_count": null,
            "_view_module": "@jupyter-widgets/base",
            "_view_module_version": "1.2.0",
            "_view_name": "StyleView",
            "description_width": ""
          }
        },
        "8dea99a683ac440e9f700aa3b4d94c68": {
          "model_module": "@jupyter-widgets/base",
          "model_module_version": "1.2.0",
          "model_name": "LayoutModel",
          "state": {
            "_model_module": "@jupyter-widgets/base",
            "_model_module_version": "1.2.0",
            "_model_name": "LayoutModel",
            "_view_count": null,
            "_view_module": "@jupyter-widgets/base",
            "_view_module_version": "1.2.0",
            "_view_name": "LayoutView",
            "align_content": null,
            "align_items": null,
            "align_self": null,
            "border": null,
            "bottom": null,
            "display": null,
            "flex": null,
            "flex_flow": null,
            "grid_area": null,
            "grid_auto_columns": null,
            "grid_auto_flow": null,
            "grid_auto_rows": null,
            "grid_column": null,
            "grid_gap": null,
            "grid_row": null,
            "grid_template_areas": null,
            "grid_template_columns": null,
            "grid_template_rows": null,
            "height": null,
            "justify_content": null,
            "justify_items": null,
            "left": null,
            "margin": null,
            "max_height": null,
            "max_width": null,
            "min_height": null,
            "min_width": null,
            "object_fit": null,
            "object_position": null,
            "order": null,
            "overflow": null,
            "overflow_x": null,
            "overflow_y": null,
            "padding": null,
            "right": null,
            "top": null,
            "visibility": null,
            "width": null
          }
        },
        "8df399ad769b4de8aaf8859b4f1b656c": {
          "model_module": "@jupyter-widgets/controls",
          "model_module_version": "1.5.0",
          "model_name": "DescriptionStyleModel",
          "state": {
            "_model_module": "@jupyter-widgets/controls",
            "_model_module_version": "1.5.0",
            "_model_name": "DescriptionStyleModel",
            "_view_count": null,
            "_view_module": "@jupyter-widgets/base",
            "_view_module_version": "1.2.0",
            "_view_name": "StyleView",
            "description_width": ""
          }
        },
        "914639858100424088bc868cafac9d52": {
          "model_module": "@jupyter-widgets/controls",
          "model_module_version": "1.5.0",
          "model_name": "FloatProgressModel",
          "state": {
            "_dom_classes": [],
            "_model_module": "@jupyter-widgets/controls",
            "_model_module_version": "1.5.0",
            "_model_name": "FloatProgressModel",
            "_view_count": null,
            "_view_module": "@jupyter-widgets/controls",
            "_view_module_version": "1.5.0",
            "_view_name": "ProgressView",
            "bar_style": "success",
            "description": "",
            "description_tooltip": null,
            "layout": "IPY_MODEL_7686de49fb0b4577bc3c0061735c2180",
            "max": 791656,
            "min": 0,
            "orientation": "horizontal",
            "style": "IPY_MODEL_5d50e2fb15474f84a1f16c3285152c83",
            "value": 791656
          }
        },
        "92b390fe29e743eea0d66b8d3feb2b33": {
          "model_module": "@jupyter-widgets/controls",
          "model_module_version": "1.5.0",
          "model_name": "HTMLModel",
          "state": {
            "_dom_classes": [],
            "_model_module": "@jupyter-widgets/controls",
            "_model_module_version": "1.5.0",
            "_model_name": "HTMLModel",
            "_view_count": null,
            "_view_module": "@jupyter-widgets/controls",
            "_view_module_version": "1.5.0",
            "_view_name": "HTMLView",
            "description": "",
            "description_tooltip": null,
            "layout": "IPY_MODEL_19378421c59243dcab367523e5a744df",
            "placeholder": "​",
            "style": "IPY_MODEL_f1706d2fdc2e429b9d5927821c61a8b2",
            "value": " 232k/232k [00:00&lt;00:00, 4.46MB/s]"
          }
        },
        "980dd265fa7342dbb60b18e49851769f": {
          "model_module": "@jupyter-widgets/controls",
          "model_module_version": "1.5.0",
          "model_name": "DescriptionStyleModel",
          "state": {
            "_model_module": "@jupyter-widgets/controls",
            "_model_module_version": "1.5.0",
            "_model_name": "DescriptionStyleModel",
            "_view_count": null,
            "_view_module": "@jupyter-widgets/base",
            "_view_module_version": "1.2.0",
            "_view_name": "StyleView",
            "description_width": ""
          }
        },
        "987d954ca05f4e85b33cc12d19a6f245": {
          "model_module": "@jupyter-widgets/base",
          "model_module_version": "1.2.0",
          "model_name": "LayoutModel",
          "state": {
            "_model_module": "@jupyter-widgets/base",
            "_model_module_version": "1.2.0",
            "_model_name": "LayoutModel",
            "_view_count": null,
            "_view_module": "@jupyter-widgets/base",
            "_view_module_version": "1.2.0",
            "_view_name": "LayoutView",
            "align_content": null,
            "align_items": null,
            "align_self": null,
            "border": null,
            "bottom": null,
            "display": null,
            "flex": null,
            "flex_flow": null,
            "grid_area": null,
            "grid_auto_columns": null,
            "grid_auto_flow": null,
            "grid_auto_rows": null,
            "grid_column": null,
            "grid_gap": null,
            "grid_row": null,
            "grid_template_areas": null,
            "grid_template_columns": null,
            "grid_template_rows": null,
            "height": null,
            "justify_content": null,
            "justify_items": null,
            "left": null,
            "margin": null,
            "max_height": null,
            "max_width": null,
            "min_height": null,
            "min_width": null,
            "object_fit": null,
            "object_position": null,
            "order": null,
            "overflow": null,
            "overflow_x": null,
            "overflow_y": null,
            "padding": null,
            "right": null,
            "top": null,
            "visibility": null,
            "width": null
          }
        },
        "9b4e85fe3a5e4e8990f3a14fd329364d": {
          "model_module": "@jupyter-widgets/base",
          "model_module_version": "1.2.0",
          "model_name": "LayoutModel",
          "state": {
            "_model_module": "@jupyter-widgets/base",
            "_model_module_version": "1.2.0",
            "_model_name": "LayoutModel",
            "_view_count": null,
            "_view_module": "@jupyter-widgets/base",
            "_view_module_version": "1.2.0",
            "_view_name": "LayoutView",
            "align_content": null,
            "align_items": null,
            "align_self": null,
            "border": null,
            "bottom": null,
            "display": null,
            "flex": null,
            "flex_flow": null,
            "grid_area": null,
            "grid_auto_columns": null,
            "grid_auto_flow": null,
            "grid_auto_rows": null,
            "grid_column": null,
            "grid_gap": null,
            "grid_row": null,
            "grid_template_areas": null,
            "grid_template_columns": null,
            "grid_template_rows": null,
            "height": null,
            "justify_content": null,
            "justify_items": null,
            "left": null,
            "margin": null,
            "max_height": null,
            "max_width": null,
            "min_height": null,
            "min_width": null,
            "object_fit": null,
            "object_position": null,
            "order": null,
            "overflow": null,
            "overflow_x": null,
            "overflow_y": null,
            "padding": null,
            "right": null,
            "top": null,
            "visibility": null,
            "width": null
          }
        },
        "9bd3962b5de54508874612d38acef0c7": {
          "model_module": "@jupyter-widgets/base",
          "model_module_version": "1.2.0",
          "model_name": "LayoutModel",
          "state": {
            "_model_module": "@jupyter-widgets/base",
            "_model_module_version": "1.2.0",
            "_model_name": "LayoutModel",
            "_view_count": null,
            "_view_module": "@jupyter-widgets/base",
            "_view_module_version": "1.2.0",
            "_view_name": "LayoutView",
            "align_content": null,
            "align_items": null,
            "align_self": null,
            "border": null,
            "bottom": null,
            "display": null,
            "flex": null,
            "flex_flow": null,
            "grid_area": null,
            "grid_auto_columns": null,
            "grid_auto_flow": null,
            "grid_auto_rows": null,
            "grid_column": null,
            "grid_gap": null,
            "grid_row": null,
            "grid_template_areas": null,
            "grid_template_columns": null,
            "grid_template_rows": null,
            "height": null,
            "justify_content": null,
            "justify_items": null,
            "left": null,
            "margin": null,
            "max_height": null,
            "max_width": null,
            "min_height": null,
            "min_width": null,
            "object_fit": null,
            "object_position": null,
            "order": null,
            "overflow": null,
            "overflow_x": null,
            "overflow_y": null,
            "padding": null,
            "right": null,
            "top": null,
            "visibility": null,
            "width": null
          }
        },
        "9c6ce194087c4769b0aafb7b46018f7f": {
          "model_module": "@jupyter-widgets/controls",
          "model_module_version": "1.5.0",
          "model_name": "HBoxModel",
          "state": {
            "_dom_classes": [],
            "_model_module": "@jupyter-widgets/controls",
            "_model_module_version": "1.5.0",
            "_model_name": "HBoxModel",
            "_view_count": null,
            "_view_module": "@jupyter-widgets/controls",
            "_view_module_version": "1.5.0",
            "_view_name": "HBoxView",
            "box_style": "",
            "children": [
              "IPY_MODEL_7d24255070054141a6fe5c193a8972a0",
              "IPY_MODEL_f6da86f22afa473399df18a4bd1b92ad",
              "IPY_MODEL_c16a41810b2e43d8b086d3346559bcd7"
            ],
            "layout": "IPY_MODEL_e07546f1d13a4ef6bdf075daced3cd8a"
          }
        },
        "9f2cdb7911c041c7afa7b7cf60c441a1": {
          "model_module": "@jupyter-widgets/base",
          "model_module_version": "1.2.0",
          "model_name": "LayoutModel",
          "state": {
            "_model_module": "@jupyter-widgets/base",
            "_model_module_version": "1.2.0",
            "_model_name": "LayoutModel",
            "_view_count": null,
            "_view_module": "@jupyter-widgets/base",
            "_view_module_version": "1.2.0",
            "_view_name": "LayoutView",
            "align_content": null,
            "align_items": null,
            "align_self": null,
            "border": null,
            "bottom": null,
            "display": null,
            "flex": null,
            "flex_flow": null,
            "grid_area": null,
            "grid_auto_columns": null,
            "grid_auto_flow": null,
            "grid_auto_rows": null,
            "grid_column": null,
            "grid_gap": null,
            "grid_row": null,
            "grid_template_areas": null,
            "grid_template_columns": null,
            "grid_template_rows": null,
            "height": null,
            "justify_content": null,
            "justify_items": null,
            "left": null,
            "margin": null,
            "max_height": null,
            "max_width": null,
            "min_height": null,
            "min_width": null,
            "object_fit": null,
            "object_position": null,
            "order": null,
            "overflow": null,
            "overflow_x": null,
            "overflow_y": null,
            "padding": null,
            "right": null,
            "top": null,
            "visibility": null,
            "width": null
          }
        },
        "9fa7248291b44e85b0599b9f19f9bbe3": {
          "model_module": "@jupyter-widgets/controls",
          "model_module_version": "1.5.0",
          "model_name": "HTMLModel",
          "state": {
            "_dom_classes": [],
            "_model_module": "@jupyter-widgets/controls",
            "_model_module_version": "1.5.0",
            "_model_name": "HTMLModel",
            "_view_count": null,
            "_view_module": "@jupyter-widgets/controls",
            "_view_module_version": "1.5.0",
            "_view_name": "HTMLView",
            "description": "",
            "description_tooltip": null,
            "layout": "IPY_MODEL_b721b99d33ab4e8eb7f02bcdb6d5c3bb",
            "placeholder": "​",
            "style": "IPY_MODEL_8df399ad769b4de8aaf8859b4f1b656c",
            "value": "tokenizer_config.json: 100%"
          }
        },
        "a37d381c8e02437caa72df1310e6ff55": {
          "model_module": "@jupyter-widgets/controls",
          "model_module_version": "1.5.0",
          "model_name": "DescriptionStyleModel",
          "state": {
            "_model_module": "@jupyter-widgets/controls",
            "_model_module_version": "1.5.0",
            "_model_name": "DescriptionStyleModel",
            "_view_count": null,
            "_view_module": "@jupyter-widgets/base",
            "_view_module_version": "1.2.0",
            "_view_name": "StyleView",
            "description_width": ""
          }
        },
        "a4cec2e140d4495794f0bec802d2281e": {
          "model_module": "@jupyter-widgets/controls",
          "model_module_version": "1.5.0",
          "model_name": "ProgressStyleModel",
          "state": {
            "_model_module": "@jupyter-widgets/controls",
            "_model_module_version": "1.5.0",
            "_model_name": "ProgressStyleModel",
            "_view_count": null,
            "_view_module": "@jupyter-widgets/base",
            "_view_module_version": "1.2.0",
            "_view_name": "StyleView",
            "bar_color": null,
            "description_width": ""
          }
        },
        "a58f42ab772c486bae04847ec6e40bd7": {
          "model_module": "@jupyter-widgets/base",
          "model_module_version": "1.2.0",
          "model_name": "LayoutModel",
          "state": {
            "_model_module": "@jupyter-widgets/base",
            "_model_module_version": "1.2.0",
            "_model_name": "LayoutModel",
            "_view_count": null,
            "_view_module": "@jupyter-widgets/base",
            "_view_module_version": "1.2.0",
            "_view_name": "LayoutView",
            "align_content": null,
            "align_items": null,
            "align_self": null,
            "border": null,
            "bottom": null,
            "display": null,
            "flex": null,
            "flex_flow": null,
            "grid_area": null,
            "grid_auto_columns": null,
            "grid_auto_flow": null,
            "grid_auto_rows": null,
            "grid_column": null,
            "grid_gap": null,
            "grid_row": null,
            "grid_template_areas": null,
            "grid_template_columns": null,
            "grid_template_rows": null,
            "height": null,
            "justify_content": null,
            "justify_items": null,
            "left": null,
            "margin": null,
            "max_height": null,
            "max_width": null,
            "min_height": null,
            "min_width": null,
            "object_fit": null,
            "object_position": null,
            "order": null,
            "overflow": null,
            "overflow_x": null,
            "overflow_y": null,
            "padding": null,
            "right": null,
            "top": null,
            "visibility": null,
            "width": null
          }
        },
        "a89a509da51a4677bcfe3d006bf3eeca": {
          "model_module": "@jupyter-widgets/controls",
          "model_module_version": "1.5.0",
          "model_name": "DescriptionStyleModel",
          "state": {
            "_model_module": "@jupyter-widgets/controls",
            "_model_module_version": "1.5.0",
            "_model_name": "DescriptionStyleModel",
            "_view_count": null,
            "_view_module": "@jupyter-widgets/base",
            "_view_module_version": "1.2.0",
            "_view_name": "StyleView",
            "description_width": ""
          }
        },
        "a92e07bfdf694ab8a00bd0393660fa9f": {
          "model_module": "@jupyter-widgets/base",
          "model_module_version": "1.2.0",
          "model_name": "LayoutModel",
          "state": {
            "_model_module": "@jupyter-widgets/base",
            "_model_module_version": "1.2.0",
            "_model_name": "LayoutModel",
            "_view_count": null,
            "_view_module": "@jupyter-widgets/base",
            "_view_module_version": "1.2.0",
            "_view_name": "LayoutView",
            "align_content": null,
            "align_items": null,
            "align_self": null,
            "border": null,
            "bottom": null,
            "display": null,
            "flex": null,
            "flex_flow": null,
            "grid_area": null,
            "grid_auto_columns": null,
            "grid_auto_flow": null,
            "grid_auto_rows": null,
            "grid_column": null,
            "grid_gap": null,
            "grid_row": null,
            "grid_template_areas": null,
            "grid_template_columns": null,
            "grid_template_rows": null,
            "height": null,
            "justify_content": null,
            "justify_items": null,
            "left": null,
            "margin": null,
            "max_height": null,
            "max_width": null,
            "min_height": null,
            "min_width": null,
            "object_fit": null,
            "object_position": null,
            "order": null,
            "overflow": null,
            "overflow_x": null,
            "overflow_y": null,
            "padding": null,
            "right": null,
            "top": null,
            "visibility": null,
            "width": null
          }
        },
        "a99f80ce8f2d48c69b17d70ce79c2668": {
          "model_module": "@jupyter-widgets/controls",
          "model_module_version": "1.5.0",
          "model_name": "HTMLModel",
          "state": {
            "_dom_classes": [],
            "_model_module": "@jupyter-widgets/controls",
            "_model_module_version": "1.5.0",
            "_model_name": "HTMLModel",
            "_view_count": null,
            "_view_module": "@jupyter-widgets/controls",
            "_view_module_version": "1.5.0",
            "_view_name": "HTMLView",
            "description": "",
            "description_tooltip": null,
            "layout": "IPY_MODEL_8dea99a683ac440e9f700aa3b4d94c68",
            "placeholder": "​",
            "style": "IPY_MODEL_782a97bbb3a842d5843646ba8faae201",
            "value": " 440M/440M [00:02&lt;00:00, 212MB/s]"
          }
        },
        "ad2251631a08433b8739e3bf2cf62000": {
          "model_module": "@jupyter-widgets/controls",
          "model_module_version": "1.5.0",
          "model_name": "DescriptionStyleModel",
          "state": {
            "_model_module": "@jupyter-widgets/controls",
            "_model_module_version": "1.5.0",
            "_model_name": "DescriptionStyleModel",
            "_view_count": null,
            "_view_module": "@jupyter-widgets/base",
            "_view_module_version": "1.2.0",
            "_view_name": "StyleView",
            "description_width": ""
          }
        },
        "b721b99d33ab4e8eb7f02bcdb6d5c3bb": {
          "model_module": "@jupyter-widgets/base",
          "model_module_version": "1.2.0",
          "model_name": "LayoutModel",
          "state": {
            "_model_module": "@jupyter-widgets/base",
            "_model_module_version": "1.2.0",
            "_model_name": "LayoutModel",
            "_view_count": null,
            "_view_module": "@jupyter-widgets/base",
            "_view_module_version": "1.2.0",
            "_view_name": "LayoutView",
            "align_content": null,
            "align_items": null,
            "align_self": null,
            "border": null,
            "bottom": null,
            "display": null,
            "flex": null,
            "flex_flow": null,
            "grid_area": null,
            "grid_auto_columns": null,
            "grid_auto_flow": null,
            "grid_auto_rows": null,
            "grid_column": null,
            "grid_gap": null,
            "grid_row": null,
            "grid_template_areas": null,
            "grid_template_columns": null,
            "grid_template_rows": null,
            "height": null,
            "justify_content": null,
            "justify_items": null,
            "left": null,
            "margin": null,
            "max_height": null,
            "max_width": null,
            "min_height": null,
            "min_width": null,
            "object_fit": null,
            "object_position": null,
            "order": null,
            "overflow": null,
            "overflow_x": null,
            "overflow_y": null,
            "padding": null,
            "right": null,
            "top": null,
            "visibility": null,
            "width": null
          }
        },
        "b936fccfa7e44b9fa94bf5df010ea885": {
          "model_module": "@jupyter-widgets/controls",
          "model_module_version": "1.5.0",
          "model_name": "DescriptionStyleModel",
          "state": {
            "_model_module": "@jupyter-widgets/controls",
            "_model_module_version": "1.5.0",
            "_model_name": "DescriptionStyleModel",
            "_view_count": null,
            "_view_module": "@jupyter-widgets/base",
            "_view_module_version": "1.2.0",
            "_view_name": "StyleView",
            "description_width": ""
          }
        },
        "ba4c42986c6a4f6e99e64807c8cd2433": {
          "model_module": "@jupyter-widgets/base",
          "model_module_version": "1.2.0",
          "model_name": "LayoutModel",
          "state": {
            "_model_module": "@jupyter-widgets/base",
            "_model_module_version": "1.2.0",
            "_model_name": "LayoutModel",
            "_view_count": null,
            "_view_module": "@jupyter-widgets/base",
            "_view_module_version": "1.2.0",
            "_view_name": "LayoutView",
            "align_content": null,
            "align_items": null,
            "align_self": null,
            "border": null,
            "bottom": null,
            "display": null,
            "flex": null,
            "flex_flow": null,
            "grid_area": null,
            "grid_auto_columns": null,
            "grid_auto_flow": null,
            "grid_auto_rows": null,
            "grid_column": null,
            "grid_gap": null,
            "grid_row": null,
            "grid_template_areas": null,
            "grid_template_columns": null,
            "grid_template_rows": null,
            "height": null,
            "justify_content": null,
            "justify_items": null,
            "left": null,
            "margin": null,
            "max_height": null,
            "max_width": null,
            "min_height": null,
            "min_width": null,
            "object_fit": null,
            "object_position": null,
            "order": null,
            "overflow": null,
            "overflow_x": null,
            "overflow_y": null,
            "padding": null,
            "right": null,
            "top": null,
            "visibility": null,
            "width": null
          }
        },
        "bc15b8446b554cafa44728e1f349b6cf": {
          "model_module": "@jupyter-widgets/controls",
          "model_module_version": "1.5.0",
          "model_name": "HBoxModel",
          "state": {
            "_dom_classes": [],
            "_model_module": "@jupyter-widgets/controls",
            "_model_module_version": "1.5.0",
            "_model_name": "HBoxModel",
            "_view_count": null,
            "_view_module": "@jupyter-widgets/controls",
            "_view_module_version": "1.5.0",
            "_view_name": "HBoxView",
            "box_style": "",
            "children": [
              "IPY_MODEL_9fa7248291b44e85b0599b9f19f9bbe3",
              "IPY_MODEL_ed6cc5f564154430a9ee960d23ab5a14",
              "IPY_MODEL_f1085f3efa6640d783e8f855e2c9c1f6"
            ],
            "layout": "IPY_MODEL_1af912d709e64632884e19500fcceb4c"
          }
        },
        "c04e376cf34d49d59fe14bc512f8e367": {
          "model_module": "@jupyter-widgets/controls",
          "model_module_version": "1.5.0",
          "model_name": "DescriptionStyleModel",
          "state": {
            "_model_module": "@jupyter-widgets/controls",
            "_model_module_version": "1.5.0",
            "_model_name": "DescriptionStyleModel",
            "_view_count": null,
            "_view_module": "@jupyter-widgets/base",
            "_view_module_version": "1.2.0",
            "_view_name": "StyleView",
            "description_width": ""
          }
        },
        "c0ad40fe409d43709881eb15d48eafa3": {
          "model_module": "@jupyter-widgets/base",
          "model_module_version": "1.2.0",
          "model_name": "LayoutModel",
          "state": {
            "_model_module": "@jupyter-widgets/base",
            "_model_module_version": "1.2.0",
            "_model_name": "LayoutModel",
            "_view_count": null,
            "_view_module": "@jupyter-widgets/base",
            "_view_module_version": "1.2.0",
            "_view_name": "LayoutView",
            "align_content": null,
            "align_items": null,
            "align_self": null,
            "border": null,
            "bottom": null,
            "display": null,
            "flex": null,
            "flex_flow": null,
            "grid_area": null,
            "grid_auto_columns": null,
            "grid_auto_flow": null,
            "grid_auto_rows": null,
            "grid_column": null,
            "grid_gap": null,
            "grid_row": null,
            "grid_template_areas": null,
            "grid_template_columns": null,
            "grid_template_rows": null,
            "height": null,
            "justify_content": null,
            "justify_items": null,
            "left": null,
            "margin": null,
            "max_height": null,
            "max_width": null,
            "min_height": null,
            "min_width": null,
            "object_fit": null,
            "object_position": null,
            "order": null,
            "overflow": null,
            "overflow_x": null,
            "overflow_y": null,
            "padding": null,
            "right": null,
            "top": null,
            "visibility": null,
            "width": null
          }
        },
        "c16a41810b2e43d8b086d3346559bcd7": {
          "model_module": "@jupyter-widgets/controls",
          "model_module_version": "1.5.0",
          "model_name": "HTMLModel",
          "state": {
            "_dom_classes": [],
            "_model_module": "@jupyter-widgets/controls",
            "_model_module_version": "1.5.0",
            "_model_name": "HTMLModel",
            "_view_count": null,
            "_view_module": "@jupyter-widgets/controls",
            "_view_module_version": "1.5.0",
            "_view_name": "HTMLView",
            "description": "",
            "description_tooltip": null,
            "layout": "IPY_MODEL_cb1a42d3e9b8404b8b775ed15bf74020",
            "placeholder": "​",
            "style": "IPY_MODEL_980dd265fa7342dbb60b18e49851769f",
            "value": " 570/570 [00:00&lt;00:00, 44.3kB/s]"
          }
        },
        "c310e8be48754d43b4dbec1439045673": {
          "model_module": "@jupyter-widgets/controls",
          "model_module_version": "1.5.0",
          "model_name": "ProgressStyleModel",
          "state": {
            "_model_module": "@jupyter-widgets/controls",
            "_model_module_version": "1.5.0",
            "_model_name": "ProgressStyleModel",
            "_view_count": null,
            "_view_module": "@jupyter-widgets/base",
            "_view_module_version": "1.2.0",
            "_view_name": "StyleView",
            "bar_color": null,
            "description_width": ""
          }
        },
        "c6545bdd820441feb75c5a853dda81bd": {
          "model_module": "@jupyter-widgets/controls",
          "model_module_version": "1.5.0",
          "model_name": "ProgressStyleModel",
          "state": {
            "_model_module": "@jupyter-widgets/controls",
            "_model_module_version": "1.5.0",
            "_model_name": "ProgressStyleModel",
            "_view_count": null,
            "_view_module": "@jupyter-widgets/base",
            "_view_module_version": "1.2.0",
            "_view_name": "StyleView",
            "bar_color": null,
            "description_width": ""
          }
        },
        "c85cef6f74a7490eb4f98b827b0f29f1": {
          "model_module": "@jupyter-widgets/controls",
          "model_module_version": "1.5.0",
          "model_name": "ProgressStyleModel",
          "state": {
            "_model_module": "@jupyter-widgets/controls",
            "_model_module_version": "1.5.0",
            "_model_name": "ProgressStyleModel",
            "_view_count": null,
            "_view_module": "@jupyter-widgets/base",
            "_view_module_version": "1.2.0",
            "_view_name": "StyleView",
            "bar_color": null,
            "description_width": ""
          }
        },
        "cb1a42d3e9b8404b8b775ed15bf74020": {
          "model_module": "@jupyter-widgets/base",
          "model_module_version": "1.2.0",
          "model_name": "LayoutModel",
          "state": {
            "_model_module": "@jupyter-widgets/base",
            "_model_module_version": "1.2.0",
            "_model_name": "LayoutModel",
            "_view_count": null,
            "_view_module": "@jupyter-widgets/base",
            "_view_module_version": "1.2.0",
            "_view_name": "LayoutView",
            "align_content": null,
            "align_items": null,
            "align_self": null,
            "border": null,
            "bottom": null,
            "display": null,
            "flex": null,
            "flex_flow": null,
            "grid_area": null,
            "grid_auto_columns": null,
            "grid_auto_flow": null,
            "grid_auto_rows": null,
            "grid_column": null,
            "grid_gap": null,
            "grid_row": null,
            "grid_template_areas": null,
            "grid_template_columns": null,
            "grid_template_rows": null,
            "height": null,
            "justify_content": null,
            "justify_items": null,
            "left": null,
            "margin": null,
            "max_height": null,
            "max_width": null,
            "min_height": null,
            "min_width": null,
            "object_fit": null,
            "object_position": null,
            "order": null,
            "overflow": null,
            "overflow_x": null,
            "overflow_y": null,
            "padding": null,
            "right": null,
            "top": null,
            "visibility": null,
            "width": null
          }
        },
        "cd673fe74e70428ebd3c63cdb9eac585": {
          "model_module": "@jupyter-widgets/base",
          "model_module_version": "1.2.0",
          "model_name": "LayoutModel",
          "state": {
            "_model_module": "@jupyter-widgets/base",
            "_model_module_version": "1.2.0",
            "_model_name": "LayoutModel",
            "_view_count": null,
            "_view_module": "@jupyter-widgets/base",
            "_view_module_version": "1.2.0",
            "_view_name": "LayoutView",
            "align_content": null,
            "align_items": null,
            "align_self": null,
            "border": null,
            "bottom": null,
            "display": null,
            "flex": null,
            "flex_flow": null,
            "grid_area": null,
            "grid_auto_columns": null,
            "grid_auto_flow": null,
            "grid_auto_rows": null,
            "grid_column": null,
            "grid_gap": null,
            "grid_row": null,
            "grid_template_areas": null,
            "grid_template_columns": null,
            "grid_template_rows": null,
            "height": null,
            "justify_content": null,
            "justify_items": null,
            "left": null,
            "margin": null,
            "max_height": null,
            "max_width": null,
            "min_height": null,
            "min_width": null,
            "object_fit": null,
            "object_position": null,
            "order": null,
            "overflow": null,
            "overflow_x": null,
            "overflow_y": null,
            "padding": null,
            "right": null,
            "top": null,
            "visibility": null,
            "width": null
          }
        },
        "ce3239562b5745ed957492f364bf30d1": {
          "model_module": "@jupyter-widgets/controls",
          "model_module_version": "1.5.0",
          "model_name": "FloatProgressModel",
          "state": {
            "_dom_classes": [],
            "_model_module": "@jupyter-widgets/controls",
            "_model_module_version": "1.5.0",
            "_model_name": "FloatProgressModel",
            "_view_count": null,
            "_view_module": "@jupyter-widgets/controls",
            "_view_module_version": "1.5.0",
            "_view_name": "ProgressView",
            "bar_style": "success",
            "description": "",
            "description_tooltip": null,
            "layout": "IPY_MODEL_010790ec70c94d06b16db95c4b2ab293",
            "max": 48,
            "min": 0,
            "orientation": "horizontal",
            "style": "IPY_MODEL_c310e8be48754d43b4dbec1439045673",
            "value": 48
          }
        },
        "d193808d1de34dd79366c1341d751872": {
          "model_module": "@jupyter-widgets/controls",
          "model_module_version": "1.5.0",
          "model_name": "HTMLModel",
          "state": {
            "_dom_classes": [],
            "_model_module": "@jupyter-widgets/controls",
            "_model_module_version": "1.5.0",
            "_model_name": "HTMLModel",
            "_view_count": null,
            "_view_module": "@jupyter-widgets/controls",
            "_view_module_version": "1.5.0",
            "_view_name": "HTMLView",
            "description": "",
            "description_tooltip": null,
            "layout": "IPY_MODEL_315c2f8936334659bee5902def270cca",
            "placeholder": "​",
            "style": "IPY_MODEL_c04e376cf34d49d59fe14bc512f8e367",
            "value": "vocab.txt: 100%"
          }
        },
        "dcf694bdadf146eebd33626d7ff288bf": {
          "model_module": "@jupyter-widgets/controls",
          "model_module_version": "1.5.0",
          "model_name": "DescriptionStyleModel",
          "state": {
            "_model_module": "@jupyter-widgets/controls",
            "_model_module_version": "1.5.0",
            "_model_name": "DescriptionStyleModel",
            "_view_count": null,
            "_view_module": "@jupyter-widgets/base",
            "_view_module_version": "1.2.0",
            "_view_name": "StyleView",
            "description_width": ""
          }
        },
        "dfbd61331dc04607a2f8313ea5738758": {
          "model_module": "@jupyter-widgets/base",
          "model_module_version": "1.2.0",
          "model_name": "LayoutModel",
          "state": {
            "_model_module": "@jupyter-widgets/base",
            "_model_module_version": "1.2.0",
            "_model_name": "LayoutModel",
            "_view_count": null,
            "_view_module": "@jupyter-widgets/base",
            "_view_module_version": "1.2.0",
            "_view_name": "LayoutView",
            "align_content": null,
            "align_items": null,
            "align_self": null,
            "border": null,
            "bottom": null,
            "display": null,
            "flex": null,
            "flex_flow": null,
            "grid_area": null,
            "grid_auto_columns": null,
            "grid_auto_flow": null,
            "grid_auto_rows": null,
            "grid_column": null,
            "grid_gap": null,
            "grid_row": null,
            "grid_template_areas": null,
            "grid_template_columns": null,
            "grid_template_rows": null,
            "height": null,
            "justify_content": null,
            "justify_items": null,
            "left": null,
            "margin": null,
            "max_height": null,
            "max_width": null,
            "min_height": null,
            "min_width": null,
            "object_fit": null,
            "object_position": null,
            "order": null,
            "overflow": null,
            "overflow_x": null,
            "overflow_y": null,
            "padding": null,
            "right": null,
            "top": null,
            "visibility": null,
            "width": null
          }
        },
        "e07546f1d13a4ef6bdf075daced3cd8a": {
          "model_module": "@jupyter-widgets/base",
          "model_module_version": "1.2.0",
          "model_name": "LayoutModel",
          "state": {
            "_model_module": "@jupyter-widgets/base",
            "_model_module_version": "1.2.0",
            "_model_name": "LayoutModel",
            "_view_count": null,
            "_view_module": "@jupyter-widgets/base",
            "_view_module_version": "1.2.0",
            "_view_name": "LayoutView",
            "align_content": null,
            "align_items": null,
            "align_self": null,
            "border": null,
            "bottom": null,
            "display": null,
            "flex": null,
            "flex_flow": null,
            "grid_area": null,
            "grid_auto_columns": null,
            "grid_auto_flow": null,
            "grid_auto_rows": null,
            "grid_column": null,
            "grid_gap": null,
            "grid_row": null,
            "grid_template_areas": null,
            "grid_template_columns": null,
            "grid_template_rows": null,
            "height": null,
            "justify_content": null,
            "justify_items": null,
            "left": null,
            "margin": null,
            "max_height": null,
            "max_width": null,
            "min_height": null,
            "min_width": null,
            "object_fit": null,
            "object_position": null,
            "order": null,
            "overflow": null,
            "overflow_x": null,
            "overflow_y": null,
            "padding": null,
            "right": null,
            "top": null,
            "visibility": null,
            "width": null
          }
        },
        "e0765364c5d64c4f8884720a6cced6f2": {
          "model_module": "@jupyter-widgets/controls",
          "model_module_version": "1.5.0",
          "model_name": "DescriptionStyleModel",
          "state": {
            "_model_module": "@jupyter-widgets/controls",
            "_model_module_version": "1.5.0",
            "_model_name": "DescriptionStyleModel",
            "_view_count": null,
            "_view_module": "@jupyter-widgets/base",
            "_view_module_version": "1.2.0",
            "_view_name": "StyleView",
            "description_width": ""
          }
        },
        "e32500e79cf0405cac720bb29b7a3f58": {
          "model_module": "@jupyter-widgets/base",
          "model_module_version": "1.2.0",
          "model_name": "LayoutModel",
          "state": {
            "_model_module": "@jupyter-widgets/base",
            "_model_module_version": "1.2.0",
            "_model_name": "LayoutModel",
            "_view_count": null,
            "_view_module": "@jupyter-widgets/base",
            "_view_module_version": "1.2.0",
            "_view_name": "LayoutView",
            "align_content": null,
            "align_items": null,
            "align_self": null,
            "border": null,
            "bottom": null,
            "display": null,
            "flex": null,
            "flex_flow": null,
            "grid_area": null,
            "grid_auto_columns": null,
            "grid_auto_flow": null,
            "grid_auto_rows": null,
            "grid_column": null,
            "grid_gap": null,
            "grid_row": null,
            "grid_template_areas": null,
            "grid_template_columns": null,
            "grid_template_rows": null,
            "height": null,
            "justify_content": null,
            "justify_items": null,
            "left": null,
            "margin": null,
            "max_height": null,
            "max_width": null,
            "min_height": null,
            "min_width": null,
            "object_fit": null,
            "object_position": null,
            "order": null,
            "overflow": null,
            "overflow_x": null,
            "overflow_y": null,
            "padding": null,
            "right": null,
            "top": null,
            "visibility": null,
            "width": null
          }
        },
        "e65c0de9dcd343ab943425879525d5b3": {
          "model_module": "@jupyter-widgets/controls",
          "model_module_version": "1.5.0",
          "model_name": "HTMLModel",
          "state": {
            "_dom_classes": [],
            "_model_module": "@jupyter-widgets/controls",
            "_model_module_version": "1.5.0",
            "_model_name": "HTMLModel",
            "_view_count": null,
            "_view_module": "@jupyter-widgets/controls",
            "_view_module_version": "1.5.0",
            "_view_name": "HTMLView",
            "description": "",
            "description_tooltip": null,
            "layout": "IPY_MODEL_07f8cad0944c4b1db8edae19281c3e8b",
            "placeholder": "​",
            "style": "IPY_MODEL_a37d381c8e02437caa72df1310e6ff55",
            "value": "tokenizer.json: 100%"
          }
        },
        "e88d84413c1c48a8acd51d395fd7e871": {
          "model_module": "@jupyter-widgets/controls",
          "model_module_version": "1.5.0",
          "model_name": "HTMLModel",
          "state": {
            "_dom_classes": [],
            "_model_module": "@jupyter-widgets/controls",
            "_model_module_version": "1.5.0",
            "_model_name": "HTMLModel",
            "_view_count": null,
            "_view_module": "@jupyter-widgets/controls",
            "_view_module_version": "1.5.0",
            "_view_name": "HTMLView",
            "description": "",
            "description_tooltip": null,
            "layout": "IPY_MODEL_200cab368a3a4978aa93d556312ef57f",
            "placeholder": "​",
            "style": "IPY_MODEL_4f8380d9922946c795f96379ac47a231",
            "value": "tokenizer.json: 100%"
          }
        },
        "e9c7fe25c6cb4ccc93edb96c9ed4d126": {
          "model_module": "@jupyter-widgets/controls",
          "model_module_version": "1.5.0",
          "model_name": "FloatProgressModel",
          "state": {
            "_dom_classes": [],
            "_model_module": "@jupyter-widgets/controls",
            "_model_module_version": "1.5.0",
            "_model_name": "FloatProgressModel",
            "_view_count": null,
            "_view_module": "@jupyter-widgets/controls",
            "_view_module_version": "1.5.0",
            "_view_name": "ProgressView",
            "bar_style": "success",
            "description": "",
            "description_tooltip": null,
            "layout": "IPY_MODEL_38b7004636c54d0cb32fbe6229f906d0",
            "max": 242043056,
            "min": 0,
            "orientation": "horizontal",
            "style": "IPY_MODEL_c85cef6f74a7490eb4f98b827b0f29f1",
            "value": 242043056
          }
        },
        "ed6cc5f564154430a9ee960d23ab5a14": {
          "model_module": "@jupyter-widgets/controls",
          "model_module_version": "1.5.0",
          "model_name": "FloatProgressModel",
          "state": {
            "_dom_classes": [],
            "_model_module": "@jupyter-widgets/controls",
            "_model_module_version": "1.5.0",
            "_model_name": "FloatProgressModel",
            "_view_count": null,
            "_view_module": "@jupyter-widgets/controls",
            "_view_module_version": "1.5.0",
            "_view_name": "ProgressView",
            "bar_style": "success",
            "description": "",
            "description_tooltip": null,
            "layout": "IPY_MODEL_333caf91449948a1bd5dc2b4359c2ec0",
            "max": 2324,
            "min": 0,
            "orientation": "horizontal",
            "style": "IPY_MODEL_864d8b9845a746ab9e80aefd540f474f",
            "value": 2324
          }
        },
        "efc8ba0614f34b17ab81cdbf918e5320": {
          "model_module": "@jupyter-widgets/base",
          "model_module_version": "1.2.0",
          "model_name": "LayoutModel",
          "state": {
            "_model_module": "@jupyter-widgets/base",
            "_model_module_version": "1.2.0",
            "_model_name": "LayoutModel",
            "_view_count": null,
            "_view_module": "@jupyter-widgets/base",
            "_view_module_version": "1.2.0",
            "_view_name": "LayoutView",
            "align_content": null,
            "align_items": null,
            "align_self": null,
            "border": null,
            "bottom": null,
            "display": null,
            "flex": null,
            "flex_flow": null,
            "grid_area": null,
            "grid_auto_columns": null,
            "grid_auto_flow": null,
            "grid_auto_rows": null,
            "grid_column": null,
            "grid_gap": null,
            "grid_row": null,
            "grid_template_areas": null,
            "grid_template_columns": null,
            "grid_template_rows": null,
            "height": null,
            "justify_content": null,
            "justify_items": null,
            "left": null,
            "margin": null,
            "max_height": null,
            "max_width": null,
            "min_height": null,
            "min_width": null,
            "object_fit": null,
            "object_position": null,
            "order": null,
            "overflow": null,
            "overflow_x": null,
            "overflow_y": null,
            "padding": null,
            "right": null,
            "top": null,
            "visibility": null,
            "width": null
          }
        },
        "f1085f3efa6640d783e8f855e2c9c1f6": {
          "model_module": "@jupyter-widgets/controls",
          "model_module_version": "1.5.0",
          "model_name": "HTMLModel",
          "state": {
            "_dom_classes": [],
            "_model_module": "@jupyter-widgets/controls",
            "_model_module_version": "1.5.0",
            "_model_name": "HTMLModel",
            "_view_count": null,
            "_view_module": "@jupyter-widgets/controls",
            "_view_module_version": "1.5.0",
            "_view_name": "HTMLView",
            "description": "",
            "description_tooltip": null,
            "layout": "IPY_MODEL_28dc85292ac24f2e94802e6180fa6a65",
            "placeholder": "​",
            "style": "IPY_MODEL_dcf694bdadf146eebd33626d7ff288bf",
            "value": " 2.32k/2.32k [00:00&lt;00:00, 175kB/s]"
          }
        },
        "f1706d2fdc2e429b9d5927821c61a8b2": {
          "model_module": "@jupyter-widgets/controls",
          "model_module_version": "1.5.0",
          "model_name": "DescriptionStyleModel",
          "state": {
            "_model_module": "@jupyter-widgets/controls",
            "_model_module_version": "1.5.0",
            "_model_name": "DescriptionStyleModel",
            "_view_count": null,
            "_view_module": "@jupyter-widgets/base",
            "_view_module_version": "1.2.0",
            "_view_name": "StyleView",
            "description_width": ""
          }
        },
        "f3dd0f8bafbb4ac7b1d740d9087f3cc8": {
          "model_module": "@jupyter-widgets/controls",
          "model_module_version": "1.5.0",
          "model_name": "HBoxModel",
          "state": {
            "_dom_classes": [],
            "_model_module": "@jupyter-widgets/controls",
            "_model_module_version": "1.5.0",
            "_model_name": "HBoxModel",
            "_view_count": null,
            "_view_module": "@jupyter-widgets/controls",
            "_view_module_version": "1.5.0",
            "_view_name": "HBoxView",
            "box_style": "",
            "children": [
              "IPY_MODEL_e88d84413c1c48a8acd51d395fd7e871",
              "IPY_MODEL_f5a690ba8f3e49619793c8cc579b655f",
              "IPY_MODEL_fd4f736253914281be6954ce959901a9"
            ],
            "layout": "IPY_MODEL_458499d21a56467f8d7ad3889b441ce2"
          }
        },
        "f5a690ba8f3e49619793c8cc579b655f": {
          "model_module": "@jupyter-widgets/controls",
          "model_module_version": "1.5.0",
          "model_name": "FloatProgressModel",
          "state": {
            "_dom_classes": [],
            "_model_module": "@jupyter-widgets/controls",
            "_model_module_version": "1.5.0",
            "_model_name": "FloatProgressModel",
            "_view_count": null,
            "_view_module": "@jupyter-widgets/controls",
            "_view_module_version": "1.5.0",
            "_view_name": "ProgressView",
            "bar_style": "success",
            "description": "",
            "description_tooltip": null,
            "layout": "IPY_MODEL_7f4a40d199b942f0ac93d70fcc0d5df1",
            "max": 1389353,
            "min": 0,
            "orientation": "horizontal",
            "style": "IPY_MODEL_c6545bdd820441feb75c5a853dda81bd",
            "value": 1389353
          }
        },
        "f6da86f22afa473399df18a4bd1b92ad": {
          "model_module": "@jupyter-widgets/controls",
          "model_module_version": "1.5.0",
          "model_name": "FloatProgressModel",
          "state": {
            "_dom_classes": [],
            "_model_module": "@jupyter-widgets/controls",
            "_model_module_version": "1.5.0",
            "_model_name": "FloatProgressModel",
            "_view_count": null,
            "_view_module": "@jupyter-widgets/controls",
            "_view_module_version": "1.5.0",
            "_view_name": "ProgressView",
            "bar_style": "success",
            "description": "",
            "description_tooltip": null,
            "layout": "IPY_MODEL_42fe31c7f2034730a1def4072257903e",
            "max": 570,
            "min": 0,
            "orientation": "horizontal",
            "style": "IPY_MODEL_a4cec2e140d4495794f0bec802d2281e",
            "value": 570
          }
        },
        "f85d6bff832f4d538d26af9ec769fc39": {
          "model_module": "@jupyter-widgets/controls",
          "model_module_version": "1.5.0",
          "model_name": "HBoxModel",
          "state": {
            "_dom_classes": [],
            "_model_module": "@jupyter-widgets/controls",
            "_model_module_version": "1.5.0",
            "_model_name": "HBoxModel",
            "_view_count": null,
            "_view_module": "@jupyter-widgets/controls",
            "_view_module_version": "1.5.0",
            "_view_name": "HBoxView",
            "box_style": "",
            "children": [
              "IPY_MODEL_4561cd46242445e893182977f9ffc3f8",
              "IPY_MODEL_914639858100424088bc868cafac9d52",
              "IPY_MODEL_274338af39ab4b209131bbb4391f245f"
            ],
            "layout": "IPY_MODEL_f88ed078b57f401ba6e6d75b71f1de52"
          }
        },
        "f88ed078b57f401ba6e6d75b71f1de52": {
          "model_module": "@jupyter-widgets/base",
          "model_module_version": "1.2.0",
          "model_name": "LayoutModel",
          "state": {
            "_model_module": "@jupyter-widgets/base",
            "_model_module_version": "1.2.0",
            "_model_name": "LayoutModel",
            "_view_count": null,
            "_view_module": "@jupyter-widgets/base",
            "_view_module_version": "1.2.0",
            "_view_name": "LayoutView",
            "align_content": null,
            "align_items": null,
            "align_self": null,
            "border": null,
            "bottom": null,
            "display": null,
            "flex": null,
            "flex_flow": null,
            "grid_area": null,
            "grid_auto_columns": null,
            "grid_auto_flow": null,
            "grid_auto_rows": null,
            "grid_column": null,
            "grid_gap": null,
            "grid_row": null,
            "grid_template_areas": null,
            "grid_template_columns": null,
            "grid_template_rows": null,
            "height": null,
            "justify_content": null,
            "justify_items": null,
            "left": null,
            "margin": null,
            "max_height": null,
            "max_width": null,
            "min_height": null,
            "min_width": null,
            "object_fit": null,
            "object_position": null,
            "order": null,
            "overflow": null,
            "overflow_x": null,
            "overflow_y": null,
            "padding": null,
            "right": null,
            "top": null,
            "visibility": null,
            "width": null
          }
        },
        "fd4f736253914281be6954ce959901a9": {
          "model_module": "@jupyter-widgets/controls",
          "model_module_version": "1.5.0",
          "model_name": "HTMLModel",
          "state": {
            "_dom_classes": [],
            "_model_module": "@jupyter-widgets/controls",
            "_model_module_version": "1.5.0",
            "_model_name": "HTMLModel",
            "_view_count": null,
            "_view_module": "@jupyter-widgets/controls",
            "_view_module_version": "1.5.0",
            "_view_name": "HTMLView",
            "description": "",
            "description_tooltip": null,
            "layout": "IPY_MODEL_80cfb86ad81d4dd3a3aaa2057d07b2b0",
            "placeholder": "​",
            "style": "IPY_MODEL_a89a509da51a4677bcfe3d006bf3eeca",
            "value": " 1.39M/1.39M [00:00&lt;00:00, 10.5MB/s]"
          }
        },
        "ffaa23e549b249498846491b90630c7b": {
          "model_module": "@jupyter-widgets/controls",
          "model_module_version": "1.5.0",
          "model_name": "FloatProgressModel",
          "state": {
            "_dom_classes": [],
            "_model_module": "@jupyter-widgets/controls",
            "_model_module_version": "1.5.0",
            "_model_name": "FloatProgressModel",
            "_view_count": null,
            "_view_module": "@jupyter-widgets/controls",
            "_view_module_version": "1.5.0",
            "_view_name": "ProgressView",
            "bar_style": "success",
            "description": "",
            "description_tooltip": null,
            "layout": "IPY_MODEL_1c409b26c5904f64a5a56265bd294196",
            "max": 1206,
            "min": 0,
            "orientation": "horizontal",
            "style": "IPY_MODEL_14319dd852d14522ad980727b22fbda8",
            "value": 1206
          }
        }
      }
    }
  },
  "nbformat": 4,
  "nbformat_minor": 0
}
